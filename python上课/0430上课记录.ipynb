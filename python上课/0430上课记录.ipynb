{
 "cells": [
  {
   "cell_type": "markdown",
   "id": "59cdb554",
   "metadata": {},
   "source": [
    "# 质数"
   ]
  },
  {
   "cell_type": "code",
   "execution_count": 20,
   "id": "24be643c",
   "metadata": {},
   "outputs": [
    {
     "name": "stdout",
     "output_type": "stream",
     "text": [
      "最小值：1\n",
      "最大值：30\n",
      "[2, 3, 5, 7, 11, 13, 17, 19, 23, 29]\n",
      "None\n"
     ]
    }
   ],
   "source": [
    "min_num = int(input('最小值：'))\n",
    "max_num = int(input('最大值：'))\n",
    "\n",
    "def prime(min,max):\n",
    "    list1 = []\n",
    "    for i in range(min,max+1):\n",
    "        if i == 2:\n",
    "            list1.append(i)\n",
    "            pass\n",
    "        for j in range(2,i):\n",
    "            if i % j == 0:\n",
    "                break\n",
    "            elif j == i-1:\n",
    "                list1.append(i)\n",
    "    return list1\n"
   ]
  },
  {
   "cell_type": "markdown",
   "id": "74fe4919",
   "metadata": {},
   "source": [
    "# 三角形"
   ]
  },
  {
   "cell_type": "code",
   "execution_count": 23,
   "id": "ba40e446",
   "metadata": {},
   "outputs": [
    {
     "name": "stdout",
     "output_type": "stream",
     "text": [
      "10\n",
      "#\n",
      "##\n",
      "###\n",
      "####\n",
      "#####\n",
      "######\n",
      "#######\n",
      "########\n",
      "#########\n"
     ]
    }
   ],
   "source": [
    "rows = int(input())\n",
    "for i in range(1,rows):\n",
    "    print('#'*i)"
   ]
  },
  {
   "cell_type": "markdown",
   "id": "451325a3",
   "metadata": {},
   "source": [
    "# 金字塔"
   ]
  },
  {
   "cell_type": "code",
   "execution_count": 54,
   "id": "f457feeb",
   "metadata": {},
   "outputs": [
    {
     "name": "stdout",
     "output_type": "stream",
     "text": [
      "           *           \n",
      "          ***          \n",
      "         *****         \n",
      "        *******        \n",
      "       *********       \n",
      "      ***********      \n",
      "     *************     \n",
      "    ***************    \n",
      "   *****************   \n",
      "  *******************  \n",
      " ********************* \n"
     ]
    }
   ],
   "source": [
    "x = 10\n",
    "y = x\n",
    "for i in range(1,2*x+3,2):\n",
    "    print(' '*y,'*'*i,' '*y)\n",
    "    y -= 1"
   ]
  },
  {
   "cell_type": "markdown",
   "id": "2c81794c",
   "metadata": {},
   "source": [
    "# 菱形"
   ]
  },
  {
   "cell_type": "code",
   "execution_count": 51,
   "id": "7165452b",
   "metadata": {},
   "outputs": [
    {
     "name": "stdout",
     "output_type": "stream",
     "text": [
      "           *           \n",
      "          ***          \n",
      "         *****         \n",
      "        *******        \n",
      "       *********       \n",
      "      ***********      \n",
      "     *************     \n",
      "    ***************    \n",
      "   *****************   \n",
      "  *******************  \n",
      " ********************* \n",
      "  *******************  \n",
      "   *****************   \n",
      "    ***************    \n",
      "     *************     \n",
      "      ***********      \n",
      "       *********       \n",
      "        *******        \n",
      "         *****         \n",
      "          ***          \n",
      "           *           \n"
     ]
    }
   ],
   "source": [
    "x = 10\n",
    "y = x\n",
    "for i in range(1,2*x+3,2):\n",
    "    print(' '*y,'*'*i,' '*y)\n",
    "    y -= 1\n",
    "y = 1\n",
    "for i in range(2*x-1,0,-2):\n",
    "    print(' '*y,'*'*i,' '*y)\n",
    "    y += 1"
   ]
  },
  {
   "cell_type": "markdown",
   "id": "eaed0c71",
   "metadata": {},
   "source": [
    "# 杨辉三角\n",
    "1\n",
    "11\n",
    "121\n",
    "1331\n",
    "14641"
   ]
  },
  {
   "cell_type": "code",
   "execution_count": 68,
   "id": "86ee1ae6",
   "metadata": {},
   "outputs": [
    {
     "name": "stdout",
     "output_type": "stream",
     "text": [
      "[[1], [1, 1], [1, 2, 1], [1, 3, 3, 1], [1, 4, 6, 4, 1], [1, 5, 10, 10, 5, 1], [1, 6, 15, 20, 15, 6, 1], [1, 7, 21, 35, 35, 21, 7, 1], [1, 8, 28, 56, 70, 56, 28, 8, 1]]\n"
     ]
    }
   ],
   "source": [
    "list1 = []\n",
    "list2 = []\n",
    "list3 = []\n",
    "for n in range(9):\n",
    "    list1.append(1)\n",
    "    if n == 1:\n",
    "        list1.append(1)\n",
    "    elif n > 1:\n",
    "        for m in range(n-1):\n",
    "            i = list2[m]+list2[m+1]\n",
    "            list1.append(i)\n",
    "        list1.append(1)\n",
    "    list2 = list1[:]\n",
    "    list3.append(list2)\n",
    "    list1.clear()\n",
    "print(list3)"
   ]
  },
  {
   "cell_type": "code",
   "execution_count": null,
   "id": "a83a5f4a",
   "metadata": {},
   "outputs": [],
   "source": []
  }
 ],
 "metadata": {
  "kernelspec": {
   "display_name": "Python 3 (ipykernel)",
   "language": "python",
   "name": "python3"
  },
  "language_info": {
   "codemirror_mode": {
    "name": "ipython",
    "version": 3
   },
   "file_extension": ".py",
   "mimetype": "text/x-python",
   "name": "python",
   "nbconvert_exporter": "python",
   "pygments_lexer": "ipython3",
   "version": "3.10.2"
  }
 },
 "nbformat": 4,
 "nbformat_minor": 5
}
