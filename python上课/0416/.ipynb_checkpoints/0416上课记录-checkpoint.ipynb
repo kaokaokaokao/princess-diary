{
 "cells": [
  {
   "cell_type": "code",
   "execution_count": 5,
   "id": "f449314d",
   "metadata": {},
   "outputs": [
    {
     "name": "stdout",
     "output_type": "stream",
     "text": [
      "可口可乐\n"
     ]
    },
    {
     "data": {
      "text/plain": [
       "6"
      ]
     },
     "execution_count": 5,
     "metadata": {},
     "output_type": "execute_result"
    }
   ],
   "source": [
    "stock = [\"农夫山泉\",\"可口可乐\",\"水溶c100\",\"东方树叶\",\"尖叫\"]\n",
    "prices = [2,6,3,5,1]\n",
    "want = input()\n",
    "item = stock.index(want)\n",
    "prices[item]"
   ]
  },
  {
   "cell_type": "code",
   "execution_count": 1,
   "id": "f0cf89b7",
   "metadata": {},
   "outputs": [
    {
     "name": "stdout",
     "output_type": "stream",
     "text": [
      "['农夫山泉', '可口可乐', '水溶c100', '东方树叶', '尖叫']\n",
      "请输入您要购买的物品的名称 输入“清单”可以查询物品清单 输入“退出”可以结束购物尖叫\n",
      "尖叫的价格是：3\n",
      "您确定要购买吗？是\n",
      "请输入您要购买的物品的名称 输入“清单”可以查询物品清单 输入“退出”可以结束购物东方树叶\n",
      "东方树叶的价格是：7\n",
      "您确定要购买吗？可口可乐\n",
      "请输入您要购买的物品的名称 输入“清单”可以查询物品清单 输入“退出”可以结束购物东方树叶\n",
      "东方树叶的价格是：7\n",
      "您确定要购买吗？是\n",
      "请输入您要购买的物品的名称 输入“清单”可以查询物品清单 输入“退出”可以结束购物退出\n",
      "您的购物总金额是：10,谢谢光临！\n"
     ]
    }
   ],
   "source": [
    "# 库存，价格，清单，总价\n",
    "list1 = [\"农夫山泉\",\"可口可乐\",\"水溶c100\",\"东方树叶\",\"尖叫\"]\n",
    "stock = list1[:]\n",
    "prices = [2,3,5,7,3]\n",
    "total_price = 0\n",
    "print(list1)\n",
    "# while \n",
    "while True:\n",
    "    answer = input(\"请输入您要购买的物品的名称 输入“清单”可以查询物品清单 输入“退出”可以结束购物\")\n",
    "    # 清单 \n",
    "    if answer == \"清单\":\n",
    "        print(f\"当前贩卖机的物品清单为：{list1}\")\n",
    "    # 退出\n",
    "    elif answer == \"退出\":\n",
    "        print(f\"您的购物总金额是：{total_price},谢谢光临！\")\n",
    "        break\n",
    "    # else\n",
    "    else:\n",
    "        if answer in stock:\n",
    "            price = list1.index(answer)\n",
    "            print(f\"{answer}的价格是：{prices[price]}\")\n",
    "            confirm = input(\"您确定要购买吗？\")\n",
    "            if confirm == \"是\" or confirm == \"确定\":\n",
    "                total_price += prices[price]\n",
    "                stock.remove(answer)\n",
    "            elif confirm == \"否\" or confirm == \"不确定\":\n",
    "                pass\n",
    "        elif (answer not in stock) and (answer in list1):\n",
    "            print(\"非常抱歉，该物品已售罄\")\n",
    "        else:\n",
    "            print(\"请重新输入\")"
   ]
  },
  {
   "cell_type": "code",
   "execution_count": null,
   "id": "cb2c1c21",
   "metadata": {},
   "outputs": [],
   "source": []
  },
  {
   "cell_type": "code",
   "execution_count": null,
   "id": "03fa752f",
   "metadata": {},
   "outputs": [],
   "source": []
  }
 ],
 "metadata": {
  "kernelspec": {
   "display_name": "Python 3 (ipykernel)",
   "language": "python",
   "name": "python3"
  },
  "language_info": {
   "codemirror_mode": {
    "name": "ipython",
    "version": 3
   },
   "file_extension": ".py",
   "mimetype": "text/x-python",
   "name": "python",
   "nbconvert_exporter": "python",
   "pygments_lexer": "ipython3",
   "version": "3.10.2"
  }
 },
 "nbformat": 4,
 "nbformat_minor": 5
}
