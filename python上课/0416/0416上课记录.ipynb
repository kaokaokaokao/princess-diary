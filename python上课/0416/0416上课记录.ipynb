{
 "cells": [
  {
   "cell_type": "code",
   "execution_count": 5,
   "id": "b904f616",
   "metadata": {},
   "outputs": [
    {
     "name": "stdout",
     "output_type": "stream",
     "text": [
      "可口可乐\n"
     ]
    },
    {
     "data": {
      "text/plain": [
       "6"
      ]
     },
     "execution_count": 5,
     "metadata": {},
     "output_type": "execute_result"
    }
   ],
   "source": [
    "stock = [\"农夫山泉\",\"可口可乐\",\"水溶c100\",\"东方树叶\",\"尖叫\"]\n",
    "prices = [2,6,3,5,1]\n",
    "want = input()\n",
    "item = stock.index(want)\n",
    "prices[item]"
   ]
  },
  {
   "cell_type": "code",
   "execution_count": 1,
   "id": "7dcb6f34",
   "metadata": {},
   "outputs": [
    {
     "name": "stdout",
     "output_type": "stream",
     "text": [
      "['农夫山泉', '可口可乐', '水溶c100', '东方树叶', '尖叫']\n",
      "请输入您要购买的物品的名称 输入“清单”可以查询物品清单 输入“退出”可以结束购物尖叫\n",
      "尖叫的价格是：3\n",
      "您确定要购买吗？是\n",
      "请输入您要购买的物品的名称 输入“清单”可以查询物品清单 输入“退出”可以结束购物东方树叶\n",
      "东方树叶的价格是：7\n",
      "您确定要购买吗？可口可乐\n",
      "请输入您要购买的物品的名称 输入“清单”可以查询物品清单 输入“退出”可以结束购物东方树叶\n",
      "东方树叶的价格是：7\n",
      "您确定要购买吗？是\n",
      "请输入您要购买的物品的名称 输入“清单”可以查询物品清单 输入“退出”可以结束购物退出\n",
      "您的购物总金额是：10,谢谢光临！\n"
     ]
    }
   ],
   "source": [
    "# 库存，价格，清单，总价\n",
    "list1 = [\"农夫山泉\",\"可口可乐\",\"水溶c100\",\"东方树叶\",\"尖叫\"]\n",
    "stock = list1[:]\n",
    "prices = [2,3,5,7,3]\n",
    "total_price = 0\n",
    "print(list1)\n",
    "# while \n",
    "while True:\n",
    "    answer = input(\"请输入您要购买的物品的名称 输入“清单”可以查询物品清单 输入“退出”可以结束购物\")\n",
    "    # 清单 \n",
    "    if answer == \"清单\":\n",
    "        print(f\"当前贩卖机的物品清单为：{list1}\")\n",
    "    # 退出\n",
    "    elif answer == \"退出\":\n",
    "        print(f\"您的购物总金额是：{total_price},谢谢光临！\")\n",
    "        break\n",
    "    # else\n",
    "    else:\n",
    "        if answer in stock:\n",
    "            price = list1.index(answer)\n",
    "            print(f\"{answer}的价格是：{prices[price]}\")\n",
    "            confirm = input(\"您确定要购买吗？\")\n",
    "            if confirm == \"是\" or confirm == \"确定\":\n",
    "                total_price += prices[price]\n",
    "                stock.remove(answer)\n",
    "            elif confirm == \"否\" or confirm == \"不确定\":\n",
    "                pass\n",
    "        elif (answer not in stock) and (answer in list1):\n",
    "            print(\"非常抱歉，该物品已售罄\")\n",
    "        else:\n",
    "            print(\"请重新输入\")"
   ]
  },
  {
   "cell_type": "code",
   "execution_count": 4,
   "id": "bb829423",
   "metadata": {},
   "outputs": [
    {
     "name": "stdout",
     "output_type": "stream",
     "text": [
      "1\n",
      "6\n",
      "4\n",
      "6\n",
      "1\n",
      "4\n"
     ]
    }
   ],
   "source": [
    "for char in [1,6,4,6,1,4]:\n",
    "    print(char)"
   ]
  },
  {
   "cell_type": "code",
   "execution_count": 16,
   "id": "15b8a562",
   "metadata": {},
   "outputs": [
    {
     "name": "stdout",
     "output_type": "stream",
     "text": [
      "0\n",
      "1\n",
      "2\n",
      "3\n",
      "4\n",
      "5\n",
      "6\n",
      "7\n",
      "8\n",
      "9\n"
     ]
    }
   ],
   "source": [
    "for i in range(10):\n",
    "    print(i)"
   ]
  },
  {
   "cell_type": "code",
   "execution_count": 17,
   "id": "9d455f9e",
   "metadata": {},
   "outputs": [
    {
     "name": "stdout",
     "output_type": "stream",
     "text": [
      "36\n"
     ]
    }
   ],
   "source": [
    "prices = [2,5,1,7,3,8,10]\n",
    "total = 0\n",
    "for price in prices:\n",
    "    total += price\n",
    "print(total)"
   ]
  },
  {
   "cell_type": "code",
   "execution_count": 22,
   "id": "d055fac7",
   "metadata": {
    "scrolled": true
   },
   "outputs": [
    {
     "name": "stdout",
     "output_type": "stream",
     "text": [
      "#\r\n",
      "##\r\n",
      "###\r\n",
      "####\r\n"
     ]
    }
   ],
   "source": [
    "for x in range(1,5):\n",
    "    for y in range(1,x+1):\n",
    "        print(\"#\",end='')\n",
    "    print('\\n')"
   ]
  },
  {
   "cell_type": "code",
   "execution_count": 29,
   "id": "cd26460d",
   "metadata": {},
   "outputs": [
    {
     "name": "stdout",
     "output_type": "stream",
     "text": [
      "1 1\n",
      "2 1\n",
      "2 2\n",
      "3 1\n",
      "3 2\n",
      "3 3\n",
      "4 1\n",
      "4 2\n",
      "4 3\n",
      "4 4\n",
      "5 1\n",
      "5 2\n",
      "5 3\n",
      "5 4\n",
      "5 5\n",
      "6 1\n",
      "6 2\n",
      "6 3\n",
      "6 4\n",
      "6 5\n",
      "6 6\n"
     ]
    }
   ],
   "source": [
    "for x in range(1,7):\n",
    "    for y in range(1,x+1):\n",
    "        print(x,y)"
   ]
  },
  {
   "cell_type": "code",
   "execution_count": 35,
   "id": "97d33dcb",
   "metadata": {},
   "outputs": [
    {
     "name": "stdout",
     "output_type": "stream",
     "text": [
      "xxxxx\r\n",
      "xx\r\n",
      "xxxxx\r\n",
      "xx\r\n",
      "xx\r\n"
     ]
    }
   ],
   "source": [
    "numbers = [5,2,5,2,2]\n",
    "for number in numbers:\n",
    "    for times in range(number):\n",
    "        print(\"x\",end='')\n",
    "    print(\"\\r\")"
   ]
  },
  {
   "cell_type": "code",
   "execution_count": 36,
   "id": "97e19da2",
   "metadata": {},
   "outputs": [
    {
     "name": "stdout",
     "output_type": "stream",
     "text": [
      "10\n"
     ]
    }
   ],
   "source": [
    "numbers = [2,5,1,6,8,3,5,10]\n",
    "max = numbers[0]\n",
    "for number in numbers:\n",
    "    if number > max:\n",
    "        max = number\n",
    "print(max)"
   ]
  },
  {
   "cell_type": "code",
   "execution_count": 38,
   "id": "5839baf3",
   "metadata": {},
   "outputs": [
    {
     "name": "stdout",
     "output_type": "stream",
     "text": [
      "[2, 4, 1, 6, 5, 9, 8, 3]\n"
     ]
    }
   ],
   "source": [
    "list1 = [2,4,1,6,4,5,2,9,6,8,8,3,6,1]\n",
    "list2 = []\n",
    "for item in list1:\n",
    "    if item not in list2:\n",
    "        list2.append(item)\n",
    "print(list2)"
   ]
  },
  {
   "cell_type": "code",
   "execution_count": null,
   "id": "b6eda0c3",
   "metadata": {},
   "outputs": [],
   "source": []
  }
 ],
 "metadata": {
  "kernelspec": {
   "display_name": "Python 3 (ipykernel)",
   "language": "python",
   "name": "python3"
  },
  "language_info": {
   "codemirror_mode": {
    "name": "ipython",
    "version": 3
   },
   "file_extension": ".py",
   "mimetype": "text/x-python",
   "name": "python",
   "nbconvert_exporter": "python",
   "pygments_lexer": "ipython3",
   "version": "3.10.2"
  }
 },
 "nbformat": 4,
 "nbformat_minor": 5
}
