{
 "cells": [
  {
   "cell_type": "markdown",
   "id": "810295e0",
   "metadata": {},
   "source": [
    "# 字典\n"
   ]
  },
  {
   "cell_type": "code",
   "execution_count": 4,
   "id": "05c53f81",
   "metadata": {},
   "outputs": [
    {
     "data": {
      "text/plain": [
       "{'math': 80, 'english': 95, 'physics': 78}"
      ]
     },
     "execution_count": 4,
     "metadata": {},
     "output_type": "execute_result"
    }
   ],
   "source": [
    "list1 = [80,95,78]\n",
    "dict1 = {'math':80,'english':95,'physics':78}\n",
    "dict1"
   ]
  },
  {
   "cell_type": "code",
   "execution_count": 2,
   "id": "0046aae6",
   "metadata": {},
   "outputs": [
    {
     "data": {
      "text/plain": [
       "95"
      ]
     },
     "execution_count": 2,
     "metadata": {},
     "output_type": "execute_result"
    }
   ],
   "source": [
    "dict1['english']"
   ]
  },
  {
   "cell_type": "code",
   "execution_count": 5,
   "id": "a164091a",
   "metadata": {},
   "outputs": [
    {
     "data": {
      "text/plain": [
       "[80, 100, 78]"
      ]
     },
     "execution_count": 5,
     "metadata": {},
     "output_type": "execute_result"
    }
   ],
   "source": [
    "list1[1] = 100\n",
    "list1"
   ]
  },
  {
   "cell_type": "code",
   "execution_count": 7,
   "id": "cadc6197",
   "metadata": {},
   "outputs": [
    {
     "data": {
      "text/plain": [
       "{'math': 80, 'english': 100, 'physics': 78}"
      ]
     },
     "execution_count": 7,
     "metadata": {},
     "output_type": "execute_result"
    }
   ],
   "source": [
    "dict1['english'] = 100\n",
    "dict1"
   ]
  },
  {
   "cell_type": "code",
   "execution_count": 8,
   "id": "36ed4e30",
   "metadata": {},
   "outputs": [
    {
     "data": {
      "text/plain": [
       "{'math': 80, 'english': 100, 'physics': 78, 'chemistry': 86}"
      ]
     },
     "execution_count": 8,
     "metadata": {},
     "output_type": "execute_result"
    }
   ],
   "source": [
    "dict1['chemistry'] = 86\n",
    "dict1"
   ]
  },
  {
   "cell_type": "code",
   "execution_count": 9,
   "id": "2480f746",
   "metadata": {},
   "outputs": [
    {
     "data": {
      "text/plain": [
       "{'math': 80, 'english': 100, 'chemistry': 86}"
      ]
     },
     "execution_count": 9,
     "metadata": {},
     "output_type": "execute_result"
    }
   ],
   "source": [
    "del dict1['physics']\n",
    "dict1"
   ]
  },
  {
   "cell_type": "code",
   "execution_count": 11,
   "id": "b77d9dd8",
   "metadata": {},
   "outputs": [
    {
     "name": "stdout",
     "output_type": "stream",
     "text": [
      "{'农夫山泉': 2, '可口可乐': 5, '水溶c100': 6, '东方树叶': 5, '尖叫': 4}\n",
      "请输入您要购买的物品的名称 输入“清单”可以查询物品清单 输入“退出”可以结束购物 \n",
      "可口可乐\n",
      "可口可乐的价格是: 5\n",
      "您确定要购买吗  是\n",
      "请输入您要购买的物品的名称 输入“清单”可以查询物品清单 输入“退出”可以结束购物 \n",
      "退出\n",
      "您的购物总金额是: 5, 谢谢光临！\n"
     ]
    }
   ],
   "source": [
    "stock = {\"农夫山泉\":2,\"可口可乐\":5,\"水溶c100\":6,\"东方树叶\":5,\"尖叫\":4}\n",
    "actual_stock = stock\n",
    "total_price = 0\n",
    "print(stock)\n",
    "while True:\n",
    "  customer = input(\"请输入您要购买的物品的名称 输入“清单”可以查询物品清单 输入“退出”可以结束购物 \\n\")\n",
    "  if customer == \"清单\":\n",
    "    print(f\"当前贩卖机售卖的物品为: {stock} \\n\")\n",
    "  elif customer == \"退出\":\n",
    "    print(f\"您的购物总金额是: {total_price}, 谢谢光临！\")\n",
    "    break\n",
    "  else:\n",
    "    if customer in actual_stock:\n",
    "      print(f\"{customer}的价格是: {stock[customer]}\")\n",
    "      confirm = input(\"您确定要购买吗  \")\n",
    "      if confirm == \"是\":\n",
    "        total_price += stock[customer]\n",
    "        del actual_stock[customer]\n",
    "      elif confirm == \"否\":\n",
    "        pass\n",
    "    elif customer not in actual_stock and customer in stock:\n",
    "      print(\"非常抱歉，该物品已售罄\")\n",
    "    else:\n",
    "      print(\"请重新输入\")"
   ]
  },
  {
   "cell_type": "code",
   "execution_count": 17,
   "id": "b4a5dd1a",
   "metadata": {},
   "outputs": [
    {
     "name": "stdout",
     "output_type": "stream",
     "text": [
      "输入一串数字: hukeer\n",
      "您的输入有误\n",
      "None 您的输入有误\n",
      "None 您的输入有误\n",
      "None 您的输入有误\n",
      "None 您的输入有误\n",
      "None 您的输入有误\n",
      "None "
     ]
    }
   ],
   "source": [
    "dict2 = {'0':'Zero','1':'One','2':'Two','3':'Three','4':'Four','5':'Five','6':'Six','7':'Seven','8':'Eight','9':'Nine'}\n",
    "num = input('输入一串数字: ')\n",
    "for number in num:\n",
    "    print(dict2.get(number,print('您的输入有误')),end=' ')"
   ]
  },
  {
   "cell_type": "code",
   "execution_count": 24,
   "id": "2cf52e6a",
   "metadata": {},
   "outputs": [
    {
     "data": {
      "text/plain": [
       "['q', 'w', 'e', 'r t y u i']"
      ]
     },
     "execution_count": 24,
     "metadata": {},
     "output_type": "execute_result"
    }
   ],
   "source": [
    "str1 = 'q,w,e,r t y u i'\n",
    "new = str1.split(',')\n",
    "new"
   ]
  },
  {
   "cell_type": "code",
   "execution_count": 32,
   "id": "97aa9bc4",
   "metadata": {},
   "outputs": [
    {
     "name": "stdout",
     "output_type": "stream",
     "text": [
      "what's your name?hukeer\n",
      "hello hukeer\n"
     ]
    }
   ],
   "source": [
    "name = input(\"what's your name?\")\n",
    "\n",
    "def you(yourname):\n",
    "    str1 = 'hello ' + name\n",
    "    return str1\n",
    "\n",
    "print(you(name))\n"
   ]
  },
  {
   "cell_type": "code",
   "execution_count": 33,
   "id": "5f721b10",
   "metadata": {},
   "outputs": [
    {
     "name": "stdout",
     "output_type": "stream",
     "text": [
      "您是否在48小时之内进行过核酸检测？请回答是或否 是\n",
      "很好，继续保持！\n",
      "您上一次核酸检测的结果是？请回答阴性或阳性 否\n"
     ]
    }
   ],
   "source": [
    "def covid():\n",
    "    answer1 = input(\"您是否在48小时之内进行过核酸检测？请回答是或否 \")\n",
    "    if answer1 == '是':\n",
    "        print('很好，继续保持！')\n",
    "        answer2 = input(\"您上一次核酸检测的结果是？请回答阴性或阳性 \")\n",
    "        if answer2 == '阴性':\n",
    "            print('很好，继续保持！')\n",
    "        elif answer2 == '阳性':\n",
    "            print('快去隔离！')\n",
    "    elif answer1 == '否':\n",
    "        answer3 = input('您上一次进行核酸检测的日期是？请回答**月**日')\n",
    "        month = int(answer3[:2])\n",
    "        date = int(answer3[3:5])\n",
    "        DateOfToday = 93\n",
    "        if month == 1:\n",
    "            day = DateOfToday - date\n",
    "        elif month == 2:\n",
    "            day = DateOfToday - (31 + date)\n",
    "        elif month == 3:\n",
    "            day = DateOfToday - (31 + 28 + date)\n",
    "        elif month == 4:\n",
    "            day = DateOfToday - (31 + 28 + 31 + date)\n",
    "        if day <= 2:\n",
    "            print('您已经在两天内进行过核酸检测。')\n",
    "            answer4 = input(\"您上一次核酸检测的结果是？请回答阴性或阳性 \")\n",
    "            if answer4 == '阴性':\n",
    "                print('很好，继续保持！')\n",
    "            elif answer4 == '阳性':\n",
    "                print('快去隔离！')\n",
    "        elif day > 2:\n",
    "            print(f'您已{day}天未进行核酸检测，请及时前往采样点检测。')\n",
    "covid()"
   ]
  },
  {
   "cell_type": "code",
   "execution_count": 34,
   "id": "143928a7",
   "metadata": {},
   "outputs": [
    {
     "name": "stdout",
     "output_type": "stream",
     "text": [
      "您是否在48小时之内进行过核酸检测？请回答是或否 否\n",
      "您上一次进行核酸检测的日期是？请回答**月**日04月01日\n",
      "您已经在两天内进行过核酸检测。\n",
      "您上一次核酸检测的结果是？请回答阴性或阳性 阴性\n",
      "很好，继续保持！\n"
     ]
    }
   ],
   "source": [
    "covid()"
   ]
  },
  {
   "cell_type": "code",
   "execution_count": 35,
   "id": "6304f280",
   "metadata": {},
   "outputs": [],
   "source": [
    "def vending_machine():\n",
    "    stock = {\"农夫山泉\":2,\"可口可乐\":5,\"水溶c100\":6,\"东方树叶\":5,\"尖叫\":4}\n",
    "    actual_stock = stock\n",
    "    total_price = 0\n",
    "    print(stock)\n",
    "    while True:\n",
    "      customer = input(\"请输入您要购买的物品的名称 输入“清单”可以查询物品清单 输入“退出”可以结束购物 \\n\")\n",
    "      if customer == \"清单\":\n",
    "        print(f\"当前贩卖机售卖的物品为: {stock} \\n\")\n",
    "      elif customer == \"退出\":\n",
    "        print(f\"您的购物总金额是: {total_price}, 谢谢光临！\")\n",
    "        break\n",
    "      else:\n",
    "        if customer in actual_stock:\n",
    "          print(f\"{customer}的价格是: {stock[customer]}\")\n",
    "          confirm = input(\"您确定要购买吗  \")\n",
    "          if confirm == \"是\":\n",
    "            total_price += stock[customer]\n",
    "            del actual_stock[customer]\n",
    "          elif confirm == \"否\":\n",
    "            pass\n",
    "        elif customer not in actual_stock and customer in stock:\n",
    "          print(\"非常抱歉，该物品已售罄\")\n",
    "        else:\n",
    "          print(\"请重新输入\")"
   ]
  },
  {
   "cell_type": "code",
   "execution_count": 36,
   "id": "a803a965",
   "metadata": {},
   "outputs": [
    {
     "name": "stdout",
     "output_type": "stream",
     "text": [
      "{'农夫山泉': 2, '可口可乐': 5, '水溶c100': 6, '东方树叶': 5, '尖叫': 4}\n",
      "请输入您要购买的物品的名称 输入“清单”可以查询物品清单 输入“退出”可以结束购物 \n",
      "退出\n",
      "您的购物总金额是: 0, 谢谢光临！\n"
     ]
    }
   ],
   "source": [
    "vending_machine()"
   ]
  },
  {
   "cell_type": "code",
   "execution_count": 42,
   "id": "077c4d06",
   "metadata": {},
   "outputs": [
    {
     "name": "stdout",
     "output_type": "stream",
     "text": [
      "--- 商品信息 ---\n",
      "1 面包 7 5\n",
      "2 牛奶 3 10\n",
      "3 香蕉 1 12\n",
      "4 大米 2 98\n",
      "本次购物总价为273元\n"
     ]
    }
   ],
   "source": [
    "goods = [\n",
    "    {\"name\": \"面包\", \"mount\": 7, \"price\": 5},\n",
    "    {\"name\": \"牛奶\", \"mount\": 3, \"price\": 10},\n",
    "    {\"name\": \"香蕉\", \"mount\": 1, \"price\": 12},\n",
    "    {\"name\": \"大米\", \"mount\": 2, \"price\": 98}\n",
    "    ]\n",
    "\n",
    "def showGoods(x):\n",
    "    print('--- 商品信息 ---')\n",
    "    total = 0\n",
    "    for item in goods:\n",
    "        total += item[\"mount\"] * item[\"price\"]\n",
    "        print(goods.index(item)+1,item['name'],item[\"mount\"],item[\"price\"])\n",
    "    print(f'本次购物总价为{total}元')\n",
    "\n",
    "showGoods(goods)"
   ]
  },
  {
   "cell_type": "code",
   "execution_count": null,
   "id": "3e5dfd4a",
   "metadata": {},
   "outputs": [],
   "source": [
    "\n",
    "# 定义一个函数，用户需要多少行的杨辉三角，就打多少行\n",
    "# 定义一个函数，询问用户最小值和最大值，质数"
   ]
  }
 ],
 "metadata": {
  "kernelspec": {
   "display_name": "Python 3 (ipykernel)",
   "language": "python",
   "name": "python3"
  },
  "language_info": {
   "codemirror_mode": {
    "name": "ipython",
    "version": 3
   },
   "file_extension": ".py",
   "mimetype": "text/x-python",
   "name": "python",
   "nbconvert_exporter": "python",
   "pygments_lexer": "ipython3",
   "version": "3.10.2"
  }
 },
 "nbformat": 4,
 "nbformat_minor": 5
}
