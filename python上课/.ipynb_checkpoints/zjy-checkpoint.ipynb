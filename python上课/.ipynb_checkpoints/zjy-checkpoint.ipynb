{
 "cells": [
  {
   "cell_type": "code",
   "execution_count": 10,
   "id": "c09d0d59",
   "metadata": {},
   "outputs": [
    {
     "name": "stdout",
     "output_type": "stream",
     "text": [
      "半径为:7 高为:5 体积为:769.69\n"
     ]
    }
   ],
   "source": [
    "import random as rd\n",
    "import math as mt\n",
    "radius = random.randint(1,9)\n",
    "height = random.randint(1,9)\n",
    "space = math.pi*(radius**2)\n",
    "volume = round(space*height,2)\n",
    "print(\"半径为:\",radius,\" 高为:\",height,\" 体积为:\",volume,sep=\"\")"
   ]
  },
  {
   "cell_type": "code",
   "execution_count": 13,
   "id": "021d38ab",
   "metadata": {},
   "outputs": [
    {
     "name": "stdout",
     "output_type": "stream",
     "text": [
      "给老子一个年份！2004\n",
      "fine,是闰年又怎样\n"
     ]
    }
   ],
   "source": [
    "yeahhh = int(input(\"给老子一个年份！\"))\n",
    "if yeahhh % 4 == 0:\n",
    "    if yeahhh % 100 == 0 and yeahhh % 400 != 0:\n",
    "        print(\"滚蛋吧，不是闰年\")\n",
    "    else:\n",
    "        print(\"fine,是闰年又怎样\")\n",
    "else:\n",
    "    print(\"滚蛋吧，不是闰年\")"
   ]
  },
  {
   "cell_type": "code",
   "execution_count": 22,
   "id": "cef9f2a8",
   "metadata": {},
   "outputs": [
    {
     "name": "stdout",
     "output_type": "stream",
     "text": [
      "第一个数！！！！！7\n",
      "第二个数！！！！！5\n",
      "第三个数！！！！！9\n",
      "[5, 7, 9]\n",
      "9\n"
     ]
    }
   ],
   "source": [
    "n1 = int(input(\"第一个数！！！！！\"))\n",
    "n2 = int(input(\"第二个数！！！！！\"))\n",
    "n3 = int(input(\"第三个数！！！！！\"))\n",
    "list1 = [n1,n2,n3] \n",
    "list2 = []\n",
    "for s in range(len(list1)):\n",
    "    j = s\n",
    "    while j > 0 and list1[s] < list2[j-1]:\n",
    "      j -= 1\n",
    "    else:\n",
    "      list2.insert(j,list1[s])\n",
    "print(list2)\n",
    "print(list2[-1])"
   ]
  },
  {
   "cell_type": "code",
   "execution_count": 4,
   "id": "8addff76",
   "metadata": {},
   "outputs": [
    {
     "name": "stdout",
     "output_type": "stream",
     "text": [
      "A:90 B:71\n",
      "两数之和？161\n",
      "A:86 B:20\n",
      "两数之和？106\n",
      "A:81 B:17\n",
      "两数之和？96\n",
      "A:70 B:34\n",
      "两数之和？104\n",
      "A:34 B:96\n",
      "两数之和？130\n",
      "闯关成功\n"
     ]
    }
   ],
   "source": [
    "import random\n",
    "score = 0\n",
    "print('闯关开始了哟～哟哟哟哟～')\n",
    "for i in range(5):\n",
    "    A = random.randint(0,100)\n",
    "    B = random.randint(0,100)\n",
    "    print(f\"第一个数:{A} 第二个数:{B}\")\n",
    "    result = A + B\n",
    "    answer = int(input('两数之和是：'))\n",
    "    if answer == result:\n",
    "        score += 1\n",
    "percentage = score/5\n",
    "if percentage >= 0.8:\n",
    "    print('闯关成功')\n",
    "else:\n",
    "    print('闯关失败')"
   ]
  },
  {
   "cell_type": "code",
   "execution_count": 14,
   "id": "d133452a",
   "metadata": {},
   "outputs": [
    {
     "name": "stdout",
     "output_type": "stream",
     "text": [
      "输入一个姓名：胡珂儿\n",
      "胡*儿\n"
     ]
    }
   ],
   "source": [
    "name = input('输入一个姓名：')\n",
    "try:\n",
    "    result = name.replace(name[1],'*')\n",
    "    print(result)\n",
    "except IndexError:\n",
    "    print('IndexError')"
   ]
  },
  {
   "cell_type": "code",
   "execution_count": null,
   "id": "9a3b9162",
   "metadata": {},
   "outputs": [],
   "source": []
  }
 ],
 "metadata": {
  "kernelspec": {
   "display_name": "Python 3 (ipykernel)",
   "language": "python",
   "name": "python3"
  },
  "language_info": {
   "codemirror_mode": {
    "name": "ipython",
    "version": 3
   },
   "file_extension": ".py",
   "mimetype": "text/x-python",
   "name": "python",
   "nbconvert_exporter": "python",
   "pygments_lexer": "ipython3",
   "version": "3.10.2"
  }
 },
 "nbformat": 4,
 "nbformat_minor": 5
}
