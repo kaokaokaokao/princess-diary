{
 "cells": [
  {
   "cell_type": "code",
   "execution_count": 11,
   "id": "9a65e651",
   "metadata": {},
   "outputs": [
    {
     "name": "stdout",
     "output_type": "stream",
     "text": [
      "number please0\n",
      "dont input zero\n"
     ]
    }
   ],
   "source": [
    "try:\n",
    "    answer = int(input('number please'))\n",
    "    new = 10/answer\n",
    "except ValueError:\n",
    "    print('input number please')\n",
    "except ZeroDivisionError:\n",
    "    print('dont input zero')\n",
    "else:\n",
    "    for i in range(5):\n",
    "        for j in range(i):\n",
    "            print('#', end=\"\")\n",
    "        print(\"\\r\")"
   ]
  },
  {
   "cell_type": "code",
   "execution_count": 12,
   "id": "445649fd",
   "metadata": {},
   "outputs": [
    {
     "data": {
      "text/plain": [
       "[0, 2, 10]"
      ]
     },
     "execution_count": 12,
     "metadata": {},
     "output_type": "execute_result"
    }
   ],
   "source": [
    "list1 = [0,2,5]\n",
    "list1[2]=10\n",
    "list1"
   ]
  },
  {
   "cell_type": "code",
   "execution_count": 13,
   "id": "19078091",
   "metadata": {},
   "outputs": [
    {
     "data": {
      "text/plain": [
       "{1: 15, 2: 20, 3: 30}"
      ]
     },
     "execution_count": 13,
     "metadata": {},
     "output_type": "execute_result"
    }
   ],
   "source": [
    "dict1 = {1:10,2:20,3:30}\n",
    "dict1[1] = 15\n",
    "dict1"
   ]
  },
  {
   "cell_type": "markdown",
   "id": "f75cebff",
   "metadata": {},
   "source": [
    "# 元组 tuple"
   ]
  },
  {
   "cell_type": "code",
   "execution_count": 15,
   "id": "6f102ea5",
   "metadata": {},
   "outputs": [
    {
     "data": {
      "text/plain": [
       "(2, 5)"
      ]
     },
     "execution_count": 15,
     "metadata": {},
     "output_type": "execute_result"
    }
   ],
   "source": [
    "tup1 = (2,5,8,'hahaha')\n",
    "tup1[:2]"
   ]
  },
  {
   "cell_type": "code",
   "execution_count": 20,
   "id": "75848629",
   "metadata": {},
   "outputs": [],
   "source": [
    "tup2 = (10,20,30)\n",
    "tup3 = tup1 + tup2\n",
    "del tup1"
   ]
  },
  {
   "cell_type": "markdown",
   "id": "c50ff4ef",
   "metadata": {},
   "source": [
    "①②③④\n",
    "0 7 8 2\n",
    "1A\n",
    "5 7 4 1\n",
    "1B\n",
    "7 5 4 1"
   ]
  },
  {
   "cell_type": "markdown",
   "id": "0224ca82",
   "metadata": {},
   "source": [
    "# random 模块"
   ]
  },
  {
   "cell_type": "code",
   "execution_count": 22,
   "id": "1eafb82f",
   "metadata": {},
   "outputs": [],
   "source": [
    "import random"
   ]
  },
  {
   "cell_type": "code",
   "execution_count": 25,
   "id": "b94984e3",
   "metadata": {},
   "outputs": [
    {
     "data": {
      "text/plain": [
       "0.8978183458528847"
      ]
     },
     "execution_count": 25,
     "metadata": {},
     "output_type": "execute_result"
    }
   ],
   "source": [
    "random.random() # 随机生成一个浮点数[0,1)"
   ]
  },
  {
   "cell_type": "code",
   "execution_count": 27,
   "id": "870ccb84",
   "metadata": {},
   "outputs": [
    {
     "data": {
      "text/plain": [
       "4"
      ]
     },
     "execution_count": 27,
     "metadata": {},
     "output_type": "execute_result"
    }
   ],
   "source": [
    "random.randint(0,9) # 随机生成一个整数[a,b]"
   ]
  },
  {
   "cell_type": "code",
   "execution_count": 30,
   "id": "8a16d87a",
   "metadata": {},
   "outputs": [
    {
     "data": {
      "text/plain": [
       "['Japanese', 'python', 'english']"
      ]
     },
     "execution_count": 30,
     "metadata": {},
     "output_type": "execute_result"
    }
   ],
   "source": [
    "random.choice(['python','math','english'])\n",
    "random.choices(['python','math','english','chemistry','Japanese'],k=3)"
   ]
  },
  {
   "cell_type": "code",
   "execution_count": 31,
   "id": "2729d9c7",
   "metadata": {},
   "outputs": [
    {
     "data": {
      "text/plain": [
       "4.060373134485381"
      ]
     },
     "execution_count": 31,
     "metadata": {},
     "output_type": "execute_result"
    }
   ],
   "source": [
    "random.uniform(1.1,5.4) # 随机生成一个给定区间内的浮点数，区间可以不是整数"
   ]
  },
  {
   "cell_type": "code",
   "execution_count": 33,
   "id": "f450f1fc",
   "metadata": {},
   "outputs": [
    {
     "data": {
      "text/plain": [
       "77"
      ]
     },
     "execution_count": 33,
     "metadata": {},
     "output_type": "execute_result"
    }
   ],
   "source": [
    "random.randrange(1,100,2)"
   ]
  },
  {
   "cell_type": "code",
   "execution_count": null,
   "id": "94be5017",
   "metadata": {},
   "outputs": [],
   "source": []
  }
 ],
 "metadata": {
  "kernelspec": {
   "display_name": "Python 3 (ipykernel)",
   "language": "python",
   "name": "python3"
  },
  "language_info": {
   "codemirror_mode": {
    "name": "ipython",
    "version": 3
   },
   "file_extension": ".py",
   "mimetype": "text/x-python",
   "name": "python",
   "nbconvert_exporter": "python",
   "pygments_lexer": "ipython3",
   "version": "3.10.2"
  }
 },
 "nbformat": 4,
 "nbformat_minor": 5
}
