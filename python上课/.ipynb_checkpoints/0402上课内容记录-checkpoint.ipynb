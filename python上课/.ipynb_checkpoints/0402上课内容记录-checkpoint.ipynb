{
 "cells": [
  {
   "cell_type": "markdown",
   "id": "ba122090",
   "metadata": {},
   "source": [
    "# print() 函数\n",
    "- 如果只有一个参数则括号中的内容为print的内容\n",
    "- 如果括号中是变量名，则打印的内容为变量中储存的内容\n",
    "- 格式化字符串f\"{name}\""
   ]
  },
  {
   "cell_type": "code",
   "execution_count": 1,
   "id": "aec961ac",
   "metadata": {},
   "outputs": [
    {
     "name": "stdout",
     "output_type": "stream",
     "text": [
      "胡珂儿\n"
     ]
    }
   ],
   "source": [
    "name = \"胡珂儿\"\n",
    "print(name)"
   ]
  },
  {
   "cell_type": "code",
   "execution_count": 3,
   "id": "beb92ef6",
   "metadata": {},
   "outputs": [
    {
     "name": "stdout",
     "output_type": "stream",
     "text": [
      "胡珂儿\n"
     ]
    }
   ],
   "source": [
    "print(f'{name}')"
   ]
  },
  {
   "cell_type": "markdown",
   "id": "ce986f42",
   "metadata": {},
   "source": [
    "# 变量 variable\n",
    "- 变量就是一个储存东西的容器，可以用于储存各种类型的内容\n",
    "- 变量的名字除了规定的一些禁用词不能使用之外，可以自定义；不过一般建议取名与储存的内容有关，便于之后理解"
   ]
  },
  {
   "cell_type": "code",
   "execution_count": 5,
   "id": "1dc941e7",
   "metadata": {},
   "outputs": [
    {
     "name": "stdout",
     "output_type": "stream",
     "text": [
      "402\n"
     ]
    }
   ],
   "source": [
    "number = 401\n",
    "number = 402\n",
    "print(number)# 逐行读取原则"
   ]
  },
  {
   "cell_type": "markdown",
   "id": "d861e27c",
   "metadata": {},
   "source": [
    "# 类型 type\n",
    "数值：\n",
    "- 整数 integer 简称 int\n",
    "- 浮点数（小数）floating point number 简称 float\n",
    "\n",
    "布尔值boolean 简称 bool（首字母大写）：\n",
    "- True\n",
    "- False\n",
    "\n",
    "字符串 string 简称 str：\n",
    "- 可以用加号(+)来拼接两个字符串\n",
    "\n",
    "## 类型判断\n",
    "- 使用type()函数来判断类型\n",
    "\n",
    "## 类型转换\n",
    "- 使用int();float();bool();str()来转换类型"
   ]
  },
  {
   "cell_type": "code",
   "execution_count": 6,
   "id": "57bc55b7",
   "metadata": {},
   "outputs": [
    {
     "name": "stdout",
     "output_type": "stream",
     "text": [
      "your birth year?2003\n",
      "<class 'str'>\n",
      "19\n"
     ]
    }
   ],
   "source": [
    "year = input(\"your birth year?\")\n",
    "print(type(year))\n",
    "nianling = 2022 - int(year)\n",
    "print(nianling)"
   ]
  },
  {
   "cell_type": "markdown",
   "id": "9bb36f1a",
   "metadata": {},
   "source": [
    "# input() 函数\n",
    "- 用于接收来自用户的输入\n",
    "- 括号中的内容用于提示用户需要输入的内容\n",
    "- 无论用户输入的是什么内容，函数的输出值为字符串类型，用于后续操作可能需要进行类型转换"
   ]
  },
  {
   "cell_type": "markdown",
   "id": "f074f157",
   "metadata": {},
   "source": [
    "# 字符串的切割\n",
    "- 使用[ ]来达到切割字符串的目的\n",
    "- 使用[a:b]来切割一段字符串，其中a可以取到，b不可以取到，即前闭后开区间\n",
    "- 如果冒号的前或后（或both）没有数字，则会从字符串的最前开始取或一直取到最后（包括最后一个）\n",
    "- 如果[ ]中的值为负数，则是从后往前数的"
   ]
  },
  {
   "cell_type": "code",
   "execution_count": 7,
   "id": "b012bb20",
   "metadata": {},
   "outputs": [
    {
     "name": "stdout",
     "output_type": "stream",
     "text": [
      "on course for Begi\n"
     ]
    }
   ],
   "source": [
    "string = 'Python course for Beginners'\n",
    "string2 = string[4:-5]# 前闭后开\n",
    "print(string2)"
   ]
  },
  {
   "cell_type": "markdown",
   "id": "7c21c8ec",
   "metadata": {},
   "source": [
    "# 运算符\n",
    "### +  -  *  /  ==  !=  >  <  //  **  %\n",
    "\n",
    "需要能够分辨这些符号的意思\n",
    "\n",
    "从左到右依次为：加，减，乘，除，等于，不等于，大于，小于，取商，幂运算，取余"
   ]
  },
  {
   "cell_type": "markdown",
   "id": "4c8dbc7d",
   "metadata": {},
   "source": [
    "# if 条件句\n",
    "- 开门原则，进入一个门之后则不能再进入其他的并列的门\n",
    "- if的条件要用冒号来引导对应条件下要进行的操作，并且要有缩进\n",
    "- if 条件句可以没有elif，也可以没有else"
   ]
  },
  {
   "cell_type": "code",
   "execution_count": 8,
   "id": "d7b5651e",
   "metadata": {},
   "outputs": [
    {
     "name": "stdout",
     "output_type": "stream",
     "text": [
      "It's a hot day!\n"
     ]
    }
   ],
   "source": [
    "is_hot = True\n",
    "is_cold = False\n",
    "if is_hot == True:\n",
    "  print(\"It's a hot day!\")\n",
    "elif is_cold == True: #else if\n",
    "  print(\"It's a cold day!\")\n",
    "else:\n",
    "  print(\"It's a lovely day!\")"
   ]
  },
  {
   "cell_type": "markdown",
   "id": "7890051f",
   "metadata": {},
   "source": [
    "# 作业\n",
    "### 写一个程序，询问用户是否在48h内进行过核酸检测，\n",
    "### 若是，则print“很好，继续保持”，并询问核酸结果，\n",
    "### 若为阳性，则print“快去隔离!”，若为阴性，则print“很好,继续保持!”；\n",
    "### 若否，则询问上次检测时间，并计算距离今天的天数，\n",
    "### 若小于两天，则print“您已在两天内做过核酸”，并询问核酸结果，执行之前阴阳的语句，若大于两天，则print“您已…天未做核酸,请及时前往来样点检测”"
   ]
  },
  {
   "cell_type": "code",
   "execution_count": 6,
   "id": "55b792d0",
   "metadata": {},
   "outputs": [
    {
     "name": "stdout",
     "output_type": "stream",
     "text": [
      "您是否在48小时之内进行过核酸检测？请回答是或否 否\n",
      "您上一次进行核酸检测的日期是？请回答**月**日04月02日\n",
      "您已经在两天内进行过核酸检测。\n",
      "您上一次核酸检测的结果是？请回答阴性或阳性 阴性\n",
      "很好，继续保持！\n"
     ]
    }
   ],
   "source": [
    "#参考答案\n",
    "answer1 = input(\"您是否在48小时之内进行过核酸检测？请回答是或否 \")\n",
    "if answer1 == '是':\n",
    "    print('很好，继续保持！')\n",
    "    answer2 = input(\"您上一次核酸检测的结果是？请回答阴性或阳性 \")\n",
    "    if answer2 == '阴性':\n",
    "        print('很好，继续保持！')\n",
    "    elif answer2 == '阳性':\n",
    "        print('快去隔离！')\n",
    "elif answer1 == '否':\n",
    "    answer3 = input('您上一次进行核酸检测的日期是？请回答**月**日')\n",
    "    month = int(answer3[:2])\n",
    "    date = int(answer3[3:5])\n",
    "    DateOfToday = 93\n",
    "    if month == 1:\n",
    "        day = DateOfToday - date\n",
    "    elif month == 2:\n",
    "        day = DateOfToday - (31 + date)\n",
    "    elif month == 3:\n",
    "        day = DateOfToday - (31 + 28 + date)\n",
    "    elif month == 4:\n",
    "        day = DateOfToday - (31 + 28 + 31 + date)\n",
    "    if day <= 2:\n",
    "        print('您已经在两天内进行过核酸检测。')\n",
    "        answer4 = input(\"您上一次核酸检测的结果是？请回答阴性或阳性 \")\n",
    "        if answer4 == '阴性':\n",
    "            print('很好，继续保持！')\n",
    "        elif answer4 == '阳性':\n",
    "            print('快去隔离！')\n",
    "    elif day > 2:\n",
    "        print(f'您已{day}天未进行核酸检测，请及时前往采样点检测。')"
   ]
  },
  {
   "cell_type": "code",
   "execution_count": null,
   "id": "3fa3e234",
   "metadata": {},
   "outputs": [],
   "source": []
  },
  {
   "cell_type": "code",
   "execution_count": null,
   "id": "5cd88ef3",
   "metadata": {},
   "outputs": [],
   "source": []
  }
 ],
 "metadata": {
  "kernelspec": {
   "display_name": "Python 3.10.2 64-bit",
   "language": "python",
   "name": "python3102jvsc74a57bd0aee8b7b246df8f9039afb4144a1f6fd8d2ca17a180786b69acc140d282b71a49"
  },
  "language_info": {
   "codemirror_mode": {
    "name": "ipython",
    "version": 3
   },
   "file_extension": ".py",
   "mimetype": "text/x-python",
   "name": "python",
   "nbconvert_exporter": "python",
   "pygments_lexer": "ipython3",
   "version": "3.10.2"
  }
 },
 "nbformat": 4,
 "nbformat_minor": 5
}
