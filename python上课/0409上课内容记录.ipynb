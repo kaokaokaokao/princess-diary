{
 "cells": [
  {
   "cell_type": "markdown",
   "id": "36215ecf",
   "metadata": {},
   "source": [
    "# 命名规范\n",
    "WheatherOrNot\n",
    "\n",
    "wheather_or_not"
   ]
  },
  {
   "cell_type": "markdown",
   "id": "662be057",
   "metadata": {},
   "source": [
    "# 逻辑运算符\n",
    "and or not\n"
   ]
  },
  {
   "cell_type": "code",
   "execution_count": 6,
   "id": "9866367d",
   "metadata": {},
   "outputs": [
    {
     "name": "stdout",
     "output_type": "stream",
     "text": [
      "It's a hot day!\n"
     ]
    }
   ],
   "source": [
    "is_hot = False\n",
    "is_cold = False\n",
    "if not is_cold == True:\n",
    "  print(\"It's a hot day!\")\n",
    "else:\n",
    "  print(\"It's a lovely day!\")"
   ]
  },
  {
   "cell_type": "markdown",
   "id": "69e58a2d",
   "metadata": {},
   "source": [
    "# 比较运算符\n",
    "== != > < >= <="
   ]
  },
  {
   "cell_type": "markdown",
   "id": "89a62b01",
   "metadata": {},
   "source": [
    "# len()函数"
   ]
  },
  {
   "cell_type": "code",
   "execution_count": 8,
   "id": "354dde3f",
   "metadata": {},
   "outputs": [
    {
     "data": {
      "text/plain": [
       "6"
      ]
     },
     "execution_count": 8,
     "metadata": {},
     "output_type": "execute_result"
    }
   ],
   "source": [
    "len(\"Python\")"
   ]
  },
  {
   "cell_type": "code",
   "execution_count": 4,
   "id": "71378a37",
   "metadata": {},
   "outputs": [
    {
     "name": "stdout",
     "output_type": "stream",
     "text": [
      "What is your name?胡\n",
      "名字长度必须大于一个字\n"
     ]
    }
   ],
   "source": [
    "name = input(\"What is your name?\")\n",
    "if len(name)<2:\n",
    "    print(\"名字长度必须大于一个字\")\n",
    "elif len(name)>10:\n",
    "    print(\"名字长度不能超过十个字\")\n",
    "else:\n",
    "    print(f\"你好，{name}\")"
   ]
  },
  {
   "cell_type": "markdown",
   "id": "b7a3621c",
   "metadata": {},
   "source": [
    "# while 循环\n"
   ]
  },
  {
   "cell_type": "code",
   "execution_count": 9,
   "id": "44b033d6",
   "metadata": {},
   "outputs": [
    {
     "name": "stdout",
     "output_type": "stream",
     "text": [
      "1\n",
      "2\n",
      "3\n"
     ]
    }
   ],
   "source": [
    "item = 0\n",
    "while item < 3:\n",
    "    item += 1\n",
    "    print(item)"
   ]
  },
  {
   "cell_type": "code",
   "execution_count": 8,
   "id": "e4176b2d",
   "metadata": {},
   "outputs": [
    {
     "name": "stdout",
     "output_type": "stream",
     "text": [
      "guess: 3\n",
      "guess: 6\n",
      "guess: 2\n",
      "闯关失败\n"
     ]
    }
   ],
   "source": [
    "number = 5\n",
    "i = 0\n",
    "while i < 3:\n",
    "    guess = int(input('guess: '))\n",
    "    i += 1\n",
    "    if guess == number:\n",
    "        print('闯关成功')\n",
    "        break\n",
    "else:\n",
    "    print('闯关失败')"
   ]
  },
  {
   "cell_type": "code",
   "execution_count": 11,
   "id": "8bd95e53",
   "metadata": {},
   "outputs": [
    {
     "name": "stdout",
     "output_type": "stream",
     "text": [
      "查询余额请按1, 存款请按2, 取款请按3, 退出请按0 1\n",
      "您的余额为: 20000\n",
      "查询余额请按1, 存款请按2, 取款请按3, 退出请按0 2\n",
      "存款金额：3000\n",
      "您的余额为: 23000\n",
      "查询余额请按1, 存款请按2, 取款请按3, 退出请按0 3\n",
      "取款金额：30000\n",
      "余额不足\n",
      "您的余额为: 23000\n",
      "查询余额请按1, 存款请按2, 取款请按3, 退出请按0 0\n",
      "祝您生活愉快！\n"
     ]
    }
   ],
   "source": [
    "bank_account = 20000\n",
    "while True:\n",
    "    answer = input(\"查询余额请按1, 存款请按2, 取款请按3, 退出请按0 \")# 询问\n",
    "    if answer == '1': # 查询余额\n",
    "        pass\n",
    "    elif answer == '2': # 存款\n",
    "        deposit = int(input(\"存款金额：\"))\n",
    "        bank_account += deposit\n",
    "    elif answer == '3': # 取款\n",
    "        withdraw = int(input(\"取款金额：\"))\n",
    "        if withdraw > bank_account:\n",
    "            print(\"余额不足\")\n",
    "        else:\n",
    "            bank_account -= withdraw\n",
    "    elif answer == '0': # 退出\n",
    "        print(\"祝您生活愉快！\")\n",
    "        break\n",
    "    print(\"您的余额为:\",bank_account)"
   ]
  },
  {
   "cell_type": "code",
   "execution_count": 32,
   "id": "2430f5eb",
   "metadata": {},
   "outputs": [
    {
     "name": "stdout",
     "output_type": "stream",
     "text": [
      "查询余额请按1, 存款请按2, 取款请按3, 退出请按0 1\n",
      "您的余额为 20000\n",
      "查询余额请按1, 存款请按2, 取款请按3, 退出请按0 2\n",
      "存款金额30000\n",
      "存款成功，您的余额为 50000\n",
      "查询余额请按1, 存款请按2, 取款请按3, 退出请按0 1\n",
      "您的余额为 50000\n",
      "查询余额请按1, 存款请按2, 取款请按3, 退出请按0 3\n",
      "取款金额60000\n",
      "余额不足\n",
      "您的余额为 50000\n",
      "查询余额请按1, 存款请按2, 取款请按3, 退出请按0 3\n",
      "取款金额2000\n",
      "取款成功，您的余额为 48000\n",
      "查询余额请按1, 存款请按2, 取款请按3, 退出请按0 0\n",
      "祝您生活愉快！\n"
     ]
    }
   ],
   "source": [
    "# jackson\n",
    "bankmoney = 20000\n",
    "while True:\n",
    "    service = int(input(\"查询余额请按1, 存款请按2, 取款请按3, 退出请按0 \"))\n",
    "    if service == 1:\n",
    "        print('您的余额为',bankmoney)\n",
    "    elif service == 2:\n",
    "        howmuch = int(input('存款金额'))\n",
    "        bankmoney += howmuch\n",
    "        print ('存款成功，您的余额为',bankmoney) \n",
    "    elif service == 3:\n",
    "        howmany = int(input('取款金额'))\n",
    "        if howmany <= bankmoney:\n",
    "            bankmoney -= howmany\n",
    "            print('取款成功，您的余额为',bankmoney)\n",
    "        elif howmany > bankmoney:\n",
    "            print('余额不足')\n",
    "            print('您的余额为',bankmoney)\n",
    "    elif service == 0:\n",
    "        print('祝您生活愉快！')\n",
    "        break"
   ]
  },
  {
   "cell_type": "code",
   "execution_count": 4,
   "id": "e4410550",
   "metadata": {},
   "outputs": [
    {
     "name": "stdout",
     "output_type": "stream",
     "text": [
      "查询余额请按1，存款请按2，取款请按3，退出请按0 \n",
      "1\n",
      "您当前的余额是： 20000\n",
      "查询余额请按1，存款请按2，取款请按3，退出请按0 \n",
      "2\n",
      "存款金额：500\n",
      "您当前的余额是： 20500\n",
      "查询余额请按1，存款请按2，取款请按3，退出请按0 \n",
      "3\n",
      "取款金额：7000\n",
      "您当前的余额是： 13500\n",
      "查询余额请按1，存款请按2，取款请按3，退出请按0 \n",
      "0\n",
      "祝您生活愉快！\n"
     ]
    }
   ],
   "source": [
    "# bosan\n",
    "money = 20000\n",
    "while True:\n",
    "    answer = input(\"查询余额请按1，存款请按2，取款请按3，退出请按0 \\n\")\n",
    "    if answer == \"1\":\n",
    "        pass\n",
    "    elif answer == \"2\":\n",
    "        cunru = int(input(\"存款金额：\"))\n",
    "        money += cunru\n",
    "    elif answer == \"3\":\n",
    "        quchu = int(input(\"取款金额：\"))\n",
    "        if quchu > money:\n",
    "            print(\"余额不足\")\n",
    "        else:\n",
    "            money -= quchu\n",
    "    elif answer == \"0\":\n",
    "        print(\"祝您生活愉快！\")\n",
    "        break\n",
    "    print(\"您当前的余额是：\",money)"
   ]
  },
  {
   "cell_type": "markdown",
   "id": "b3cd9bbf",
   "metadata": {},
   "source": [
    "# 列表\n",
    "list"
   ]
  },
  {
   "cell_type": "code",
   "execution_count": 49,
   "id": "d50f5bc5",
   "metadata": {},
   "outputs": [
    {
     "data": {
      "text/plain": [
       "['hi', 'hello', 4, 590]"
      ]
     },
     "execution_count": 49,
     "metadata": {},
     "output_type": "execute_result"
    }
   ],
   "source": [
    "list1 = ['hi','hello',12,4,590]\n",
    "#        0     1      2  3  4\n",
    "\n",
    "list1.remove(12)\n",
    "list1"
   ]
  },
  {
   "cell_type": "code",
   "execution_count": 55,
   "id": "7dc73ff7",
   "metadata": {},
   "outputs": [
    {
     "name": "stdout",
     "output_type": "stream",
     "text": [
      "['想去迪士尼', '想去看海', '想去看一次演唱会', '想买一个相机']\n",
      "number: 1\n",
      "['想去看海', '想去看一次演唱会', '想买一个相机']\n",
      "number: 1\n",
      "['想去看一次演唱会', '想买一个相机']\n",
      "number: 1\n",
      "['想买一个相机']\n",
      "number: 1\n",
      "愿望全部完成！\n"
     ]
    }
   ],
   "source": [
    "wishlist = ['想去迪士尼', '想去看海', '想去看一次演唱会', '想买一个相机']\n",
    "print(wishlist)\n",
    "while True:\n",
    "    num = int(input('number: ')) - 1\n",
    "    del wishlist[num]\n",
    "    if wishlist == []:\n",
    "        print(\"愿望全部完成！\")\n",
    "        break\n",
    "    print(wishlist)"
   ]
  },
  {
   "cell_type": "code",
   "execution_count": 61,
   "id": "d81a4361",
   "metadata": {},
   "outputs": [
    {
     "name": "stdout",
     "output_type": "stream",
     "text": [
      "['想去迪士尼', '想去看海', '想去看一次演唱会', '想买一个相机']\n",
      "已完成第几项：1\n",
      "['想去看海', '想去看一次演唱会', '想买一个相机']\n",
      "已完成第几项：1\n",
      "['想去看一次演唱会', '想买一个相机']\n",
      "已完成第几项：2\n",
      "['想去看一次演唱会']\n",
      "已完成第几项：1\n",
      "[]\n",
      "全部完成啦！\n"
     ]
    }
   ],
   "source": [
    "# jackson\n",
    "list = ['想去迪士尼', '想去看海', '想去看一次演唱会', '想买一个相机']\n",
    "print(list)\n",
    "while True:\n",
    "    number = int(input('已完成第几项：'))\n",
    "    del list[number-1]\n",
    "    if list == []:\n",
    "        print('全部完成啦！')\n",
    "        break\n",
    "    print(list)"
   ]
  },
  {
   "cell_type": "code",
   "execution_count": 7,
   "id": "283a144b",
   "metadata": {},
   "outputs": [
    {
     "name": "stdout",
     "output_type": "stream",
     "text": [
      "['想去迪士尼', '想去看海', '想去看一次演唱会', '想买一个相机']\n",
      "数字：3\n",
      "['想去迪士尼', '想去看海', '想买一个相机']\n",
      "数字：1\n",
      "['想去看海', '想买一个相机']\n",
      "数字：2\n",
      "['想去看海']\n",
      "数字：1\n",
      "愿望全部完成！\n"
     ]
    }
   ],
   "source": [
    "list1 = ['想去迪士尼', '想去看海', '想去看一次演唱会', '想买一个相机']\n",
    "print(list1)\n",
    "while True:\n",
    "    num = int(input(\"数字：\"))\n",
    "    list1.remove(list1[num-1])\n",
    "    if list1 == []:\n",
    "        print(\"愿望全部完成！\")\n",
    "        break\n",
    "    print(list1)"
   ]
  },
  {
   "cell_type": "markdown",
   "id": "1dc9beb0",
   "metadata": {},
   "source": [
    "# 作业！\n",
    "## 第一题\n",
    "### 写一个程序，让用户输入一行字，判断是否为回文（正反读一样）\n",
    "\n",
    "## 第二题\n",
    "### 写一个程序，让用户输入一个数字，输出对应个数的斐波那契数列，比如说用户输入7，则输出"
   ]
  }
 ],
 "metadata": {
  "kernelspec": {
   "display_name": "Python 3 (ipykernel)",
   "language": "python",
   "name": "python3"
  },
  "language_info": {
   "codemirror_mode": {
    "name": "ipython",
    "version": 3
   },
   "file_extension": ".py",
   "mimetype": "text/x-python",
   "name": "python",
   "nbconvert_exporter": "python",
   "pygments_lexer": "ipython3",
   "version": "3.10.2"
  }
 },
 "nbformat": 4,
 "nbformat_minor": 5
}
