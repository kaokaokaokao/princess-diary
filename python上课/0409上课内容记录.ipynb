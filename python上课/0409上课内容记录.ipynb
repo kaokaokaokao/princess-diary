{
 "cells": [
  {
   "cell_type": "markdown",
   "id": "36215ecf",
   "metadata": {},
   "source": [
    "# 命名规范\n"
   ]
  },
  {
   "cell_type": "markdown",
   "id": "662be057",
   "metadata": {},
   "source": [
    "# 逻辑运算符"
   ]
  },
  {
   "cell_type": "markdown",
   "id": "69e58a2d",
   "metadata": {},
   "source": [
    "# 比较运算符"
   ]
  },
  {
   "cell_type": "markdown",
   "id": "89a62b01",
   "metadata": {},
   "source": [
    "# len()函数"
   ]
  },
  {
   "cell_type": "markdown",
   "id": "b7a3621c",
   "metadata": {},
   "source": [
    "# while 循环"
   ]
  },
  {
   "cell_type": "markdown",
   "id": "b3cd9bbf",
   "metadata": {},
   "source": [
    "# 列表"
   ]
  },
  {
   "cell_type": "code",
   "execution_count": null,
   "id": "d50f5bc5",
   "metadata": {},
   "outputs": [],
   "source": []
  }
 ],
 "metadata": {
  "kernelspec": {
   "display_name": "Python 3 (ipykernel)",
   "language": "python",
   "name": "python3"
  },
  "language_info": {
   "codemirror_mode": {
    "name": "ipython",
    "version": 3
   },
   "file_extension": ".py",
   "mimetype": "text/x-python",
   "name": "python",
   "nbconvert_exporter": "python",
   "pygments_lexer": "ipython3",
   "version": "3.10.2"
  }
 },
 "nbformat": 4,
 "nbformat_minor": 5
}
