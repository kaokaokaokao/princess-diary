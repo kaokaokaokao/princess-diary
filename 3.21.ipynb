{
 "cells": [
  {
   "cell_type": "code",
   "execution_count": 1,
   "id": "c54906ce",
   "metadata": {},
   "outputs": [],
   "source": [
    "#索引 start:end:step end为开区间\n",
    "import numpy as np"
   ]
  },
  {
   "cell_type": "code",
   "execution_count": 3,
   "id": "b8df6718",
   "metadata": {},
   "outputs": [],
   "source": [
    "b = np.array([[1,2,3],[2,3,4]])"
   ]
  },
  {
   "cell_type": "code",
   "execution_count": 4,
   "id": "2e037a9c",
   "metadata": {},
   "outputs": [
    {
     "name": "stdout",
     "output_type": "stream",
     "text": [
      "[[1 2 3]\n",
      " [2 3 4]]\n"
     ]
    }
   ],
   "source": [
    "print(b)"
   ]
  },
  {
   "cell_type": "code",
   "execution_count": 7,
   "id": "5bfb0c00",
   "metadata": {},
   "outputs": [
    {
     "data": {
      "text/plain": [
       "dtype('int64')"
      ]
     },
     "execution_count": 7,
     "metadata": {},
     "output_type": "execute_result"
    }
   ],
   "source": [
    "b.ndim\n",
    "b.shape\n",
    "#长宽，几行几列\n",
    "b.dtype\n",
    "#datatype 数据类型"
   ]
  },
  {
   "cell_type": "code",
   "execution_count": 14,
   "id": "ba4d70b2",
   "metadata": {},
   "outputs": [
    {
     "name": "stdout",
     "output_type": "stream",
     "text": [
      "[ 0.   2.5  5.   7.5 10.  12.5 15.  17.5 20.  22.5]\n"
     ]
    }
   ],
   "source": [
    "c = np.arange(0,25,2.5)\n",
    "#range 只能取整数；arange 可整可浮\n",
    "print(c)"
   ]
  },
  {
   "cell_type": "code",
   "execution_count": 11,
   "id": "bc6c9112",
   "metadata": {},
   "outputs": [
    {
     "name": "stdout",
     "output_type": "stream",
     "text": [
      "[  0.           5.26315789  10.52631579  15.78947368  21.05263158\n",
      "  26.31578947  31.57894737  36.84210526  42.10526316  47.36842105\n",
      "  52.63157895  57.89473684  63.15789474  68.42105263  73.68421053\n",
      "  78.94736842  84.21052632  89.47368421  94.73684211 100.        ]\n"
     ]
    }
   ],
   "source": [
    "d = np.linspace(0,100,20)\n",
    "print(d)\n",
    "#range 和 linspace 默认生成一维数组"
   ]
  },
  {
   "cell_type": "code",
   "execution_count": 19,
   "id": "5385fef7",
   "metadata": {},
   "outputs": [
    {
     "data": {
      "text/plain": [
       "array([[ 0. ,  2.5],\n",
       "       [ 5. ,  7.5],\n",
       "       [10. , 12.5],\n",
       "       [15. , 17.5],\n",
       "       [20. , 22.5]])"
      ]
     },
     "execution_count": 19,
     "metadata": {},
     "output_type": "execute_result"
    }
   ],
   "source": [
    "e = c.reshape(5,2)\n",
    "#reshape 函数可以修改数组维度"
   ]
  },
  {
   "cell_type": "code",
   "execution_count": 20,
   "id": "8628a57b",
   "metadata": {},
   "outputs": [
    {
     "name": "stdout",
     "output_type": "stream",
     "text": [
      "[[1. 2. 3.]\n",
      " [2. 3. 4.]]\n"
     ]
    }
   ],
   "source": [
    "print(b.astype(float))\n",
    "#astype 可以更改数据类型"
   ]
  },
  {
   "cell_type": "code",
   "execution_count": 23,
   "id": "9c3577c3",
   "metadata": {},
   "outputs": [
    {
     "name": "stdout",
     "output_type": "stream",
     "text": [
      "[   2.            2.77730229    3.85670399    5.3556164     7.43708284\n",
      "   10.32751358   14.34131354   19.91508143   27.65510059   38.40328703\n",
      "   53.32876841   74.05505519  102.836637    142.80421347  198.30523421\n",
      "  275.37679007  382.40229418  531.02338276  737.40622722 1024.        ]\n"
     ]
    }
   ],
   "source": [
    "f = np.logspace(1,10,num = 20,base = 2)\n",
    "print(f)"
   ]
  },
  {
   "cell_type": "code",
   "execution_count": null,
   "id": "b546222f",
   "metadata": {},
   "outputs": [],
   "source": []
  }
 ],
 "metadata": {
  "kernelspec": {
   "display_name": "Python 3 (ipykernel)",
   "language": "python",
   "name": "python3"
  },
  "language_info": {
   "codemirror_mode": {
    "name": "ipython",
    "version": 3
   },
   "file_extension": ".py",
   "mimetype": "text/x-python",
   "name": "python",
   "nbconvert_exporter": "python",
   "pygments_lexer": "ipython3",
   "version": "3.10.2"
  }
 },
 "nbformat": 4,
 "nbformat_minor": 5
}
