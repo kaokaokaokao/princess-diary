{
 "cells": [
  {
   "cell_type": "code",
   "execution_count": 1,
   "id": "9f55acdc",
   "metadata": {},
   "outputs": [],
   "source": [
    "#文本类型打开文件\n",
    "fh=open(\"/Users/hukeer/Desktop/TheSignoftheFour.txt\",\"r\",encoding=\"utf-8\")"
   ]
  },
  {
   "cell_type": "code",
   "execution_count": 2,
   "id": "b4f97110",
   "metadata": {},
   "outputs": [],
   "source": [
    "# print(fh.readline())"
   ]
  },
  {
   "cell_type": "code",
   "execution_count": 3,
   "id": "d18bec10",
   "metadata": {},
   "outputs": [
    {
     "name": "stdout",
     "output_type": "stream",
     "text": [
      "\"the sign of the four\" is sir arthur conan doyle's follow-up to his immensely successful \n",
      "\n",
      "['\"The', 'Sign', 'of', 'the', 'Four\"', 'is', 'Sir', 'Arthur', 'Conan', \"Doyle's\", 'follow-up', 'to', 'his', 'immensely', 'successful']\n",
      "\"a study in scarlet,\" where we first meet one of the most famous literary detectives of all time, sherlock holmes. \n",
      "\n",
      "['\"A', 'Study', 'in', 'Scarlet,\"', 'where', 'we', 'first', 'meet', 'one', 'of', 'the', 'most', 'famous', 'literary', 'detectives', 'of', 'all', 'time,', 'Sherlock', 'Holmes.']\n",
      "\"the sign of the four\" is the mystery surrounding the disappearance miss mary morstan's father. \n",
      "\n",
      "['\"The', 'Sign', 'of', 'the', 'Four\"', 'is', 'the', 'mystery', 'surrounding', 'the', 'disappearance', 'Miss', 'Mary', \"Morstan's\", 'father.']\n",
      "every year on the anniversary of miss morstan's father's disappearance, mary receives an anonymous gift of a priceless pearl. \n",
      "\n",
      "['Every', 'year', 'on', 'the', 'anniversary', 'of', 'Miss', \"Morstan's\", \"father's\", 'disappearance,', 'Mary', 'receives', 'an', 'anonymous', 'gift', 'of', 'a', 'priceless', 'pearl.']\n",
      "miss morstan solicits the help of sherlock holmes and doctor watson to unravel the identity and motive of her anonymous benefactor.\n",
      "['Miss', 'Morstan', 'solicits', 'the', 'help', 'of', 'Sherlock', 'Holmes', 'and', 'Doctor', 'Watson', 'to', 'unravel', 'the', 'identity', 'and', 'motive', 'of', 'her', 'anonymous', 'benefactor.']\n"
     ]
    }
   ],
   "source": [
    "line=fh.readline()\n",
    "while line:\n",
    "    lowered=line.lower()\n",
    "    print(lowered)\n",
    "    words=line.split()\n",
    "    print(words)\n",
    "    line =fh.readline()\n",
    "fh.close()"
   ]
  },
  {
   "cell_type": "code",
   "execution_count": 4,
   "id": "c202348f",
   "metadata": {},
   "outputs": [
    {
     "name": "stdout",
     "output_type": "stream",
     "text": [
      "\"The Sign of the Four\" is Sir Arthur Conan Doyle's follow-up to his immensely successful \n",
      "\"A Study in Scarlet,\" where we first meet one of the most famous literary detectives of all time, Sherlock Holmes. \n",
      "\"The Sign of the Four\" is the mystery surrounding the disappearance Miss Mary Morstan's father. \n",
      "Every year on the anniversary of Miss Morstan's father's disappearance, Mary receives an anonymous gift of a priceless pearl. \n",
      "Miss Morstan solicits the help of Sherlock Holmes and Doctor Watson to unravel the identity and motive of her anonymous benefactor.\n",
      "90\n"
     ]
    }
   ],
   "source": [
    "fh=open(\"/Users/hukeer/Desktop/TheSignoftheFour.txt\",\"r\",encoding=\"utf-8\")\n",
    "txt=fh.read()\n",
    "print(txt)\n",
    "single_word=txt.split()\n",
    "number=len(single_word)\n",
    "print(number)"
   ]
  },
  {
   "cell_type": "code",
   "execution_count": 5,
   "id": "2d146a8f",
   "metadata": {},
   "outputs": [
    {
     "name": "stdout",
     "output_type": "stream",
     "text": [
      "{'in', 'one', 'most', 'Four\"', 'Holmes', 'all', 'we', 'father.', 'Holmes.', 'benefactor.', 'time,', 'is', 'to', 'immensely', 'disappearance', 'detectives', 'anonymous', 'a', 'identity', \"father's\", 'his', 'first', 'mystery', 'Miss', 'the', 'Arthur', 'year', 'gift', 'Every', 'pearl.', 'Scarlet,\"', 'successful', '\"A', 'help', 'anniversary', 'Sir', 'literary', 'Watson', 'Study', 'surrounding', 'famous', 'unravel', 'on', 'and', 'Sherlock', 'Mary', 'Doctor', 'follow-up', 'priceless', 'where', 'motive', 'receives', 'Morstan', 'of', 'solicits', '\"The', 'an', 'her', \"Morstan's\", 'Conan', \"Doyle's\", 'disappearance,', 'meet', 'Sign'}\n"
     ]
    }
   ],
   "source": [
    "dif_word=set(single_word)\n",
    "print(dif_word)"
   ]
  },
  {
   "cell_type": "code",
   "execution_count": 6,
   "id": "b2d72231",
   "metadata": {},
   "outputs": [
    {
     "name": "stdout",
     "output_type": "stream",
     "text": [
      "64\n"
     ]
    }
   ],
   "source": [
    "print(len(dif_word))"
   ]
  },
  {
   "cell_type": "code",
   "execution_count": null,
   "id": "2e29c5b8",
   "metadata": {},
   "outputs": [],
   "source": []
  }
 ],
 "metadata": {
  "kernelspec": {
   "display_name": "Python 3 (ipykernel)",
   "language": "python",
   "name": "python3"
  },
  "language_info": {
   "codemirror_mode": {
    "name": "ipython",
    "version": 3
   },
   "file_extension": ".py",
   "mimetype": "text/x-python",
   "name": "python",
   "nbconvert_exporter": "python",
   "pygments_lexer": "ipython3",
   "version": "3.10.2"
  },
  "toc": {
   "base_numbering": 1,
   "nav_menu": {},
   "number_sections": true,
   "sideBar": true,
   "skip_h1_title": false,
   "title_cell": "Table of Contents",
   "title_sidebar": "Contents",
   "toc_cell": false,
   "toc_position": {},
   "toc_section_display": true,
   "toc_window_display": false
  }
 },
 "nbformat": 4,
 "nbformat_minor": 5
}
