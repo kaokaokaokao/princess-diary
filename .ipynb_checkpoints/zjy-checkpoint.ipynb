{
 "cells": [
  {
   "cell_type": "code",
   "execution_count": 10,
   "id": "baa3616e",
   "metadata": {},
   "outputs": [
    {
     "name": "stdout",
     "output_type": "stream",
     "text": [
      "半径为:7 高为:5 体积为:769.69\n"
     ]
    }
   ],
   "source": [
    "import random as rd\n",
    "import math as mt\n",
    "radius = random.randint(1,9)\n",
    "height = random.randint(1,9)\n",
    "space = math.pi*(radius**2)\n",
    "volume = round(space*height,2)\n",
    "print(\"半径为:\",radius,\" 高为:\",height,\" 体积为:\",volume,sep=\"\")"
   ]
  },
  {
   "cell_type": "code",
   "execution_count": 13,
   "id": "cb1ec5e8",
   "metadata": {},
   "outputs": [
    {
     "name": "stdout",
     "output_type": "stream",
     "text": [
      "给老子一个年份！2004\n",
      "fine,是闰年又怎样\n"
     ]
    }
   ],
   "source": [
    "yeahhh = int(input(\"给老子一个年份！\"))\n",
    "if yeahhh % 4 == 0:\n",
    "    if yeahhh % 100 == 0 and yeahhh % 400 != 0:\n",
    "        print(\"滚蛋吧，不是闰年\")\n",
    "    else:\n",
    "        print(\"fine,是闰年又怎样\")\n",
    "else:\n",
    "    print(\"滚蛋吧，不是闰年\")"
   ]
  },
  {
   "cell_type": "code",
   "execution_count": 20,
   "id": "ba2cc400",
   "metadata": {},
   "outputs": [
    {
     "name": "stdout",
     "output_type": "stream",
     "text": [
      "第一个数！！！！！7\n",
      "第二个数！！！！！5\n",
      "第三个数！！！！！1\n"
     ]
    },
    {
     "data": {
      "text/plain": [
       "[1, 5, 7]"
      ]
     },
     "execution_count": 20,
     "metadata": {},
     "output_type": "execute_result"
    }
   ],
   "source": [
    "n1 = int(input(\"第一个数！！！！！\"))\n",
    "n2 = int(input(\"第二个数！！！！！\"))\n",
    "n3 = int(input(\"第三个数！！！！！\"))\n",
    "list1 = [n1,n2,n3] \n",
    "list2 = []\n",
    "for s in range(len(list1)):\n",
    "    j = s\n",
    "    while j > 0 and list1[s] < list2[j-1]:\n",
    "      j -= 1\n",
    "    else:\n",
    "      list2.insert(j,list1[s])\n",
    "print(list2)"
   ]
  },
  {
   "cell_type": "code",
   "execution_count": null,
   "id": "2f993504",
   "metadata": {},
   "outputs": [],
   "source": []
  }
 ],
 "metadata": {
  "kernelspec": {
   "display_name": "Python 3.10.2 64-bit",
   "language": "python",
   "name": "python3102jvsc74a57bd0aee8b7b246df8f9039afb4144a1f6fd8d2ca17a180786b69acc140d282b71a49"
  },
  "language_info": {
   "codemirror_mode": {
    "name": "ipython",
    "version": 3
   },
   "file_extension": ".py",
   "mimetype": "text/x-python",
   "name": "python",
   "nbconvert_exporter": "python",
   "pygments_lexer": "ipython3",
   "version": "3.10.2"
  }
 },
 "nbformat": 4,
 "nbformat_minor": 5
}
