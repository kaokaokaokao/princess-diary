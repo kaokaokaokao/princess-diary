{
 "cells": [
  {
   "cell_type": "code",
   "execution_count": 1,
   "id": "a02e0d58",
   "metadata": {},
   "outputs": [],
   "source": [
    "import numpy as np"
   ]
  },
  {
   "cell_type": "markdown",
   "id": "e24e75a6",
   "metadata": {},
   "source": [
    "# 创建数组\n",
    "numpy.array(object,dtype=None,**kw)"
   ]
  },
  {
   "cell_type": "code",
   "execution_count": 2,
   "id": "4f2a7755",
   "metadata": {},
   "outputs": [
    {
     "data": {
      "text/plain": [
       "array([[1, 2],\n",
       "       [2, 3],\n",
       "       [3, 4]])"
      ]
     },
     "execution_count": 2,
     "metadata": {},
     "output_type": "execute_result"
    }
   ],
   "source": [
    "np.array([[1,2],[2,3],[3,4]])"
   ]
  },
  {
   "cell_type": "markdown",
   "id": "4630a76d",
   "metadata": {},
   "source": [
    "# 数据属性\n",
    "$ndim$      -  返回int。表示数组的维度\n",
    "\n",
    "$shape$     -  返回tuple。表示数组的尺寸，对于n行m列的矩阵，形状为（n，m）\n",
    "\n",
    "$size$      -  返回int。表示数组的元素总数，等于数组形状的乘积\n",
    "\n",
    "$dtype$     -  返回data-type。描述数组中元素的类型\n",
    "\n",
    "$itemsize$  -  返回int。表示数组的每个元素的大小"
   ]
  },
  {
   "cell_type": "markdown",
   "id": "5b9e874d",
   "metadata": {},
   "source": [
    "# 数据类型\n",
    "$bool$ - 用一位储存的布尔类型\n",
    "\n",
    "$inti$ - 由所在平台决定其精度的整数\n",
    "\n",
    "$int8$ - 整数，范围为-128至127\n",
    "\n",
    "$int16$ - 整数，范围为-32768至32767\n",
    "\n",
    "$int32$ - 整数，范围为-2^31至2^32-1\n",
    "\n",
    "$float16$ - 半精度浮点数"
   ]
  },
  {
   "cell_type": "markdown",
   "id": "cc688f3e",
   "metadata": {},
   "source": [
    "# 等差数列和等比数列\n",
    "等差数列：\n",
    "- $arange（start，end，step）$可接受浮点数\n",
    "- $linspace（start，stop，num=50，endpoint=True）$\n",
    "\n",
    "等比数列：\n",
    "- $logspace（start，stop，num=50，endpoint=True，base=10$"
   ]
  },
  {
   "cell_type": "code",
   "execution_count": 3,
   "id": "c906a2aa",
   "metadata": {},
   "outputs": [
    {
     "data": {
      "text/plain": [
       "(array([10, 15, 20, 25]),\n",
       " array([0. , 0.3, 0.6, 0.9, 1.2, 1.5, 1.8]),\n",
       " array([  0.        ,   5.26315789,  10.52631579,  15.78947368,\n",
       "         21.05263158,  26.31578947,  31.57894737,  36.84210526,\n",
       "         42.10526316,  47.36842105,  52.63157895,  57.89473684,\n",
       "         63.15789474,  68.42105263,  73.68421053,  78.94736842,\n",
       "         84.21052632,  89.47368421,  94.73684211, 100.        ]),\n",
       " array([1.00000000e+000, 1.83298071e+005, 3.35981829e+010, 6.15848211e+015,\n",
       "        1.12883789e+021, 2.06913808e+026, 3.79269019e+031, 6.95192796e+036,\n",
       "        1.27427499e+042, 2.33572147e+047, 4.28133240e+052, 7.84759970e+057,\n",
       "        1.43844989e+063, 2.63665090e+068, 4.83293024e+073, 8.85866790e+078,\n",
       "        1.62377674e+084, 2.97635144e+089, 5.45559478e+094, 1.00000000e+100]))"
      ]
     },
     "execution_count": 3,
     "metadata": {},
     "output_type": "execute_result"
    }
   ],
   "source": [
    "a = np.arange(10,30,5)\n",
    "b = np.arange(0,2,0.3)\n",
    "c = np.linspace(0,100,num=20)\n",
    "d = np.logspace(0,100,num=20)\n",
    "a,b,c,d"
   ]
  },
  {
   "cell_type": "markdown",
   "id": "10614791",
   "metadata": {},
   "source": [
    "# 修改数组维度\n",
    "numpy.reshape(arr, newshape, order='C')\n",
    "\n",
    "$order$：'C' -- 按行，'F' -- 按列，'A' -- 原顺序，'k' -- 元素在内存中的出现顺序。"
   ]
  },
  {
   "cell_type": "code",
   "execution_count": 4,
   "id": "863b06e2",
   "metadata": {},
   "outputs": [
    {
     "name": "stdout",
     "output_type": "stream",
     "text": [
      "[[  0.           5.26315789]\n",
      " [ 10.52631579  15.78947368]\n",
      " [ 21.05263158  26.31578947]\n",
      " [ 31.57894737  36.84210526]\n",
      " [ 42.10526316  47.36842105]\n",
      " [ 52.63157895  57.89473684]\n",
      " [ 63.15789474  68.42105263]\n",
      " [ 73.68421053  78.94736842]\n",
      " [ 84.21052632  89.47368421]\n",
      " [ 94.73684211 100.        ]]\n",
      "[[1.00000000e+000 1.83298071e+005 3.35981829e+010 6.15848211e+015\n",
      "  1.12883789e+021 2.06913808e+026 3.79269019e+031 6.95192796e+036\n",
      "  1.27427499e+042 2.33572147e+047]\n",
      " [4.28133240e+052 7.84759970e+057 1.43844989e+063 2.63665090e+068\n",
      "  4.83293024e+073 8.85866790e+078 1.62377674e+084 2.97635144e+089\n",
      "  5.45559478e+094 1.00000000e+100]]\n"
     ]
    }
   ],
   "source": [
    "print(np.reshape(c,(10,2)))\n",
    "print(d.reshape((2,10)))"
   ]
  },
  {
   "cell_type": "markdown",
   "id": "556584c0",
   "metadata": {},
   "source": [
    "# 转换数据类型\n",
    "array.astype(dtype)"
   ]
  },
  {
   "cell_type": "code",
   "execution_count": 5,
   "id": "31a26ba2",
   "metadata": {},
   "outputs": [
    {
     "data": {
      "text/plain": [
       "array([10., 15., 20., 25.])"
      ]
     },
     "execution_count": 5,
     "metadata": {},
     "output_type": "execute_result"
    }
   ],
   "source": [
    "a.astype(float)"
   ]
  },
  {
   "cell_type": "markdown",
   "id": "b7a69408",
   "metadata": {},
   "source": [
    "# 创建特定数组\n",
    "numpy.zeros(shape, dtype=float, order='C')\n",
    "\n",
    "numpy.ones(shape, dtype=None, order='C')\n",
    "\n",
    "numpy.eye(N, M=None, k=0, dtype=<class 'float'>, order='C')\n",
    "\n",
    "numpy.diag(v, k=0)"
   ]
  },
  {
   "cell_type": "code",
   "execution_count": 7,
   "id": "dc078eba",
   "metadata": {},
   "outputs": [
    {
     "name": "stdout",
     "output_type": "stream",
     "text": [
      "[[0. 0. 0. 0.]\n",
      " [0. 0. 0. 0.]\n",
      " [0. 0. 0. 0.]]\n",
      "[[1. 1.]\n",
      " [1. 1.]\n",
      " [1. 1.]]\n",
      "[[1. 0. 0.]\n",
      " [0. 1. 0.]\n",
      " [0. 0. 1.]]\n",
      "[[1 0 0 0]\n",
      " [0 2 0 0]\n",
      " [0 0 3 0]\n",
      " [0 0 0 4]]\n"
     ]
    }
   ],
   "source": [
    "print(np.zeros((3,4)))\n",
    "print(np.ones((3,2)))\n",
    "print(np.eye((3)))\n",
    "print(np.diag([1,2,3,4]))"
   ]
  },
  {
   "cell_type": "markdown",
   "id": "b6188899",
   "metadata": {},
   "source": [
    "# 生成随机数\n",
    "- numpy.random.random(size=None) *参数是整数或元组，生成[0.0,1.0)之间的随机浮点数*\n",
    "\n",
    "- numpy.random.rand(d0, d1, ..., dn) *生成一个N维的数组，元素取自[0,1)上的均匀分布的随机数*\n",
    "\n",
    "- numpy.random.randint(low, high=None, size=None, dtype=int) *从[low,high)中随机采样，生成随机整数*\n",
    "\n",
    "- numpy.random.randint(low=0.0, high=1.0, size=None) *从[low,high)中随机采样，生成随机浮点数*\n",
    "\n",
    "- numpy.random.normal(loc=0.0, scale=1.0, size=None) *生成符合正态分布的数组*"
   ]
  },
  {
   "cell_type": "code",
   "execution_count": 13,
   "id": "039282e0",
   "metadata": {},
   "outputs": [
    {
     "name": "stdout",
     "output_type": "stream",
     "text": [
      "1: [[[0.16933144 0.89631857]\n",
      "  [0.60564078 0.96459373]]\n",
      "\n",
      " [[0.52103111 0.25205629]\n",
      "  [0.2165546  0.01780831]]\n",
      "\n",
      " [[0.39639765 0.61838051]\n",
      "  [0.32545779 0.96023097]]]\n",
      "2: [[[0.29739577 0.07376003]\n",
      "  [0.57409617 0.0539715 ]\n",
      "  [0.04984471 0.06829685]]\n",
      "\n",
      " [[0.04026983 0.54217128]\n",
      "  [0.66710666 0.86831273]\n",
      "  [0.14687159 0.71244765]]]\n",
      "3: [[ 5 10 72 71 36]\n",
      " [68 24  5 17 58]]\n",
      "4: [[59.48778743 59.09435368 85.54452139 73.98326111  7.37831789]\n",
      " [52.86677793 74.60990173 83.86931443 96.27909968  1.93788845]]\n",
      "5: [[-2.91242991 -2.84748783  6.8534858  -4.27353112]\n",
      " [-1.00316677  3.81046466  2.95474286  1.68624492]\n",
      " [ 3.04603776  0.27270696 -3.60702392  6.37803632]]\n"
     ]
    }
   ],
   "source": [
    "print('1:',np.random.random((3,2,2)))\n",
    "print('2:',np.random.rand(2,3,2))\n",
    "print('3:',np.random.randint(0,100,size=(2,5)))\n",
    "print('4:',np.random.uniform(0,100,size=(2,5)))\n",
    "print('5:',np.random.normal(1.5,3,(3,4))) #均值为1.5，标准差为3，3行4列"
   ]
  },
  {
   "cell_type": "markdown",
   "id": "95a52a0c",
   "metadata": {},
   "source": [
    "# 数组运算\n",
    "$四则运算$ - 形状必须相同 - 加减乘除幂\n",
    "\n",
    "$比较运算$ - 返回布尔数组\n",
    "\n",
    "$逻辑运算$ - np.any表示逻辑“or”，np.all表示逻辑“and”，返回布尔值"
   ]
  },
  {
   "cell_type": "code",
   "execution_count": null,
   "id": "97afc9bf",
   "metadata": {},
   "outputs": [],
   "source": []
  }
 ],
 "metadata": {
  "kernelspec": {
   "display_name": "Python 3 (ipykernel)",
   "language": "python",
   "name": "python3"
  },
  "language_info": {
   "codemirror_mode": {
    "name": "ipython",
    "version": 3
   },
   "file_extension": ".py",
   "mimetype": "text/x-python",
   "name": "python",
   "nbconvert_exporter": "python",
   "pygments_lexer": "ipython3",
   "version": "3.10.2"
  }
 },
 "nbformat": 4,
 "nbformat_minor": 5
}
