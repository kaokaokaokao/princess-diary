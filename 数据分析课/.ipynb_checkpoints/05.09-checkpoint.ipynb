{
 "cells": [
  {
   "cell_type": "markdown",
   "id": "08134dfc",
   "metadata": {},
   "source": [
    "# 异常值操作"
   ]
  },
  {
   "cell_type": "code",
   "execution_count": 4,
   "id": "e4689970",
   "metadata": {},
   "outputs": [],
   "source": [
    "import pandas as pd\n",
    "import numpy as np\n",
    "import matplotlib.pyplot as plt"
   ]
  },
  {
   "cell_type": "code",
   "execution_count": 6,
   "id": "64fc65c1",
   "metadata": {},
   "outputs": [
    {
     "name": "stdout",
     "output_type": "stream",
     "text": [
      "<class 'pandas.core.frame.DataFrame'>\n",
      "RangeIndex: 249 entries, 0 to 248\n",
      "Data columns (total 6 columns):\n",
      " #   Column  Non-Null Count  Dtype  \n",
      "---  ------  --------------  -----  \n",
      " 0   工号      249 non-null    int64  \n",
      " 1   姓名      249 non-null    object \n",
      " 2   日期      249 non-null    object \n",
      " 3   时段      249 non-null    object \n",
      " 4   交易额     246 non-null    float64\n",
      " 5   柜台      249 non-null    object \n",
      "dtypes: float64(1), int64(1), object(4)\n",
      "memory usage: 11.8+ KB\n"
     ]
    }
   ],
   "source": [
    "turnover = pd.read_csv('/Users/hukeer/Desktop/yingyee.csv')\n",
    "turnover.info()"
   ]
  },
  {
   "cell_type": "code",
   "execution_count": 7,
   "id": "17cf2682",
   "metadata": {},
   "outputs": [
    {
     "name": "stdout",
     "output_type": "stream",
     "text": [
      "<class 'pandas.core.frame.DataFrame'>\n",
      "Int64Index: 246 entries, 0 to 248\n",
      "Data columns (total 6 columns):\n",
      " #   Column  Non-Null Count  Dtype  \n",
      "---  ------  --------------  -----  \n",
      " 0   工号      246 non-null    int64  \n",
      " 1   姓名      246 non-null    object \n",
      " 2   日期      246 non-null    object \n",
      " 3   时段      246 non-null    object \n",
      " 4   交易额     246 non-null    float64\n",
      " 5   柜台      246 non-null    object \n",
      "dtypes: float64(1), int64(1), object(4)\n",
      "memory usage: 13.5+ KB\n"
     ]
    }
   ],
   "source": [
    "turnover.dropna(subset=['交易额'],inplace=True)\n",
    "turnover.info()"
   ]
  },
  {
   "cell_type": "code",
   "execution_count": 8,
   "id": "a34f0e74",
   "metadata": {},
   "outputs": [
    {
     "data": {
      "image/png": "[encoded data removed]",
      "text/plain": [
       "<Figure size 432x288 with 1 Axes>"
      ]
     },
     "metadata": {
      "needs_background": "light"
     },
     "output_type": "display_data"
    }
   ],
   "source": [
    "plt.boxplot(turnover['交易额']) # 分析的列不能有空值\n",
    "plt.show()"
   ]
  },
  {
   "cell_type": "code",
   "execution_count": 9,
   "id": "f740c902",
   "metadata": {},
   "outputs": [
    {
     "data": {
      "text/plain": [
       "{'whiskers': [<matplotlib.lines.Line2D at 0x14a0f4940>,\n",
       "  <matplotlib.lines.Line2D at 0x14a0f5000>],\n",
       " 'caps': [<matplotlib.lines.Line2D at 0x14a0f54e0>,\n",
       "  <matplotlib.lines.Line2D at 0x14a0f5840>],\n",
       " 'boxes': [<matplotlib.lines.Line2D at 0x14a0f4670>],\n",
       " 'medians': [<matplotlib.lines.Line2D at 0x14a0f5b40>],\n",
       " 'fliers': [<matplotlib.lines.Line2D at 0x14a0f5e10>],\n",
       " 'means': []}"
      ]
     },
     "execution_count": 9,
     "metadata": {},
     "output_type": "execute_result"
    },
    {
     "data": {
      "image/png": "[encoded data removed]",
      "text/plain": [
       "<Figure size 432x288 with 1 Axes>"
      ]
     },
     "metadata": {
      "needs_background": "light"
     },
     "output_type": "display_data"
    }
   ],
   "source": [
    "p = plt.boxplot(turnover['交易额'])\n",
    "p"
   ]
  },
  {
   "cell_type": "code",
   "execution_count": 14,
   "id": "e567d7fe",
   "metadata": {},
   "outputs": [],
   "source": [
    "abnorm = p['fliers'][0].get_ydata() # 异常值的y坐标"
   ]
  },
  {
   "cell_type": "code",
   "execution_count": 16,
   "id": "ea30b5b3",
   "metadata": {},
   "outputs": [
    {
     "name": "stderr",
     "output_type": "stream",
     "text": [
      "/var/folders/wq/z5hjmz3967176yv7cm4jjmgm0000gn/T/ipykernel_1076/4290366696.py:1: SettingWithCopyWarning: \n",
      "A value is trying to be set on a copy of a slice from a DataFrame\n",
      "\n",
      "See the caveats in the documentation: https://pandas.pydata.org/pandas-docs/stable/user_guide/indexing.html#returning-a-view-versus-a-copy\n",
      "  turnover['交易额'][turnover['交易额'].isin(abnorm)] = turnover['交易额'].mean()\n"
     ]
    }
   ],
   "source": [
    "turnover['交易额'][turnover['交易额'].isin(abnorm)] = turnover['交易额'].mean()"
   ]
  },
  {
   "cell_type": "code",
   "execution_count": 17,
   "id": "1d842ef7",
   "metadata": {},
   "outputs": [
    {
     "data": {
      "text/plain": [
       "工号            1005\n",
       "姓名              周七\n",
       "日期       2019/3/10\n",
       "时段      9：00-14：00\n",
       "交易额    1330.313008\n",
       "柜台             日用品\n",
       "Name: 76, dtype: object"
      ]
     },
     "execution_count": 17,
     "metadata": {},
     "output_type": "execute_result"
    }
   ],
   "source": [
    "turnover.iloc[76,:]"
   ]
  },
  {
   "cell_type": "code",
   "execution_count": 23,
   "id": "3de78574",
   "metadata": {},
   "outputs": [
    {
     "data": {
      "text/plain": [
       "柜台\n",
       "化妆品     76605.313008\n",
       "日用品     79901.939024\n",
       "蔬菜水果    78532.000000\n",
       "食品      77473.313008\n",
       "Name: 交易额, dtype: float64"
      ]
     },
     "execution_count": 23,
     "metadata": {},
     "output_type": "execute_result"
    }
   ],
   "source": [
    "turnover.groupby(by='柜台')['交易额'].sum() # 汇总(可以多个对象)"
   ]
  },
  {
   "cell_type": "code",
   "execution_count": 25,
   "id": "007f75e5",
   "metadata": {},
   "outputs": [
    {
     "data": {
      "text/html": [
       "<div>\n",
       "<style scoped>\n",
       "    .dataframe tbody tr th:only-of-type {\n",
       "        vertical-align: middle;\n",
       "    }\n",
       "\n",
       "    .dataframe tbody tr th {\n",
       "        vertical-align: top;\n",
       "    }\n",
       "\n",
       "    .dataframe thead th {\n",
       "        text-align: right;\n",
       "    }\n",
       "</style>\n",
       "<table border=\"1\" class=\"dataframe\">\n",
       "  <thead>\n",
       "    <tr style=\"text-align: right;\">\n",
       "      <th></th>\n",
       "      <th>柜台</th>\n",
       "      <th>交易额</th>\n",
       "    </tr>\n",
       "  </thead>\n",
       "  <tbody>\n",
       "    <tr>\n",
       "      <th>0</th>\n",
       "      <td>化妆品</td>\n",
       "      <td>76605.313008</td>\n",
       "    </tr>\n",
       "    <tr>\n",
       "      <th>1</th>\n",
       "      <td>日用品</td>\n",
       "      <td>79901.939024</td>\n",
       "    </tr>\n",
       "    <tr>\n",
       "      <th>2</th>\n",
       "      <td>蔬菜水果</td>\n",
       "      <td>78532.000000</td>\n",
       "    </tr>\n",
       "    <tr>\n",
       "      <th>3</th>\n",
       "      <td>食品</td>\n",
       "      <td>77473.313008</td>\n",
       "    </tr>\n",
       "  </tbody>\n",
       "</table>\n",
       "</div>"
      ],
      "text/plain": [
       "     柜台           交易额\n",
       "0   化妆品  76605.313008\n",
       "1   日用品  79901.939024\n",
       "2  蔬菜水果  78532.000000\n",
       "3    食品  77473.313008"
      ]
     },
     "execution_count": 25,
     "metadata": {},
     "output_type": "execute_result"
    }
   ],
   "source": [
    "group = turnover.groupby(by='柜台',as_index=False)['交易额'].sum() # 不将分组对象作为索引\n",
    "group"
   ]
  },
  {
   "cell_type": "code",
   "execution_count": 27,
   "id": "a0e655df",
   "metadata": {},
   "outputs": [
    {
     "data": {
      "text/html": [
       "<div>\n",
       "<style scoped>\n",
       "    .dataframe tbody tr th:only-of-type {\n",
       "        vertical-align: middle;\n",
       "    }\n",
       "\n",
       "    .dataframe tbody tr th {\n",
       "        vertical-align: top;\n",
       "    }\n",
       "\n",
       "    .dataframe thead th {\n",
       "        text-align: right;\n",
       "    }\n",
       "</style>\n",
       "<table border=\"1\" class=\"dataframe\">\n",
       "  <thead>\n",
       "    <tr style=\"text-align: right;\">\n",
       "      <th></th>\n",
       "      <th>柜台</th>\n",
       "      <th>交易额</th>\n",
       "    </tr>\n",
       "  </thead>\n",
       "  <tbody>\n",
       "    <tr>\n",
       "      <th>1</th>\n",
       "      <td>日用品</td>\n",
       "      <td>79901.939024</td>\n",
       "    </tr>\n",
       "    <tr>\n",
       "      <th>2</th>\n",
       "      <td>蔬菜水果</td>\n",
       "      <td>78532.000000</td>\n",
       "    </tr>\n",
       "    <tr>\n",
       "      <th>3</th>\n",
       "      <td>食品</td>\n",
       "      <td>77473.313008</td>\n",
       "    </tr>\n",
       "    <tr>\n",
       "      <th>0</th>\n",
       "      <td>化妆品</td>\n",
       "      <td>76605.313008</td>\n",
       "    </tr>\n",
       "  </tbody>\n",
       "</table>\n",
       "</div>"
      ],
      "text/plain": [
       "     柜台           交易额\n",
       "1   日用品  79901.939024\n",
       "2  蔬菜水果  78532.000000\n",
       "3    食品  77473.313008\n",
       "0   化妆品  76605.313008"
      ]
     },
     "execution_count": 27,
     "metadata": {},
     "output_type": "execute_result"
    }
   ],
   "source": [
    "group.sort_values(by='交易额',ascending=False,inplace=True)\n",
    "group"
   ]
  },
  {
   "cell_type": "code",
   "execution_count": 29,
   "id": "c8aedc33",
   "metadata": {},
   "outputs": [
    {
     "data": {
      "text/html": [
       "<div>\n",
       "<style scoped>\n",
       "    .dataframe tbody tr th:only-of-type {\n",
       "        vertical-align: middle;\n",
       "    }\n",
       "\n",
       "    .dataframe tbody tr th {\n",
       "        vertical-align: top;\n",
       "    }\n",
       "\n",
       "    .dataframe thead th {\n",
       "        text-align: right;\n",
       "    }\n",
       "</style>\n",
       "<table border=\"1\" class=\"dataframe\">\n",
       "  <thead>\n",
       "    <tr style=\"text-align: right;\">\n",
       "      <th></th>\n",
       "      <th>柜台</th>\n",
       "      <th>交易额</th>\n",
       "    </tr>\n",
       "  </thead>\n",
       "  <tbody>\n",
       "    <tr>\n",
       "      <th>0</th>\n",
       "      <td>化妆品</td>\n",
       "      <td>76605.313008</td>\n",
       "    </tr>\n",
       "    <tr>\n",
       "      <th>1</th>\n",
       "      <td>日用品</td>\n",
       "      <td>79901.939024</td>\n",
       "    </tr>\n",
       "    <tr>\n",
       "      <th>2</th>\n",
       "      <td>蔬菜水果</td>\n",
       "      <td>78532.000000</td>\n",
       "    </tr>\n",
       "    <tr>\n",
       "      <th>3</th>\n",
       "      <td>食品</td>\n",
       "      <td>77473.313008</td>\n",
       "    </tr>\n",
       "  </tbody>\n",
       "</table>\n",
       "</div>"
      ],
      "text/plain": [
       "     柜台           交易额\n",
       "0   化妆品  76605.313008\n",
       "1   日用品  79901.939024\n",
       "2  蔬菜水果  78532.000000\n",
       "3    食品  77473.313008"
      ]
     },
     "execution_count": 29,
     "metadata": {},
     "output_type": "execute_result"
    }
   ],
   "source": [
    "group.sort_index(inplace=True)\n",
    "group"
   ]
  },
  {
   "cell_type": "code",
   "execution_count": 30,
   "id": "c1b6f614",
   "metadata": {},
   "outputs": [
    {
     "data": {
      "text/plain": [
       "mean      1270.376281\n",
       "sum     312512.565041\n",
       "max       1798.000000\n",
       "Name: 交易额, dtype: float64"
      ]
     },
     "execution_count": 30,
     "metadata": {},
     "output_type": "execute_result"
    }
   ],
   "source": [
    "turnover['交易额'].agg(['mean','sum','max']) # 同时做多种操作"
   ]
  },
  {
   "cell_type": "code",
   "execution_count": 31,
   "id": "01b0d837",
   "metadata": {},
   "outputs": [
    {
     "data": {
      "text/html": [
       "<div>\n",
       "<style scoped>\n",
       "    .dataframe tbody tr th:only-of-type {\n",
       "        vertical-align: middle;\n",
       "    }\n",
       "\n",
       "    .dataframe tbody tr th {\n",
       "        vertical-align: top;\n",
       "    }\n",
       "\n",
       "    .dataframe thead th {\n",
       "        text-align: right;\n",
       "    }\n",
       "</style>\n",
       "<table border=\"1\" class=\"dataframe\">\n",
       "  <thead>\n",
       "    <tr style=\"text-align: right;\">\n",
       "      <th>柜台</th>\n",
       "      <th>化妆品</th>\n",
       "      <th>日用品</th>\n",
       "      <th>蔬菜水果</th>\n",
       "      <th>食品</th>\n",
       "    </tr>\n",
       "    <tr>\n",
       "      <th>姓名</th>\n",
       "      <th></th>\n",
       "      <th></th>\n",
       "      <th></th>\n",
       "      <th></th>\n",
       "    </tr>\n",
       "  </thead>\n",
       "  <tbody>\n",
       "    <tr>\n",
       "      <th>周七</th>\n",
       "      <td>9516.000000</td>\n",
       "      <td>14140.313008</td>\n",
       "      <td>16443.0</td>\n",
       "      <td>8996.000000</td>\n",
       "    </tr>\n",
       "    <tr>\n",
       "      <th>张三</th>\n",
       "      <td>24191.313008</td>\n",
       "      <td>7859.313008</td>\n",
       "      <td>7265.0</td>\n",
       "      <td>9261.000000</td>\n",
       "    </tr>\n",
       "    <tr>\n",
       "      <th>李四</th>\n",
       "      <td>20467.000000</td>\n",
       "      <td>11336.313008</td>\n",
       "      <td>23263.0</td>\n",
       "      <td>4896.000000</td>\n",
       "    </tr>\n",
       "    <tr>\n",
       "      <th>王五</th>\n",
       "      <td>10112.000000</td>\n",
       "      <td>11357.000000</td>\n",
       "      <td>10473.0</td>\n",
       "      <td>19249.313008</td>\n",
       "    </tr>\n",
       "    <tr>\n",
       "      <th>赵六</th>\n",
       "      <td>12319.000000</td>\n",
       "      <td>23286.000000</td>\n",
       "      <td>2527.0</td>\n",
       "      <td>17937.000000</td>\n",
       "    </tr>\n",
       "    <tr>\n",
       "      <th>钱八</th>\n",
       "      <td>NaN</td>\n",
       "      <td>11923.000000</td>\n",
       "      <td>18561.0</td>\n",
       "      <td>17134.000000</td>\n",
       "    </tr>\n",
       "  </tbody>\n",
       "</table>\n",
       "</div>"
      ],
      "text/plain": [
       "柜台           化妆品           日用品     蔬菜水果            食品\n",
       "姓名                                                   \n",
       "周七   9516.000000  14140.313008  16443.0   8996.000000\n",
       "张三  24191.313008   7859.313008   7265.0   9261.000000\n",
       "李四  20467.000000  11336.313008  23263.0   4896.000000\n",
       "王五  10112.000000  11357.000000  10473.0  19249.313008\n",
       "赵六  12319.000000  23286.000000   2527.0  17937.000000\n",
       "钱八           NaN  11923.000000  18561.0  17134.000000"
      ]
     },
     "execution_count": 31,
     "metadata": {},
     "output_type": "execute_result"
    }
   ],
   "source": [
    "tsb = turnover.pivot_table(values='交易额', index='姓名', columns='柜台', aggfunc='sum')\n",
    "tsb"
   ]
  },
  {
   "cell_type": "markdown",
   "id": "a250f674",
   "metadata": {},
   "source": [
    "# 爬虫！"
   ]
  },
  {
   "cell_type": "code",
   "execution_count": 32,
   "id": "de660bff",
   "metadata": {},
   "outputs": [],
   "source": [
    "import requests"
   ]
  },
  {
   "cell_type": "code",
   "execution_count": 40,
   "id": "5cc21110",
   "metadata": {},
   "outputs": [
    {
     "data": {
      "text/plain": [
       "{'User-Agent': 'Mozilla/5.0 (Macintosh; Intel Mac OS X 10_15_7) AppleWebKit/605.1.15 (KHTML, like Gecko) Version/15.4 Safari/605.1.15', 'Accept-Encoding': 'gzip, deflate', 'Accept': '*/*', 'Connection': 'keep-alive'}"
      ]
     },
     "execution_count": 40,
     "metadata": {},
     "output_type": "execute_result"
    }
   ],
   "source": [
    "import requests\n",
    "url = 'http://www.people.com.cn/'\n",
    "head = {'User-Agent': 'Mozilla/5.0 (Macintosh; Intel Mac OS X 10_15_7) AppleWebKit/605.1.15 (KHTML, like Gecko) Version/15.4 Safari/605.1.15'}\n",
    "res = requests.get(url,headers=head)\n",
    "res.request.headers"
   ]
  },
  {
   "cell_type": "code",
   "execution_count": 42,
   "id": "ac6372f1",
   "metadata": {},
   "outputs": [],
   "source": [
    "res.encoding = res.apparent_encoding"
   ]
  },
  {
   "cell_type": "code",
   "execution_count": 43,
   "id": "c63668ea",
   "metadata": {},
   "outputs": [
    {
     "data": {
      "text/plain": [
       "'<!DOCTYPE html PUBLIC \"-//W3C//DTD XHTML 1.0 Transitional//EN\" \"http://www.w3.org/TR/xhtml1/DTD/xhtml1-transitional.dtd\">\\n<html xmlns=\"http://www.w3.org/1999/xhtml\">\\n<head>\\n<meta http-equiv=\"content-type\" content=\"text/html;charset=GB2312\"/>\\n<meta http-equiv=\"Content-Language\" content=\"utf-8\" />\\n<meta content=\"all\" name=\"robots\" />\\n<title>人民网_网上的人民日报</title>\\n<!--热力图-->\\n<meta name=\"uctk\" content=\"enabled\">\\n<meta name=\"renderer\" content=\"webkit\" />\\n<meta http-equiv=\"X-UA-Compatible\" content=\"IE=Edge\" />\\n<meta name=\"viewport\" content=\"width=1320, user-scalable=yes\" />\\n<meta name=\"description\" content=\"人民网，是世界十大报纸之一《人民日报》建设的以新闻为主的大型网上信息发布平台，也是互联网上最大的中文和多语种新闻网站之一。作为国家重点新闻网站，人民网以新闻报道的权威性、及时性、多样性和评论性为特色，在网民中树立起了“权威媒体、大众网站”的形象。\" />\\n<meta name=\"keywords\" content=\"人民网,人民日报,中国共产党新闻,新闻中心,时政,社会,地方,地方领导,经济,能源环保,跨国公司,新农村,教育,科技,文化,饮食,娱乐,旅游,游戏,短信,彩信,资料,人民电视,图片,直播,访谈,观点,理论,传媒,国际军事,台湾,港澳,汽车,房产,IT,家电,开发区,百强县,体育,奥运,彩票,健康,男士,生活,天气,光盘,数据,强国论坛,强国博客,人民微博\" />\\n<meta name=\"filetype\" content=\"1\" />\\n<meta name=\"publishedtype\" content=\"1\" />\\n<meta name=\"pagetype\" content=\"2\" />\\n<meta name=\"catalogs\" content=\"1\" />\\n<link href=\"http://www.people.com.cn/img/2020fenxiang/css/share2020.css\" type=\"text/css\" rel=\"stylesheet\" media=\"all\" />\\n<link rel=\"stylesheet\" href=\"http://tools.people.com.cn/libs/swiper/2.0/idangerous.swiper.css\">\\n<link href=\"http://www.people.com.cn/img/2020peopleindex/css/page202201.css\" type=\"text/css\" rel=\"stylesheet\" media=\"all\" />\\n<link href=\"http://www.people.com.cn/img/2020peopleindex/css/pagetyn4.css\" type=\"text/css\" rel=\"stylesheet\" media=\"all\" />\\n<link href=\"http://www.people.com.cn/img/2020peopleindex/css/compatible202201.css\" type=\"text/css\" rel=\"stylesheet\" media=\"all\" />\\n<script src=\"http://tools.people.com.cn/libs/jquery/1.11.1/jquery-1.11.1.min.js\" type=\"text/javascript\"></script>\\n<script src=\"http://tools.people.com.cn/libs/swiper/2.0/idangerous.swiper.min.js\" type=\"text/javascript\"></script>\\n<style type=\"text/css\">\\n.datalh{ display:none;}\\n@media screen and (max-width: 1279px){\\n.asbanner,.ggtl,.ggtl div{ width:1000px !important;}\\n/*.ggtl, .bav .col-1 .fl div{ width:100% !important;}*/\\n.Classify span{ margin:0 25px;}\\n}\\n</style>\\n</head>\\n<body>\\n\\n<div class=\"main\">\\n    <!--头部-->\\n    \\n    <div class=\"header cf\" id=\"rm_topdata\">\\n        <div class=\"layout\">\\n            <h1 class=\"top_logo fl\"><a href=\"http://www.people.cn\" target=\"_blank\"><img src=\"/img/2020peopleindex/img/t_logo1.png\" alt=\"人民网\"  /></a></h1>\\n            <div class=\"zt_banner fl\">\\n\\t\\t\\t\\t\\n                <a href=\"http://jhsjk.people.cn/\" target=\"_blank\"><img src=\"/img/2020peopleindex/img/database.png\" class=\"database\" alt=\"\">\\n\\t\\t\\t\\t<img src=\"/img/2020peopleindex/img/xjp.png\" class=\"xjp\" alt=\"\"></a>\\n                <style type=\"text/css\">\\n                .datalh{ margin-top:80px;}\\n\\t\\t\\t\\t@media screen and (max-width: 1279px){\\n\\t\\t\\t\\t\\t.header img{ margin-top:50px;}\\n\\t\\t\\t\\t}\\n                </style>\\n                <a href=\"http://jhsjk.people.cn/\" target=\"_blank\"><img src=\"/img/2020peopleindex/img/2021lh/datalh.png\" class=\"datalh\" alt=\"\"></a>\\n            </div>\\n            <div class=\"databank fr\">\\n                <!--<a href=\"http://djsjk.people.cn/\" target=\"_blank\"><img src=\"/img/2020peopleindex/img/logodz2.png\" class=\"dz\" alt=\"\"></a>-->\\n            </div>\\n        </div>\\n    </div>\\n    \\n    <!--导航-->\\n    <div class=\"rm_nav cf\" id=\"rm_topnav\">\\n        <div class=\"layout rm_nav_con cf\">\\n\\t\\t\\t<div class=\"col col-1\">\\n\\t\\t\\t\\t<ul class=\"cf\"><li class=\"shouye\"><a href=\"http://www.people.com.cn\" target=\"_blank\">首页</a></li>\\n<li class=\"menu_item\">\\n    <span>党政<img src=\"/img/2020peopleindex/img/arrow2.png\" class=\"zhuan\" /></span>\\n    <div>\\n        <ul>\\n            <li><a href=\"http://cpc.people.com.cn/\" target=\"_blank\">党网 · 时政</a></li>\\n            <li><a href=\"http://renshi.people.com.cn/\" target=\"_blank\">人事</a></li>\\n            <li><a href=\"http://fanfu.people.com.cn/\" target=\"_blank\">反腐</a></li>\\n            <li><a href=\"http://theory.people.com.cn/\" target=\"_blank\">理论</a></li>\\n            <li><a href=\"http://dangshi.people.com.cn/\" target=\"_blank\">党史</a></li>\\n            <li><a href=\"http://dangjian.people.com.cn/\" target=\"_blank\">党建</a></li>\\n        </ul>\\n    </div>\\n</li><li class=\"menu_item\">\\n        <span>要闻<img src=\"/img/2020peopleindex/img/arrow2.png\" class=\"zhuan\" /></span>\\n        <div class=\"xinwen\">\\n            <ul>\\n                <li><a href=\"http://finance.people.com.cn/\" target=\"_blank\">经济 · 科技</a></li>\\n                <li><a href=\"http://society.people.com.cn/\" target=\"_blank\">社会 · 法治</a></li>\\n                <li><a href=\"http://ent.people.com.cn/\" target=\"_blank\">文旅 · 体育</a></li>\\n                <li><a href=\"http://health.people.com.cn/\" target=\"_blank\">健康 · 生活</a></li>\\n                <li><a href=\"http://world.people.com.cn/\" target=\"_blank\">国际</a></li>\\n                <li><a href=\"http://military.people.com.cn/\" target=\"_blank\">军事</a></li>\\n                <li><a href=\"http://hm.people.com.cn/\" target=\"_blank\">港澳</a></li>\\n                <li><a href=\"http://tw.people.com.cn/\" target=\"_blank\">台湾</a></li>\\n                <li><a href=\"http://edu.people.com.cn/\" target=\"_blank\">教育</a></li>\\n<li><a href=\"http://lxjk.people.cn/GB/index.html\" target=\"_blank\">科普</a></li>\\n            </ul>\\n        </div>\\n    </li><li class=\"menu_item\">\\n    <span>观点<img src=\"/img/2020peopleindex/img/arrow2.png\" class=\"zhuan\" /></span>\\n    <div>\\n        <ul>\\n            <li><a href=\"http://opinion.people.com.cn/GB/223228/index.html\" target=\"_blank\">人民网评</a></li>\\n            <li><a href=\"http://opinion.people.com.cn/GB/8213/420650/index.html\" target=\"_blank\">三评</a></li>\\n            <li><a href=\"http://opinion.people.com.cn/GB/427456/index.html\" target=\"_blank\">人民财评</a></li>\\n            <li><a href=\"http://opinion.people.com.cn/GB/431649/index.html\" target=\"_blank\">人民来论</a></li>            \\n            <li><a href=\"http://fangtan.people.com.cn/\" target=\"_blank\">人民访谈</a></li>\\n<li><a href=\"http://opinion.people.com.cn/GB/427456/437949/index.html\" target=\"_blank\">人民体谈</a></li>\\n        </ul>\\n    </div>\\n</li><li class=\"menu_item\">\\n        <span>互动<img src=\"/img/2020peopleindex/img/arrow2.png\" class=\"zhuan\" /></span>\\n        <div>\\n            <ul>\\n                <li><a href=\"http://liuyan.people.com.cn/\" target=\"_blank\">领导留言板</a></li>\\n                <li><a href=\"http://bbs1.people.com.cn/\" target=\"_blank\">强国论坛</a></li>\\n                <li><a href=\"https://weiquan.people.com.cn/#/\" target=\"_blank\">维权</a></li>                \\n            </ul>\\n        </div>\\n    </li><li class=\"menu_item\">\\n\\t<span>可视化<img src=\"/img/2020peopleindex/img/arrow2.png\" class=\"zhuan\" /></span>\\n\\t<div>\\n\\t\\t<ul>\\n\\t\\t\\t<li><a href=\"http://v.people.cn/\" target=\"_blank\">视频</a></li>\\n\\t\\t\\t<li><a href=\"http://pic.people.com.cn/\" target=\"_blank\">图片</a></li>\\n\\t\\t\\t<li><a href=\"http://graphicnews.people.com.cn/\" target=\"_blank\">图解</a></li>\\n\\t\\t\\t<li><a href=\"http://art.people.com.cn/\" target=\"_blank\">灵境·人民艺术馆</a></li>\\n\\t\\t</ul>\\n\\t</div>\\n</li><li class=\"menu_item\">\\n    <span>地方<img src=\"/img/2020peopleindex/img/arrow2.png\" class=\"zhuan\" /></span>\\n    <div>\\n    <ul class=\"df\">\\n        <li><a href=\"http://bj.people.com.cn/\" target=\"_blank\">京</a></li>\\n        <li><a href=\"http://tj.people.com.cn/\" target=\"_blank\">津</a></li>\\n        <li><a href=\"http://he.people.com.cn/\" target=\"_blank\">冀</a></li>\\n        <li><a href=\"http://sx.people.com.cn/\" target=\"_blank\">晋</a></li>\\n        <li><a href=\"http://nm.people.com.cn/\" target=\"_blank\">蒙</a></li>\\n        <li><a href=\"http://ln.people.com.cn/\" target=\"_blank\">辽</a></li>\\n        <li><a href=\"http://jl.people.com.cn/\" target=\"_blank\">吉</a></li>\\n        <li><a href=\"http://hlj.people.com.cn/\" target=\"_blank\">黑</a></li>\\n        <li><a href=\"http://sh.people.com.cn/\" target=\"_blank\">沪</a></li>\\n        <li><a href=\"http://js.people.com.cn\" target=\"_blank\">苏</a></li>\\n        <li><a href=\"http://zj.people.com.cn/\" target=\"_blank\">浙</a></li>\\n        <li><a href=\"http://ah.people.com.cn/\" target=\"_blank\">皖</a></li>\\n        <li><a href=\"http://fj.people.com.cn/\" target=\"_blank\">闽</a></li>\\n        <li><a href=\"http://jx.people.com.cn/\" target=\"_blank\">赣</a></li>\\n        <li><a href=\"http://sd.people.com.cn/\" target=\"_blank\">鲁</a></li>\\n        <li><a href=\"http://henan.people.com.cn/\" target=\"_blank\">豫</a></li>\\n        <li><a href=\"http://hb.people.com.cn/\" target=\"_blank\">鄂</a></li>\\n        <li><a href=\"http://hn.people.com.cn/\" target=\"_blank\">湘</a></li>\\n        <li><a href=\"http://gd.people.com.cn/\" target=\"_blank\">粤</a></li>\\n        <li><a href=\"http://gx.people.com.cn/\" target=\"_blank\">桂</a></li>\\n        <li><a href=\"http://hi.people.com.cn/\" target=\"_blank\">琼</a></li>\\n        <li><a href=\"http://cq.people.com.cn/\" target=\"_blank\">渝</a></li>\\n        <li><a href=\"http://sc.people.com.cn/\" target=\"_blank\">川</a></li>\\n        <li><a href=\"http://gz.people.com.cn/\" target=\"_blank\">黔</a></li>\\n        <li><a href=\"http://yn.people.com.cn/\" target=\"_blank\">滇</a></li>\\n        <li><a href=\"http://xz.people.com.cn/\" target=\"_blank\">藏</a></li>\\n        <li><a href=\"http://sn.people.com.cn/\" target=\"_blank\">陕</a></li>\\n        <li><a href=\"http://gs.people.com.cn/\" target=\"_blank\">甘</a></li>\\n        <li><a href=\"http://qh.people.com.cn/\" target=\"_blank\">青</a></li>\\n        <li><a href=\"http://nx.people.com.cn/\" target=\"_blank\">宁</a></li>\\n        <li><a href=\"http://xj.people.com.cn/\" target=\"_blank\">新</a></li>\\n        <li><a href=\"http://sz.people.com.cn/\" target=\"_blank\">鹏</a></li>\\n        <li><a href=\"http://www.rmxiongan.com/\" target=\"_blank\">雄安</a></li>\\n    </ul>\\n    </div>\\n</li><li class=\"jubao\"><a href=\"https://www.12377.cn/\" target=\"_blank\">举报专区</a></li><li class=\"language\"><span>多语言<img src=\"/img/2020peopleindex/img/arrow2.png\" class=\"zhuan\" /></span>\\n<div>\\n    <ul class=\"dyz\">\\n        <li><a href=\"http://mongol.people.com.cn/\" target=\"_blank\"><img src=\"/img/2020peopleindex/img/dyz/01.png\" class=\"meng\" /></a></li>\\n        <li><a href=\"http://tibet.people.com.cn/\" target=\"_blank\"><img src=\"/img/2020peopleindex/img/dyz/02.png\" /></a></li>\\n        <li><a href=\"http://uyghur.people.com.cn/\" target=\"_blank\"><img src=\"/img/2020peopleindex/img/dyz/03.png\" /></a></li>\\n        <li><a href=\"http://kazakh.people.com.cn/\" target=\"_blank\"><img src=\"/img/2020peopleindex/img/dyz/04.png\" /></a></li>\\n        <li><a href=\"http://korean.people.com.cn/\" target=\"_blank\"><img src=\"/img/2020peopleindex/img/dyz/05.png\" /></a></li>\\n        <li><a href=\"http://yi.people.com.cn/\" target=\"_blank\"><img src=\"/img/2020peopleindex/img/dyz/06.png\" /></a></li>\\n        <li><a href=\"http://sawcuengh.people.com.cn/\" target=\"_blank\"><img src=\"/img/2020peopleindex/img/dyz/07.png\" /></a></li>\\n        <li><a href=\"http://www.people.com.cn/BIG5/\" target=\"_blank\"><img src=\"/img/2020peopleindex/img/dyz/08.png\" /></a></li>\\n\\t\\t<br />\\n        <li><a href=\"http://en.people.cn/\" target=\"_blank\"><img src=\"/img/2020peopleindex/img/dyz/09.png\" /></a></li>\\n        <li><a href=\"http://j.people.com.cn/\" target=\"_blank\"><img src=\"/img/2020peopleindex/img/dyz/10.png\" /></a></li>\\n        <li><a href=\"http://french.peopledaily.com.cn/\" target=\"_blank\"><img src=\"/img/2020peopleindex/img/dyz/11.png\" /></a></li>\\n        <li><a href=\"http://spanish.peopledaily.com.cn/\" target=\"_blank\"><img src=\"/img/2020peopleindex/img/dyz/12.png\" /></a></li>\\n        <li><a href=\"http://russian.people.com.cn/\" target=\"_blank\"><img src=\"/img/2020peopleindex/img/dyz/13.png\" /></a></li>\\n        <li><a href=\"http://arabic.people.com.cn/\" target=\"_blank\"><img src=\"/img/2020peopleindex/img/dyz/14.png\" /></a></li>\\n        <li><a href=\"http://kr.people.com.cn/\" target=\"_blank\"><img src=\"/img/2020peopleindex/img/dyz/15.png\" /></a></li>\\n        <li><a href=\"http://german.people.com.cn/\" target=\"_blank\"><img src=\"/img/2020peopleindex/img/dyz/16.png\" /></a></li>\\n        <li><a href=\"http://portuguese.people.com.cn/\" target=\"_blank\"><img src=\"/img/2020peopleindex/img/dyz/17.png\" /></a></li>\\n        <li><a href=\"http://www.swahili.people.cn/\" target=\"_blank\"><img src=\"/img/2020peopleindex/img/dyz/19.png\" /></a></li>\\n        <li><a href=\"http://www.italian.people.cn/\" target=\"_blank\"><img src=\"/img/2020peopleindex/img/dyz/20.png\" /></a></li>\\n        <li><a href=\"http://www.kaz.people.cn/\" target=\"_blank\"><img src=\"/img/2020peopleindex/img/dyz/21.png\" /></a></li>\\n    </ul>\\n</div>\\n</li><li class=\"language dhfj\"><span>合作网站<img src=\"/img/2020peopleindex/img/arrow2.png\" class=\"zhuan\" /></span>\\n<div>\\n    <ul class=\"hzwz\">\\n        <li><a href=\"http://cpc.people.com.cn/GB/69112/113427/index.html\" target=\"_blank\">毛主席纪念堂</a></li>\\n        <li><a href=\"http://zhouenlai.people.cn/\" target=\"_blank\">周恩来纪念网</a></li>\\n        <li><a href=\"http://www.dengxiaopingnet.com/\" target=\"_blank\">邓小平纪念网</a></li>\\n        <li style=\"display:none;\"><a href=\"http://npc.people.com.cn/\" target=\"_blank\">人大新闻网</a></li>\\n        <li><a href=\"http://acftu.people.com.cn/\" target=\"_blank\">工会新闻网</a></li>\\n        <li><a href=\"http://www.chinaql.org/GB/index.html\" target=\"_blank\">中国侨联</a></li>\\n        <li><a href=\"https://www.xuexi.cn/\" target=\"_blank\">学习强国</a></li>\\n        <li><a href=\"http://www.dswxyjy.org.cn/\" target=\"_blank\">中共中央党史和文献研究院</a></li>\\n        <li><a href=\"http://www.12380.gov.cn/\" target=\"_blank\">中组部12380举报网</a></li>\\n        <li><a href=\"http://www.nopss.gov.cn/\" target=\"_blank\">全国哲学社科工作办</a></li>\\n        <li style=\"display:none;\"><a href=\"http://tyzx.people.cn/\" target=\"_blank\">中国统一战线新闻网</a></li>\\n        <li><a href=\"http://www.qizhiwang.org.cn/\" target=\"_blank\">旗帜网</a></li>\\n        <li><a href=\"http://www.gjbmj.gov.cn/\" target=\"_blank\">国家保密局</a></li>\\n        <li><a href=\"http://kpzg.people.com.cn/\" target=\"_blank\">科普中国</a></li>\\n        <li><a href=\"http://ip.people.com.cn/\" target=\"_blank\">知识产权</a></li>\\n<li><a href=\"http://ent.people.com.cn/GB/436846/441076/index.html\" target=\"_blank\">文化企业社会责任报告发布平台</a></li>\\n<li><a href=\"http://www.minge.gov.cn/\" target=\"_blank\">中国国民党革命委员会</a></li>\\n        <li style=\"display:none\"><a href=\"http://rwdl.people.cn/\" target=\"_blank\">中国国家人文地理</a></li>\\n    </ul>\\n</div>\\n</li><li class=\"nav_jia\"><a href=\"http://www.people.cn/app/download.html\" target=\"_blank\"><img src=\"/img/2020peopleindex/img/rmwjia1.png\" alt=\"\"></a></li><li class=\"wza\"><a href=\"javascript:void(0)\" id=\"cniil_wza\"><img src=\"/img/2020peopleindex/img/wza.png\" width=\"24\" alt=\"\"></a></li><li class=\"nav_more\"><img src=\"/img/2020peopleindex/img/more2.png\" alt=\"\"></li><li class=\"sou\"><a href=\"http://search.people.cn/\" target=\"_blank\"><img src=\"/img/2020peopleindex/img/sou1.png\" alt=\"\"></a></li><li class=\"Sign\" id=\"login_button\"><em></em><a href=\"http://sso.people.com.cn/login?fromUrl=http://people.com.cn\" target=\"_blank\">登录</a></li>\\n                <div class=\"p_login\" id=\"p_login\">\\n                    <div class=\"jiao\"></div>\\n                    <div id=\"txz_dlh\">\\n                        <div class=\"lg_up\">\\n                            <span><img src=\"/img/2020peopleindex/img/dltx1.png\" width=\"30\" height=\"30\" alt=\"\"></span><em id=\"loginMsg\"></em>\\n                        </div>\\n                        <div class=\"lg_down\">\\n                            <a id=\"logout\" target=\"_self\">退出</a>\\n                        </div>\\n                    </div>\\n                </div></ul>\\n\\t\\t\\t</div>\\n\\t\\t</div>\\n\\t</div>\\n    \\n    <div class=\"nav_more_con cf\">\\n\\t\\t<i class=\"more_btn\"></i>\\n\\t\\t<div class=\"layout cf\">\\n\\t\\t\\t<h1 class=\"cf\"><img src=\"/img/2020peopleindex/img/logo_red.png\" alt=\"\"></h1><ul class=\"cf\">\\n            \\t<li><a href=\"http://www.people.cn/app/download.html\" target=\"_blank\"><img src=\"/img/2020peopleindex/img/icon_more0.png\" alt=\"\">人民网+</a></li>\\n\\t\\t\\t\\t<li><a href=\"http://cpc.people.com.cn/\" target=\"_blank\"><img src=\"/img/2020peopleindex/img/icon_more1.png\" alt=\"\">中国共产党新闻网</a></li>\\n\\t\\t\\t\\t<li><a href=\"http://liuyan.people.com.cn/\" target=\"_blank\"><img src=\"/img/2020peopleindex/img/icon_more2.png\" alt=\"\">领导留言板</a></li>\\n\\t\\t\\t\\t<li><a href=\"http://bbs1.people.com.cn/board/1.html\" target=\"_blank\"><img src=\"/img/2020peopleindex/img/icon_more3.png\" alt=\"\">强国论坛</a></li>\\n\\t\\t\\t\\t<li><a href=\"http://v.people.cn/\" target=\"_blank\"><img src=\"/img/2020peopleindex/img/icon_more4.png\" alt=\"\">人民视频</a></li>\\n\\t\\t\\t\\t<!--<li><a href=\"http://www.people.cn/rmzy/download.html\" target=\"_blank\"><img src=\"/img/2020peopleindex/img/icon_more5.png\" alt=\"\">人民智云</a></li>-->\\n\\t\\t\\t</ul><h3 class=\"cf\">人民日报报系</h3>\\n<div class=\"more_con cf\">\\n    <a href=\"http://paper.people.com.cn/rmrb/index.html\" target=\"_blank\">人民日报</a>\\n    <a href=\"http://paper.people.com.cn/rmrbhwb/paperindex.htm\" target=\"_blank\">人民日报海外版</a>\\n    <a href=\"http://www.cnautonews.com/\" target=\"_blank\">中国汽车报</a>\\n    <a href=\"http://paper.people.com.cn/zgnyb/paperindex.htm\" target=\"_blank\">中国能源报</a>\\n    <a href=\"http://paper.people.com.cn/jksb/paperindex.htm\" target=\"_blank\">健康时报</a>\\n    <a href=\"http://www.stcn.com/\" target=\"_blank\">证券时报</a>\\n    <a href=\"http://www.ifnews.com/\" target=\"_blank\">国际金融报网</a>\\n    <a href=\"http://paper.people.com.cn/fcyym/paperindex.htm\" target=\"_blank\">讽刺与幽默</a>\\n    <a href=\"http://paper.people.com.cn/zgcsb/paperindex.htm\" target=\"_blank\">中国城市报</a>\\n    <a href=\"http://paper.people.com.cn/xwzx/paperindex.htm\" target=\"_blank\">新闻战线</a>\\n    <a href=\"http://paper.people.com.cn/rmlt/paperindex.htm\" target=\"_blank\">人民论坛</a>\\n    <a href=\"http://www.hqrw.com.cn/\" target=\"_blank\">环球人物</a>\\n    <a href=\"http://www.ceweekly.cn/\" target=\"_blank\">中国经济周刊</a>\\n    <a href=\"http://www.msweekly.com/\" target=\"_blank\">民生周刊</a>\\n    <a href=\"http://www.gjrwls.com/\" target=\"_blank\">国家人文历史</a>\\n    <a href=\"http://paper.people.com.cn/rmzk/paperindex.htm\" target=\"_blank\">人民周刊</a>\\n<a href=\"http://www.rmsznet.com/\" target=\"_blank\">人民数字</a>\\n</div><h3 class=\"cf\">旗下网站</h3>\\n<div class=\"more_con cf\">\\n<a href=\"http://sklccc.com.cn/\" target=\"_blank\">国家重点实验室</a>\\n<a href=\"http://www.huanqiu.com/\" target=\"_blank\">环球网</a>\\n<a href=\"http://www.haiwainet.cn/\" target=\"_blank\">海外网</a>\\n<a href=\"http://vip.people.com.cn/\" target=\"_blank\">人民图片</a>\\n<a href=\"https://visual.people.cn/editorial\" target=\"_blank\">人民视觉</a>    \\n<a href=\"http://yjy.people.com.cn/\" target=\"_blank\">人民网研究院</a>\\n<a href=\"http://www.peoplemooc.com/\" target=\"_blank\">人民慕课</a>\\n</div></div>\\n\\t</div>\\n    <!--头条新闻-->\\n    <div class=\"sp_bg cf\">\\n        <div class=\"layout Headlines cf\" id=\"hotnews\">\\n            <h1 class=\"fbold\" id=\"rm_topline\"><a href=\"http://opinion.people.com.cn/n1/2022/0509/c1003-32417086.html\" target=_blank><img src=\"/NMediaFile/2022/0509/MAIN202205091051329785513942692.jpg\" width=\"1280\" height=\"56\"/></a></h1>\\n\\n            <div id=\"rm_topread\"><a href=\"http://opinion.people.com.cn/n1/2022/0506/c1003-32415059.html\" target=\"_blank\">毫不动摇坚持“动态清零”总方针</a><a href=\"http://opinion.people.com.cn/n1/2022/0507/c1003-32416000.html\" target=\"_blank\">勠力同心巩固抗疫成果 因时因势做好精准防控</a><a href=\"http://opinion.people.com.cn/n1/2022/0508/c1003-32416790.html\" target=\"_blank\">以时不我待的精神、分秒必争的行动 抓实抓细疫情防控各项工作</a></div>\\n            \\n        </div>\\n        <!--要闻-->\\n        <div class=\"layout rm_main cf\">\\n            <div class=\"col col-1 fl\" id=\"rm_focus\">\\n                <div class=\"picWrap1 cf\">\\n                <div class=\"tvplayshow\">\\n                    <div class=\"video-play\"></div>\\n                    <span class=\"closetv\" onclick=\"stopVideoPlay()\">关闭视频</span>\\n                </div>\\n\\t\\t\\t\\t<span id=\"prev1\"></span>\\n\\t\\t\\t\\t<span id=\"next1\"></span>\\n\\t\\t\\t\\t<div class=\"swiper-container swiper-container-p1 white\">\\n\\t\\t\\t\\t  \\t<div class=\"swiper-wrapper\"><div class=\"swiper-slide\"><a href=\"http://pic.people.com.cn/n1/2022/0509/c1016-32417556.html\" target=_blank><img src=\"/NMediaFile/2022/0509/MAIN202205091046070856254336866.jpg\" width=\"867\" height=\"567\"/></a><span><a href=\"http://pic.people.com.cn/n1/2022/0509/c1016-32417556.html\" target=_blank>黑龙江工业经济实现良好开局</a></span></div>\\n<div class=\"swiper-slide\"><a href=\"http://pic.people.com.cn/n1/2022/0509/c1016-32417354.html\" target=_blank><img src=\"/NMediaFile/2022/0509/MAIN202205091041466548536945500.jpg\" width=\"867\" height=\"567\"/></a><span><a href=\"http://pic.people.com.cn/n1/2022/0509/c1016-32417354.html\" target=_blank>上海：社区志愿者为居民代配药</a></span></div>\\n<div class=\"swiper-slide\"><a href=\"http://pic.people.com.cn/n1/2022/0509/c1016-32417420.html\" target=_blank><img src=\"/NMediaFile/2022/0509/MAIN202205091041477064265008840.jpg\" width=\"867\" height=\"567\"/></a><span><a href=\"http://pic.people.com.cn/n1/2022/0509/c1016-32417420.html\" target=_blank>治理一条河 提升一座城</a></span></div>\\n<div class=\"swiper-slide\"><a href=\"http://pic.people.com.cn/n1/2022/0509/c1016-32417514.html\" target=_blank><img src=\"/NMediaFile/2022/0509/MAIN202205091041473708994590296.jpg\" width=\"867\" height=\"567\"/></a><span><a href=\"http://pic.people.com.cn/n1/2022/0509/c1016-32417514.html\" target=_blank>贵南高铁朝阳隧道贯通</a></span></div>\\n<div class=\"swiper-slide\"><a href=\"http://pic.people.com.cn/n1/2022/0509/c1016-32417507.html\" target=_blank><img src=\"/NMediaFile/2022/0509/MAIN202205091041469706561604672.jpg\" width=\"867\" height=\"567\"/></a><span><a href=\"http://pic.people.com.cn/n1/2022/0509/c1016-32417507.html\" target=_blank>福建仓山：少儿比拼乒乓球</a></span></div>\\n<div class=\"swiper-slide\"><a href=\"http://jx.people.com.cn/n2/2022/0509/c190260-35259099.html\" target=_blank><img src=\"/NMediaFile/2022/0509/MAIN202205091057118308622683312.jpg\" width=\"867\" height=\"567\"/></a><span><a href=\"http://jx.people.com.cn/n2/2022/0509/c190260-35259099.html\" target=_blank>江西武宁：杜鹃花开漫山红</a></span></div>\\n<div class=\"swiper-slide\"><a href=\"http://ah.people.com.cn/n2/2022/0509/c227131-35259354.html\" target=_blank><img src=\"/NMediaFile/2022/0509/MAIN202205091057111345205579408.jpg\" width=\"867\" height=\"567\"/></a><span><a href=\"http://ah.people.com.cn/n2/2022/0509/c227131-35259354.html\" target=_blank>安徽歙县：10万亩油菜开镰抢收</a></span></div>\\n<script type=\"text/javascript\" src=\"http://pgg.people.com.cn/s?z=people&c=9\" charset=\"gbk\"></script>\\n<script type=\"text/javascript\" src=\"http://pgg.people.com.cn/s?z=people&c=10\" charset=\"gbk\"></script>\\n<script type=\"text/javascript\" src=\"http://pgg.people.com.cn/s?z=people&c=11\" charset=\"gbk\"></script>\\n</div>\\n\\t\\t\\t\\t  \\t<div class=\"swiper-pagination1\"></div>\\n\\t\\t\\t\\t  \\t<div class=\"num1\">\\n\\t\\t\\t\\t\\t\\t<i><em class=\"thisp\"></em>/<em class=\"allp\"></em></i>\\n\\t\\t\\t\\t  \\t</div>\\n\\t\\t\\t\\t</div>\\n\\t\\t\\t</div>\\n                \\n            </div>\\n            <div class=\"col col-2 fr\" id=\"rm_aq\">\\n                <h2><a href=\"http://politics.people.com.cn/n1/2022/0509/c1024-32417085.html\" target=_blank><img src=\"/NMediaFile/2022/0509/MAIN202205090534566741500644955.jpg\" width=\"380\" height=\"32\" border=\"0\" alt=\"\"/></a></h2>\\n\\n                <style type=\"text/css\">\\n.red1,.red1 a:link,.red1 a:visited,.red1 a:hover{color:#c91116}\\n</style>\\n<ul class=\"list1\"><li><a href=\"http://politics.people.com.cn/n1/2022/0509/c1001-32417303.html\" target=\"_blank\">时政微周刊|总书记的一周(5月2日-5月8日)</a></li><li><a href=\"http://finance.people.com.cn/n1/2022/0509/c1004-32417083.html\" target=\"_blank\">稳字当头 稳中求进|确保经济运行在合理区间</a></li><li><a href=\"http://finance.people.com.cn/n1/2022/0509/c1004-32417089.html\" target=\"_blank\">访谈:有条件有信心持续激发市场主体活力</a><a href=\"http://finance.people.com.cn/n1/2022/0509/c1004-32417338.html\" target=\"_blank\"> 图解</a></li><li><b><a href=\"http://leaders.people.com.cn/GB/178291/218130/443601/index.html\" class=\"red1\" style=\"\" target=\"_blank\">\"我为党的二十大建言献策\"入口</a> <a href=\"http://leaders.people.com.cn/n1/2022/0509/c58278-32417314.html\" class=\"red1\" style=\"\" target=\"_blank\">建言选登</a></b></li></ul>\\n                \\n\\t\\t\\t\\t\\n\\t\\t\\t\\t<div class=\"fenjinnew\">\\n<a href=\"http://cpc.people.com.cn/GB/67481/441898/index.html\" target=\"_blank\"><img src=\"/img/2020peopleindex/img/azq/fenjin.png\" alt=\"\"></a>\\n<ul class=\"list1 cf\"><li class=\"anews\"><a href=\"http://politics.people.com.cn/n1/2022/0509/c1001-32417285.html\" target=\"_blank\">荆楚儿女传薪火 英雄土地谱新篇</a></li></ul>\\n</div>\\n<style type=\"text/css\">\\n.fenjinnew{width:100%;height:auto;margin-top:10px;}\\n.fenjinnew ul.list1{ clear:both;}\\n.fenjinnew .list1 li{padding:20px 0 0px 0px; margin:0 auto;color:#c91116;}\\n.fenjinnew .list1 li a:link,.fenjinnew .list1 li a:visited{color:#c91116;}\\n@media screen and (max-width: 1279px){\\n.fenjinnew{width:100%; height:auto; margin-top:6px;}\\n.fenjinnew img{width:100%;}\\n.fenjinnew .list1 li{margin:5px auto 6px auto;padding:0px 0 0px 0px;}\\n}\\n</style>\\n\\t\\t\\t\\t\\n                <style type=\"text/css\">.a6zw{ min-height:19px;}</style>         \\n                <div class=\"a6zw\"><h2 class=\"A6\"><a href=\"http://opinion.people.com.cn/n1/2022/0509/c1003-32417118.html\" target=\"_blank\">任理轩:赢得更加伟大的胜利和荣光</a></h2></div>\\n                \\n                \\n\\t\\t\\t\\t\\n                <ul class=\"list1\"><li><a href=\"http://theory.people.com.cn/n1/2022/0509/c40531-32417367.html\" target=\"_blank\">在开拓进取中大力弘扬北京冬奥精神</a></li><li><a href=\"http://cpc.people.com.cn/GB/67481/444418/index.html\" class=\"red1\" style=\"\" target=\"_blank\">奋斗者正青春|</a><a href=\"http://world.people.com.cn/n1/2022/0509/c1002-32417145.html\" class=\"red1\" style=\"\" target=\"_blank\">为共建\"一带一路\"贡献青春力量</a></li><li><a href=\"http://finance.people.com.cn/n1/2022/0509/c1004-32417413.html\" target=\"_blank\">从中国匠心到世界品质 中国品牌以\"质\"谋未来</a></li><li><a href=\"http://health.people.com.cn/n1/2022/0509/c14739-32417090.html\" target=\"_blank\">北京6万多干部一线抗疫</a> <a href=\"http://health.people.com.cn/n1/2022/0509/c14739-32417091.html\" target=\"_blank\">江苏提升防疫能力</a><a href=\"http://opinion.people.com.cn/n1/2022/0509/c1003-32417094.html\" target=\"_blank\"> 评</a></li></ul>\\t\\t\\t\\n                <div id=\"difang\"></div>\\n            </div>\\n        </div>\\n<!--A7粗体有无自适应-->\\n<script type=\"text/javascript\">\\n$(document).ready(function() {\\n\\tvar $a7=$(\".rm_main .col-2 .a6zw\");\\n\\tvar $alistli=$(\".rm_main .col-2 .list1 li\");\\n\\tvar $df=$(\"#difang\");\\n\\tif($a7.html().length == 0){\\n\\t\\t$a7.css(\"min-height\",\"0px\");\\n\\t\\t$(window).resize(function(){\\n\\t\\t\\tif(document.body.clientWidth > 1262){\\n\\t\\t\\t   $alistli.css(\"line-height\",\"24px\")\\t\\t\\t   \\n\\t\\t\\t}\\n\\t\\t\\telse{\\n\\t\\t\\t   $alistli.css(\"line-height\",\"22px\")\\t\\n\\t\\t\\t}\\n\\t\\t});\\n\\t\\tif(document.body.clientWidth > 1262){\\n\\t\\t   $alistli.css(\"line-height\",\"24px\")\\n\\t\\t   $df.css(\"bottom\",\"0px\")\\n\\t\\t}\\n\\t\\telse{\\n\\t\\t   $alistli.css(\"line-height\",\"22px\")\\n\\t\\t   $dfli.css(\"line-height\",\"22px\")\\n\\t\\t}\\n\\t}\\n});\\n</script>\\n        <!--版块 要闻-->\\n        <div class=\"layout section_main cf\" id=\"rm_bq\">\\n            <div class=\"tit1 cf\"><h2><a href=\"http://www.people.com.cn/GB/59476/index.html\" target=\"_blank\">要闻</a></h2>·<h2><a href=\"http://www.people.com.cn/GB/59476/index.html\" target=\"_blank\">热点</a></h2><img src=\"/img/2020peopleindex/img/more1.png\" alt=\"\"></div>\\n            <div class=\"list2 cf\">\\t\\t\\t\\n                <ul class=\"cf blist\"><li class=\"key\"><a href=\"http://finance.people.com.cn/n1/2022/0509/c1004-32417156.html\" target=\"_blank\">到2025年 我国以县城为重要载体的城镇化建设将取得重要进展</a></li><li class=\"key\"><a href=\"http://edu.people.com.cn/n1/2022/0509/c1006-32417117.html\" target=\"_blank\">同上一堂五四精神思政大课开播 广大高校师生反响热烈</a></li><li class=\"key\"><a href=\"http://cpc.people.com.cn/GB/67481/442041/index.html\" target=\"_blank\">我们的新时代|</a><a href=\"http://society.people.com.cn/n1/2022/0509/c1008-32417132.html\" target=\"_blank\">快递小哥们用辛勤劳动助力美好生活</a></li><li class=\"key\"><a href=\"http://society.people.com.cn/n1/2022/0509/c1008-32417121.html\" target=\"_blank\">场地缺、时间少……让青少年享受运动有多难?</a></li></ul>\\n<style type=\"text/css\">\\n.list2 span{height:60px;display:inline-block;margin-top:15px;width:305px;margin-left:19px;float:left;background:#dcefff;font-size:16px;}\\n.list2 span.lb{padding-top:11px;margin-top:0px;height:65px;}\\n.list2 span.lb em{display:block;line-height:28px;position:relative;padding-left:20px;}\\n.list2 span.lb em i{display:inline-block;width:6px;height:6px;vertical-align:super;background:#1c9bf4;border-radius:50%;position:absolute;left:8px;top:10px;}\\n@media screen and (max-width: 1279px){\\n.list2 span{width:240px;margin-left:13px;margin-top:20px;height:55px;font-size:14px;}\\n.list2 span img{ width:100%;}\\n.list2 span.lb em{ padding-left:3px;}\\n.list2 span.lb em i{ display:none;}\\n}\\n</style>\\n                <ul class=\"cf blist1\"><li><a href=\"http://world.people.com.cn/n1/2022/0508/c1002-32417079.html\" target=\"_blank\">王毅:全球治理进入\"亚洲时刻\",世界应更多倾听亚洲声音</a></li><li><a href=\"http://military.people.com.cn/n1/2022/0509/c1011-32417127.html\" target=\"_blank\">退役军人事务部成立4年来 退役军人的获得感幸福感不断增强</a></li><li><a href=\"http://health.people.com.cn/n1/2022/0509/c14739-32417517.html\" target=\"_blank\">5月8日新增本土确诊病例401例、无症状感染者3859例 治愈出院849例</a></li><li><a href=\"http://edu.people.com.cn/n1/2022/0509/c1006-32417116.html\" target=\"_blank\">首个全国家庭教育宣传周活动启动</a></li><li><a href=\"http://opinion.people.com.cn/n1/2022/0509/c1003-32417106.html\" target=\"_blank\">西藏自治区党委书记:把生态文明建设摆在更加突出的位置</a></li><li><a href=\"http://finance.people.com.cn/n1/2022/0509/c1004-32417515.html\" target=\"_blank\">途经14个革命老区 兴泉铁路全线铺轨贯通</a></li><li><a href=\"http://env.people.com.cn/n1/2022/0509/c1010-32417137.html\" target=\"_blank\">东北地区主要江河全线开江 2021—2022年度防凌工作顺利结束</a></li><li><a href=\"http://society.people.com.cn/n1/2022/0509/c1008-32417125.html\" target=\"_blank\">说说网购那些事:网购拉人能\"砍价\" 小心电商平台的\"套路\"</a></li><li><a href=\"http://society.people.com.cn/n1/2022/0509/c1008-32417131.html\" target=\"_blank\">河北承德不断优化养老服务模式 让更多老人安享乐享幸福晚年</a></li><li><a href=\"http://gx.people.com.cn/n2/2022/0509/c179464-35259252.html\" target=\"_blank\">广西自贸试验区跨境电商成绩亮眼 一季度进出口额超30亿元</a></li><li><a href=\"http://env.people.com.cn/n1/2022/0509/c1010-32417135.html\" target=\"_blank\">深圳市仙湖植物园不断深入挖掘各类资源 打造特色科普教育体系</a></li><li><a href=\"http://world.people.com.cn/n1/2022/0509/c1002-32417158.html\" target=\"_blank\">七国集团宣布将逐步减少或禁止进口俄罗斯石油</a></li></ul>\\n            </div>\\n            \\n        </div>\\n    </div>\\n<style type=\"text/css\">\\n.list2 li:nth-child(4n+1),.list2 li.key:nth-child(4n+1){margin-left:19px}\\n</style>\\n<script type=\"text/javascript\">\\n$(document).ready(function() {\\n\\t$(\".blist\").find(\"li\").eq(0).css(\"margin-left\",0);\\n\\t$(\".blist1 li\").each(function() {\\n\\t\\tconsole.log($(this).index());\\n\\t\\tif($(this).index()%4 == 0){\\n\\t\\t\\tconsole.log($(this).index());\\n\\t\\t   $(this).css(\"margin-left\",0);\\n\\t\\t}\\n\\t})\\n});\\n</script>\\n<div class=\"layout ggtl cf\"><!--AdForward Begin通栏01：:-->\\n<script type=\"text/javascript\" src=\"http://pgg.people.com.cn/s?z=people&c=1\" charset=\"gbk\"></script><!--AdForward End--></div>\\n    <!--版块 评论 党网-->\\n    <div class=\"layout section_Comment cf\">\\n        <div class=\"Comment fl\" id=\"rm_pljd\">\\n            <div class=\"tit1 cf\"><h2><a href=\"http://opinion.people.com.cn/\" target=\"_blank\">观点</a></h2>·<h2><a href=\"http://theory.people.com.cn/GB/148980/index.html\" target=\"_blank\">深度</a></h2><img src=\"/img/2020peopleindex/img/more1.png\" alt=\"\"></div>\\n            <div class=\"col col-1 fl\">\\n\\t\\t\\t\\t<span class=\"scale_img\"><a href=\"http://finance.people.com.cn/n1/2022/0509/c1004-32417146.html\" target=_blank><img src=\"/NMediaFile/2022/0509/MAIN202205090651348970943557856.jpg\" width=\"468\" height=\"263\"/></a></span><h4><a href=\\'http://finance.people.com.cn/n1/2022/0509/c1004-32417146.html\\' target=_blank>财税政策助力外贸企业稳定发展\\n</a></h4>\\n\\t\\t\\t\\t<p class=\"gray\">外贸连接着国际国内两个市场、两种资源。外贸向好，能更好畅通国内大循环，促进国内国际双循环，为构建新发展格局发挥着重要作用。财税部门不断完善政策、优化服务，助力外贸企业主动求变、积极应变，促进我国外贸量质齐增、稳定发展。</p>\\n\\n            </div>\\n            <div class=\"col col-2 fr\">\\n\\t\\t\\t\\t<h3><a href=\\'http://opinion.people.com.cn/n1/2022/0509/c1003-32417115.html\\' target=_blank>在青春的赛道上奋力奔跑</a></h3>\\n\\t\\t\\t\\t<p class=\"gray\">逐梦百年路，奋斗向未来。在民族复兴的壮阔征程上，中国青年重任在肩，青春中国前程似锦……</p>\\n<h3><a href=\\'http://opinion.people.com.cn/n1/2022/0509/c1003-32417105.html\\' target=_blank>全面加强基础设施建设 构建现代化基础设施体系</a></h3>\\n\\t\\t\\t\\t<p class=\"gray\">为全面建设社会主义现代化国家打下坚实基础，还要在构建现代化基础设施体系上付出艰苦努力。</p>\\n<h3><a href=\\'http://world.people.com.cn/n1/2022/0509/c1002-32417097.html\\' target=_blank>打破伊核谈判僵局，美国应纠正错误政策</a></h3>\\n\\t\\t\\t\\t<p class=\"gray\">美国作为当前困局的始作俑者，理应采取切实措施彻底纠正极限施压的错误政策。</p>\\n<h3><a href=\\'http://opinion.people.com.cn/n1/2022/0509/c1003-32417109.html\\' target=_blank>推进社会信用体系建设高质量发展</a></h3>\\n\\t\\t\\t\\t<p class=\"gray\">只有各类市场主体的信用建设做到位，整个社会的信用体系建设才能得到完善。</p>\\n<span class=\"btn1 white\"><a href=\"http://opinion.people.com.cn/GB/223228/index.html\" target=\"_blank\">查看更多深度评论</a></span>\\n\\t\\t\\t</div>\\n        </div>\\n        <div class=\"cpc fr\" id=\"rm_cpc\">\\n            <a href=\"http://cpc.people.com.cn/\" target=\"_blank\"><img src=\"/img/2020peopleindex/img/icon31.png\" class=\"cpc-img\" alt=\"\"></a>\\n            <div class=\"cpc_bg1 cf\">\\n\\t\\t\\t\\t<ul class=\"list3\"><li><a href=\"http://cpc.people.com.cn/GB/67481/441992/index.html\" target=\"_blank\">特别报道：聚焦党的二十大代表选举</a></li><li><a href=\"http://dangjian.people.com.cn/GB/136058/431693/index.html\" target=\"_blank\">中央和国家机关“学查改”专项工作</a></li><li><a href=\"http://cpc.people.com.cn/xuexi/\" target=\"_blank\">学习路上</a> <a href=\"http://cpc.people.com.cn/xuexi/GB/433640/index.html\" target=\"_blank\">时习之</a> <a href=\"http://dangshi.people.com.cn/\" target=\"_blank\">党史学习教育官网</a></li><li><a href=\"http://cpc.people.com.cn/GB/67481/382991/444437/index.html\" target=\"_blank\">中宣部授予钱海军“时代楷模”称号</a></li><li><span class=\"red\"><a href=\"http://theory.people.com.cn/\" target=\\'_blank\\'>观察</a></span>|<a href=\"http://theory.people.com.cn/n1/2022/0509/c40531-32417263.html\" target=\"_blank\">提高新时代育人质量和办学水平</a></li><li><a href=\"http://theory.people.com.cn/n1/2022/0509/c40531-32417305.html\" target=\"_blank\">通过中国共产党的故事彰显中国之理</a></li><li><span class=\"red\"><a href=\"http://renshi.people.com.cn/\" target=\\'_blank\\'>人事</a></span>|<a href=\"http://renshi.people.com.cn/n1/2022/0509/c139617-32417456.html\" target=\"_blank\">@领导干部 这几种心态要不得</a></li><li><span class=\"red\"><a href=\"http://fanfu.people.com.cn/\" target=\\'_blank\\'>反腐</a></span>|<a href=\"http://fanfu.people.com.cn/n1/2022/0509/c64371-32417364.html\" target=\"_blank\">深度关注：严查借快递送礼\\n</a></li><li><span class=\"red\"><a href=\"http://dangshi.people.com.cn/\" target=\\'_blank\\'>党史</a></span>|<a href=\"http://cpc.people.com.cn/n1/2022/0509/c443712-32417363.html\" target=\"_blank\">二十三年红旗不倒的琼崖纵队</a></li><li><a href=\"http://cpc.people.com.cn/n1/2022/0509/c443712-32417322.html\" target=\"_blank\">十八大以来中央政治局如何开展集体学习</a></li></ul>\\n\\t\\t\\t</div>\\n\\t\\t\\t<div class=\"cpc_bg2 red cf\">\\n\\t\\t\\t\\t<a href=\"http://cpc.people.com.cn/\" target=\"_blank\">进入中国共产党新闻网</a>|<a href=\"http://cpc.people.com.cn/GB/67481/431391/index.html\" target=\"_blank\">查看中央文件</a>\\n\\t\\t\\t</div>\\n        </div>\\n    </div>\\n    <div class=\"layout ggtl cf\"><script type=\"text/javascript\" src=\"http://pgg.people.com.cn/s?z=people&c=2\" charset=\"gbk\"></script></div>\\n    <!--版块 领导留言板 人民日报-->\\n    <div class=\"layout Message_rmrb cf\">\\n        <div class=\"col col-1 fl\" id=\"rm_ldly\">\\n            <div class=\"tit1 cf\"><h2><a href=\"http://liuyan.people.com.cn/\" target=\"_blank\">领导留言板</a></h2><img src=\"/img/2020peopleindex/img/more1.png\" alt=\"\"><em><a href=\"http://leaders.people.com.cn/GB/178291/407226/index.html\" target=\"_blank\">下载客户端</a></em></div>\\n\\t\\t\\t<ul class=\"Leader_switch cf\"><li class=\"active\">我为党的二十大建言献策</li>\\t\\t\\t\\t\\n<li>走好新时代党的群众路线</li>\\n<li>30天回复率排行</li>\\n<li>编读“网”来</li>\\n<span>(回复率：留言中被回复的数量占留言数的百分比)</span></ul>\\n<script type=\"text/javascript\">\\n$(function(){\\t\\n\\t$(\".Leader_switch_con p img\").on(\"click\",function(){\\n\\t\\t$(\".ldewm\").show();\\n\\t});\\n\\t$(\".ldewm i.close\").on(\"click\",function(){\\n\\t\\t$(\".ldewm\").hide();\\n\\t});\\n}); \\n</script>\\n            <div class=\"Leader_switch_con cf\" style=\"display:block;\">\\n\\t\\t\\t\\t<div class=\"lyfl\">\\n\\t\\t\\t\\t\\t<h2><a href=\"http://leaders.people.com.cn/n1/2022/0509/c58278-32417314.html\" target=\"_blank\">网友建议：鼓励构建大学生创业风险救助机制</a></h2>\\n<p>人民日报“我为党的二十大建言献策”征集正在进行，各地网友通过人民网“领导留言板”、人民日报客户端积极参与。其中，有网友建议鼓励部分地方构建大学生创业风险救助机制。<a href=\"http://leaders.people.com.cn/n1/2022/0509/c58278-32417314.html\" target=\"_blank\">【查看建言】</a>\\n\\n</p>\\n\\t\\t\\t\\t</div>\\n\\t\\t\\t\\t<div class=\"lyfr\">\\n\\t\\t\\t\\t\\t<p><a href=\"http://leaders.people.com.cn/GB/178291/218130/441383/index.html\" target=\"_blank\"><strong>人民建议</strong>|<a href=\"http://liuyan.people.com.cn/threads/content?tid=14534018\" target=\"_blank\">统筹谋划好北部湾城市群建设</a><p><a href=\"http://leaders.people.com.cn/GB/178291/218130/441383/index.html\" target=\"_blank\"><strong>人民建议</strong>|<a href=\"http://liuyan.people.com.cn/threads/content?tid=14539664\" target=\"_blank\">聚合多方资源，做好农村养老助餐服务支持</a>\\n\\t\\t\\t\\t</div>\\n\\t\\t\\t\\t<div class=\"ldewm\"><i class=\"close\"></i><img src=\"/img/2020peopleindex/img/tubiao/ldtb.jpg\" /></div>\\n\\t\\t\\t</div>\\n            <div class=\"Leader_switch_con cf\" style=\"display: none;\">\\n\\t\\t\\t\\t<ul class=\"list4 cf\"><li><a href=\"http://liuyan.people.com.cn/threads/content?tid=14520641\" target=\"_blank\">网友给天津市委书记留言反映关于寨上大桥的养管问题</a></li><li><a href=\"http://liuyan.people.com.cn/threads/content?tid=14070182\" target=\"_blank\">吉林网友购买特殊药遇困难留言求助 当地协调开证明解难题</a></li><li><a href=\"http://liuyan.people.com.cn/threads/content?tid=14522924\" target=\"_blank\">网友给陕西西安市委书记建言：希望保护性开发改造秦渡古镇</a></li></ul>\\n\\t\\t\\t\\t<ul class=\"lypic cf\"><li><a href=\"http://unn.people.com.cn/difang/GB/387639/404394/index.html\" target=_blank><img src=\"/NMediaFile/2022/0402/MAIN202204021653363056289931614.png\" width=\"252\" height=\"75\" alt=\"\"/></a></li>\\n<li><a href=\"http://leaders.people.com.cn/GB/178291/218130/437151/index.html\" target=_blank><img src=\"/NMediaFile/2022/0419/MAIN202204191712135789420244828.jpg\" width=\"252\" height=\"75\" alt=\"\"/></a></li>\\n<li><a href=\"http://leaders.people.com.cn/GB/178291/218130/437413/index.html\" target=_blank><img src=\"/NMediaFile/2022/0407/MAIN202204071447463467777924827.png\" width=\"252\" height=\"75\" alt=\"\"/></a></li>\\n</ul>\\n\\t\\t\\t</div>\\n\\t\\t\\t<div class=\"Leader_switch_con cf\" style=\"display: none;\">\\n\\t\\t\\t\\t<ul class=\"list5 cf\" id=\"ldhfl\">\\n\\t\\t\\t\\t</ul>\\n\\t\\t\\t</div>\\n            <div class=\"Leader_switch_con cf\" style=\"display: none;\">\\n\\t\\t\\t\\t<div class=\"lyfl4 white\">\\n\\t\\t\\t\\t\\t<a href=\"http://leaders.people.com.cn/GB/178291/218130/442740/index.html\" target=_blank><img src=\"/NMediaFile/2022/0330/MAIN202203301648353750332869012.png\" width=\"255\" height=\"132\" alt=\"\"/><span></span></a>\\n\\n\\t\\t\\t\\t</div>\\n\\t\\t\\t\\t<div class=\"lyfr4\">\\n\\t\\t\\t\\t\\t<ul class=\"list7 cf\"><li><a href=\\'http://leaders.people.com.cn/n1/2022/0509/c58278-32417171.html\\' target=_blank>让青少年爱上体育享受运动（金台视线·关注全民健身③）</a></li>\\n<li><a href=\\'http://leaders.people.com.cn/n1/2022/0509/c58278-32417172.html\\' target=_blank>陕西商南县：小河被污染 村民盼治理（身边事）</a></li>\\n<li><a href=\\'http://leaders.people.com.cn/n1/2022/0429/c58278-32412111.html\\' target=_blank>新时代 新青年|一起为国家发展建言献策</a></li>\\n<li>来和新任<a href=\"http://leaders.people.com.cn/GB/178291/218130/434511/444413/index.html\" target=\"_blank\">河北省委书记</a> <a href=\"http://leaders.people.com.cn/GB/178291/218130/434511/444444/index.html\" target=\"_blank\">内蒙古自治区党委书记</a> <a href=\"http://leaders.people.com.cn/GB/178291/218130/434511/444415/index.html\" target=\"_blank\">四川省委书记</a>聊聊期盼</li></ul>\\n\\t\\t\\t\\t</div>\\n\\t\\t\\t</div>\\n\\t\\t\\t<div class=\"Leader_switch_ly\">\\n\\t\\t\\t\\t<span>昨日留言<i id=\"totalThreadsNum\">5138</i>条&nbsp;&nbsp;&nbsp;&nbsp;昨日回复<i id=\"totalAnswersNum\">5138</i>条</span>\\n\\t\\t\\t\\t<em class=\"white\"><i class=\"btn2\"><a href=\"http://liuyan.people.com.cn/home\" target=\"_blank\">查看留言</a></i><i class=\"btn3\"><a href=\"http://liuyan.people.com.cn/login\" target=\"_blank\">我要留言</a></i></em>\\n\\t\\t\\t</div>\\n        </div>\\n        <div class=\"col col-2 fr\" id=\"rm_rmrb\">\\n            <div class=\"tit1 clearfix\"><h2><a href=\"http://paper.people.com.cn/rmrb/index.html\" target=\"_blank\">人民日报</a></h2><img src=\"/img/2020peopleindex/img/more1.png\" alt=\"\"><!--<em class=\"bzdown\"><a href=\"http://www.people.com.cn/GB/123231/365206/index.html\" target=\"_blank\">下载客户端</a></em>--><a href=\"http://www.people.cn/app/download.html\" target=\"_blank\"><img src=\"/img/2020peopleindex/img/rmwjia2.gif\" width=\"80\" class=\"jiadown\" alt=\"\"></a></div>\\n\\t\\t\\t<div class=\"rmrb cf\">\\n                <!--<i></i>-->\\n\\t\\t\\t\\t<a href=\"http://paper.people.com.cn/rmrb/index.html\" target=_blank><img src=\"/NMediaFile/2022/0509/MAIN202205090640446197621296535.jpg\" width=\"160\" height=\"226\" class=\"tbpic\" alt=\"\"/></a>\\n\\n\\t\\t\\t\\t<a href=\"http://paper.people.com.cn/rmrbhwb/index.html\" target=_blank><img src=\"/NMediaFile/2022/0509/MAIN202205090640535526029265695.jpg\" width=\"160\" height=\"226\" alt=\"\"/></a>\\n\\n\\t\\t\\t</div>\\n            <div class=\"rmrbtxt\"><span><a href=\"http://unn.people.com.cn/difang/GB/387272/index.html\" target=\"_blank\">人民网记者遍神州</a>&gt;</span>|<span><a href=\"http://world.people.com.cn/GB/435265/index.html\" target=\"_blank\">人民网记者遍全球</a>&gt;</span></div>\\n        </div>\\n    </div>\\n    <!--video-->\\n    <div class=\"layout rm_video cf\" id=\"rm_video\">\\n    <div class=\"tit1 clearfix\"><h2><a href=\"http://v.people.cn/\" target=\"_blank\">视频新闻</a></h2><em><a href=\"http://5g.people.cn/rmspdown/\" target=\"_blank\">下载客户端</a></em><span style=\"float:right\"><a href=\"http://art.people.com.cn/\" target=\"_blank\"><img src=\"/img/2020peopleindex/img/lingjing.png\" style=\"width:170px;height:auto\"></a></span></div>\\n    \\t<div class=\"picg1 mt20 cf\">\\n\\t\\t\\t<ul><li><span><i></i><a href=\"http://v.people.cn/n1/2022/0508/c177969-32417026.html\" target=_blank><img src=\"/NMediaFile/2022/0508/MAIN202205081957548698870435914.gif\" width=\"384\" height=\"209\" alt=\" “90后”养老院护士\"/></a></span><a href=\"http://v.people.cn/n1/2022/0508/c177969-32417026.html\" target=_blank> “90后”养老院护士</a></li>\\n<li><span><i></i><a href=\"https://apiapp.people.cn/a/a/m/content_wap_521746.shtml\" target=_blank><img src=\"/NMediaFile/2022/0509/MAIN202205091036575306803909964.gif\" width=\"384\" height=\"209\" alt=\"人民艺术家秦怡去世 享年100岁\"/></a></span><a href=\"https://apiapp.people.cn/a/a/m/content_wap_521746.shtml\" target=_blank>人民艺术家秦怡去世 享年100岁</a></li>\\n<li><span><i></i><a href=\"https://apiapp.people.cn/a/a/m/content_wap_521643.shtml\" target=_blank><img src=\"/NMediaFile/2022/0509/MAIN202205091037458638636826161.gif\" width=\"384\" height=\"209\" alt=\"核酸检测两米线开始走创意路线了\"/></a></span><a href=\"https://apiapp.people.cn/a/a/m/content_wap_521643.shtml\" target=_blank>核酸检测两米线开始走创意路线了</a></li>\\n</ul>\\n\\t\\t</div>\\n     </div>\\n    <!--section_Hotzt-->\\n\\t<div class=\"layout section_Hotzt cf\" id=\"rm_hotzt\">\\n\\t\\t<div class=\"tit1 cf\"><h2>热点专题</h2></div>\\n\\t\\t<div class=\"hotzt cf\"><a href=\"http://cpc.people.com.cn/xuexi/GB/433640/index.html\" target=\"_blank\"><img src=\"/img/2020peopleindex/img/icon5.png\" />时习之</a><a href=\"http://cpc.people.com.cn/GB/67481/441898/index.html\" target=\"_blank\"><img src=\"/img/2020peopleindex/img/icon5.png\" />奋进新征程 建功新时代</a><a href=\"http://cpc.people.com.cn/GB/67481/441273/index.html\" target=\"_blank\"><img src=\"/img/2020peopleindex/img/icon5.png\" />聚焦十九届六中全会</a><a href=\"http://cpc.people.com.cn/GB/67481/442041/index.html\" target=\"_blank\"><img src=\"/img/2020peopleindex/img/icon5.png\" />我们的新时代</a><a href=\"http://cpc.people.com.cn/GB/67481/439635/index.html\" target=\"_blank\"><img src=\"/img/2020peopleindex/img/icon5.png\" />\"十四五\"开局布局这些事儿</a><a href=\"http://lianghui.people.com.cn/\" target=\"_blank\"><img src=\"/img/2020peopleindex/img/icon5.png\" />2022全国两会</a><a href=\"http://politics.people.com.cn/n1/2022/0427/c1001-32409565.html\" target=\"_blank\"><img src=\"/img/2020peopleindex/img/icon5.png\" />强国复兴有我</a><a href=\"http://v.people.cn/GB/61600/437331/index.html\" target=\"_blank\"><img src=\"/img/2020peopleindex/img/icon5.png\" />红色云展厅</a><a href=\"http://finance.people.com.cn/GB/8215/441842/442019/index.html\" target=\"_blank\"><img src=\"/img/2020peopleindex/img/icon5.png\" />乡村振兴·中国力量</a><a href=\"http://pic.people.com.cn/GB/442107/index.html\" target=\"_blank\"><img src=\"/img/2020peopleindex/img/icon5.png\" />\"大美中国\"摄影作品展</a></div>\\n\\t</div>\\n\\t<!--广告-->\\n\\t<div class=\"layout ggtl cf\"><!-- AdSame ShowCode: People_PC 人民网首页通栏03（新） Begin -->\\n<script type=\"text/javascript\" src=\"http://pgg.people.com.cn/s?z=people&c=101\" charset=\"gbk\" ></script>\\n<!-- AdSame ShowCode: People_PC 人民网首页通栏03（新） End --></div>\\n    <!--分类-->\\n\\t<div class=\"layout Classify clearfix\">\\n\\t\\t<span><a href=\"#lm1\" class=\"active\">经济 · 科技</a></span>\\n\\t\\t<span><a href=\"#lm2\">社会 · 教育</a></span>\\n\\t\\t<span><a href=\"#lm3\">国际 · 军事</a></span>\\n\\t\\t<span><a href=\"#lm4\">地方 · 访谈</a></span>\\n\\t\\t<span><a href=\"#lm5\">文旅 · 体育</a></span>\\n        <span><a href=\"#lm6\">健康 · 生活</a></span>\\n    </div>\\n    <!--财经 · 产业-->\\n\\t<div class=\"layout Finance cf pdao1\" id=\"lm1\">\\n        <div class=\"tit1 cf\"><h2><a href=\"http://finance.people.com.cn/\" target=\"_blank\">经济 · 科技</a></h2></div>\\n        <!--重复版块-->\\n\\t\\t<div class=\"Repeat Repeat1 cf section-common-share-wrap\" id=\"rm_cj01\">\\n            <div class=\"col col-1 fl\">\\n                <div class=\"news2 cf\">\\n    <h3><a href=\\'http://finance.people.com.cn/n1/2022/0509/c1004-32417417.html\\' target=_blank>总量做“加法”价格做“减法” 金融助企纾困政策加速落地</a></h3>\\n    <em class=\"gray\"></em>\\n</div>\\n<p class=\"gray\"><a href=\\'http://finance.people.com.cn/n1/2022/0509/c1004-32417417.html\\' target=_blank>中共中央政治局近日召开会议强调，要加大宏观政策调节力度。要加快落实已经确定的政策，实施好退税减税降费等政策，用好各类货币政策工具。要稳住市场主体，对受疫情严重冲击的行业、中小微企业和个体工商户实施一揽子纾困帮扶政策。近期，金融23条、降准、科技创新再贷款等金融支持措施迅速出台，各地紧锣密鼓制定实施细则，金融机构积极行动，保障助企纾困政策加速落地。</a></p>\\n<div class=\"share1\">\\n    <span><i class=\"gray\"><a href=\"http://finance.people.com.cn/GB/70846/index.html\" target=\"_blank\">宏观</a></i><i class=\"gray\"><a href=\"http://industry.people.com.cn/GB/413926/index.html\" target=\"_blank\">产业</a></i><i class=\"gray\"><a href=\"http://money.people.com.cn/GB/218900/index.html\" target=\"_blank\">金融</a></i></span>\\n    <em>分享</em>\\n</div>\\n\\n            </div>\\n            <div class=\"col col-2 fr\">\\n\\t\\t\\t\\t<ul class=\"list6 cf\"><li><a href=\\'http://finance.people.com.cn/n1/2022/0509/c1004-32417478.html\\' target=_blank>提升企业供应链现代化水平</a></li>\\n<li><a href=\\'http://finance.people.com.cn/n1/2022/0509/c1004-32417480.html\\' target=_blank>银行网点“瘦身”并非市场收缩</a></li>\\n<li><a href=\\'http://finance.people.com.cn/n1/2022/0509/c1004-32417491.html\\' target=_blank>公募基金高质量发展有了路线图</a></li>\\n<li><a href=\\'http://finance.people.com.cn/n1/2022/0509/c1004-32417505.html\\' target=_blank>因地制宜优化住房信贷政策</a></li>\\n<li><a href=\\'http://finance.people.com.cn/n1/2022/0509/c1004-32417243.html\\' target=_blank>中国飞鹤：研发创新是成就中国品牌的关键</a></li>\\n</ul>\\n\\t\\t\\t</div>\\n\\t\\t</div>\\n\\t\\t<div class=\"Repeat Repeat1 cf section-common-share-wrap\" id=\"rm_cj02\">\\n            <div class=\"col col-1 fl\">\\n                <div class=\"news2 cf\">\\n    <h3><a href=\\'http://finance.people.com.cn/n1/2022/0509/c1004-32417522.html\\' target=_blank>月壤里的秘密：或可在月球上制备氧气和燃料</a></h3>\\n    <em class=\"gray\"></em>\\n</div>\\n<p class=\"gray\"><a href=\\'http://finance.people.com.cn/n1/2022/0509/c1004-32417522.html\\' target=_blank>国际学术期刊《焦耳》的一篇最新论文引发学界广泛关注。研究团队在详细分析嫦娥五号取回的月壤的元素和矿物结构后，发现月壤的一些活性化合物具有良好的催化性能。他们以其为催化剂，利用人工光合成技术，借助模拟太阳光，将水和二氧化碳转化为氧气、氢气、甲烷、甲醇。</a></p>\\n<div class=\"share1\">\\n    <span><i class=\"gray\"><a href=\"http://scitech.people.com.cn/GB/1057/index.html\" target=\"_blank\">科技</a></i><i class=\"gray\"><a href=\"http://env.people.com.cn/\" target=\"_blank\">生态</a></i><i class=\"gray\"><a href=\"http://country.people.com.cn/GB/419851/index.html\" target=\"_blank\">美丽乡村</a></i><i class=\"gray\"><a href=\"http://gongyi.people.com.cn/GB/151650/index.html\" target=\"_blank\">公益</a></i></span>\\n    <em>分享</em>\\n</div>\\n\\n            </div>\\n            <div class=\"col col-2 fr\">\\n            \\t<ul class=\"list6 cf\">\\n\\t\\t\\t\\t <li><a href=\\'http://finance.people.com.cn/n1/2022/0509/c1004-32417534.html\\' target=_blank>我科研人员赋予自动驾驶设备“新大脑”</a></li>\\n<li><a href=\\'http://finance.people.com.cn/n1/2022/0509/c1004-32417537.html\\' target=_blank>防晒“神器”竟是珊瑚“杀手”</a></li>\\n<li><a href=\\'http://finance.people.com.cn/n1/2022/0509/c1004-32417539.html\\' target=_blank>南极冰层下首次探测到大型地下水系统</a></li>\\n\\n                 <li><a href=\\'http://kpzg.people.com.cn/n1/2022/0509/c404214-32417329.html\\' target=_blank>性格内向真的不好吗？ 专家：内向者注意力更集中</a></li>\\n<li><a href=\\'http://kpzg.people.com.cn/n1/2022/0509/c404214-32417411.html\\' target=_blank>风热感冒和风寒感冒怎么区别？关键看这些症状</a></li>\\n\\n                </ul>\\n\\t\\t\\t</div>\\n\\t\\t</div>\\n\\t\\t<!--picg-->\\n        <div class=\"picg1 cf\" id=\"rm_cj03\">\\n\\t\\t\\t<ul>\\n\\t\\t\\t\\t<li><span class=\"scale_img\"><a href=\"http://gongyi.people.com.cn/GB/151912/444417/index.html\" target=_blank><img src=\"/NMediaFile/2022/0507/MAIN202205071419042500145765191.jpg\" width=\"384\" height=\"209\" alt=\"“中国品牌日历”海报展示\"/></a></span><a href=\"http://gongyi.people.com.cn/GB/151912/444417/index.html\" target=_blank>“中国品牌日历”海报展示</a></li>\\n<li><span class=\"scale_img\"><a href=\"http://finance.people.com.cn/n1/2022/0415/c1004-32400422.html\" target=_blank><img src=\"/NMediaFile/2022/0419/MAIN202204191447306363645573725.png\" width=\"384\" height=\"209\" alt=\"“数字技术赋能实体经济”案例征集\"/></a></span><a href=\"http://finance.people.com.cn/n1/2022/0415/c1004-32400422.html\" target=_blank>“数字技术赋能实体经济”案例征集</a></li>\\n\\n                <li><span class=\"scale_img\"><a href=\"http://kpzg.people.com.cn/n1/2022/0509/c404214-32417195.html\" target=_blank><img src=\"/NMediaFile/2022/0509/MAIN202205090853511133509945794.png\" width=\"384\" height=\"209\" alt=\"得了糖尿病躺平就完事？小心并发症\"/></a></span><a href=\"http://kpzg.people.com.cn/n1/2022/0509/c404214-32417195.html\" target=_blank>得了糖尿病躺平就完事？小心并发症</a></li>\\n\\n\\t\\t\\t</ul>\\n\\t\\t</div>\\n\\t</div>\\n    <div class=\"layout ggtl cf\"><!--AdForward Begin通栏03：:--><script type=\"text/javascript\" src=\"http://pgg.people.com.cn/s?z=people&c=3\" charset=\"gbk\"></script></div>\\n\\t<!--科技 · 教育-->\\n\\t<div class=\"layout science cf pdao2\" id=\"lm2\">\\n\\t\\t<div class=\"tit1 clearfix\"><h2><a href=\"http://society.people.com.cn/\" target=\"_blank\">社会</a> · <a href=\"http://edu.people.com.cn/\" target=\"_blank\">教育</a></h2></div>\\n\\t\\t<!--重复版块-->\\n\\t\\t<div class=\"Repeat Repeat2 cf section-common-share-wrap\" id=\"rm_kj01\">\\n            <div class=\"col col-1 fl\">\\n                <div class=\"news2 cf\">\\n\\t\\t\\t\\t\\t<h3><a href=\\'http://society.people.com.cn/n1/2022/0509/c1008-32417271.html\\' target=_blank>沉到一线 冲锋在前——上海下沉干部战“疫”记</a></h3>\\n\\t\\t\\t\\t\\t<em class=\"gray\"></em>\\n\\t\\t\\t\\t</div>\\n\\t\\t\\t\\t<p class=\"gray\"><a href=\\'http://society.people.com.cn/n1/2022/0509/c1008-32417271.html\\' target=_blank>上海战“疫”的关键时刻，在上海市委号召下，数十万党员干部或向社区报到，就地转化为志愿者；或组成突击队，增援防控难度较大的区域。通过下沉到一线、为基层解难分忧，这支队伍有力提振了抗疫士气、夯实了基层战斗堡垒，成为打赢“大上海保卫战”不可或缺的生力军。</a></p>\\n\\t\\t\\t\\t<div class=\"share1\">\\n\\t\\t\\t\\t\\t<span><i class=\"gray\"><a href=\\'http://society.people.com.cn/\\' target=_blank>社会·法治</a></i></span>\\n\\t\\t\\t\\t\\t<em>分享</em>\\n\\t\\t\\t\\t</div>\\n\\n            </div>\\n            <div class=\"col col-2 fr\">\\n            \\t<ul class=\"list6 cf\"><li><a href=\\'http://society.people.com.cn/n1/2022/0509/c1008-32417186.html\\' target=_blank>疫情防不住，经济社会发展就无从谈起</a></li>\\n<li><a href=\\'http://society.people.com.cn/n1/2022/0509/c1008-32417268.html\\' target=_blank>贵州省织金县山体崩塌致3名老人失联</a></li>\\n<li><a href=\\'http://society.people.com.cn/n1/2022/0509/c1008-32417207.html\\' target=_blank>政策“加力”，让就业“饭碗”端得更稳</a></li>\\n<li><a href=\\'http://society.people.com.cn/n1/2022/0509/c1008-32417201.html\\' target=_blank>热度渐涨的陪诊服务，离专业化还有多远？</a></li>\\n<li><a href=\\'http://society.people.com.cn/n1/2022/0509/c1008-32417262.html\\' target=_blank>不合理出差安排 员工有权说“不”</a></li>\\n</ul>\\n\\t\\t\\t</div>\\n\\t\\t</div>\\n\\t\\t<!--重复版块-->\\n\\t\\t<div class=\"Repeat Repeat2 cf section-common-share-wrap\" id=\"rm_kj02\">\\n            <div class=\"col col-1 fl\">\\n                <div class=\"news2 cf\">\\n\\t\\t\\t\\t\\t<h3><a href=\\'http://edu.people.com.cn/n1/2022/0509/c1006-32417379.html\\' target=_blank>5月25日起！北京高考体检结果可查，补检时间也定了</a></h3>\\n\\t\\t\\t\\t\\t<em class=\"gray\"></em>\\n\\t\\t\\t\\t</div>\\n\\t\\t\\t\\t<p class=\"gray\"><a href=\\'http://edu.people.com.cn/n1/2022/0509/c1006-32417379.html\\' target=_blank>据北京市体检中心消息，5月25日至8月31日，考生可登录北京市体检中心网站或关注北京市体检中心微信公众服务号查询本人体检结果。考生完成体检后，由各体检医疗机构出具《北京市普通高等学校招生体格检查表》并交报名单位。各报名单位收到《体检表》后，将体检结果告知考生，并将其放入考生纸质档案。</a></p>\\n\\t\\t\\t\\t<div class=\"share1\">\\n\\t\\t\\t\\t\\t<span><i class=\"gray\"><a href=\\'http://edu.people.com.cn/\\' target=_blank>教育</a></i><i class=\"gray\"><a href=\\'http://edu.people.com.cn/GB/1053/index.html\\' target=_blank>滚动新闻</a></i><i class=\"gray\"><a href=\\'http://edu.people.com.cn/GB/116076/index.html\\' target=_blank>高考频道_教育频道_人民网</a></i></span>\\n\\t\\t\\t\\t\\t<em>分享</em>\\n\\t\\t\\t\\t</div>\\n\\n            </div>\\n            <div class=\"col col-2 fr\">\\n\\t\\t\\t\\t<ul class=\"list6 cf\"><li><a href=\\'http://edu.people.com.cn/n1/2022/0509/c1006-32417467.html\\' target=_blank>2022年职业教育活动周正式启动</a></li>\\n<li><a href=\\'http://edu.people.com.cn/n1/2022/0509/c1006-32417471.html\\' target=_blank>上海推出多项举措促高校毕业生就业</a></li>\\n<li><a href=\\'http://edu.people.com.cn/n1/2022/0509/c1006-32417251.html\\' target=_blank> 河北：“十四五”将培养培训高技能人才超10万</a></li>\\n<li><a href=\\'http://edu.people.com.cn/n1/2022/0509/c1006-32417323.html\\' target=_blank>云南农大：“农民院士大讲堂”引爆学子热情</a></li>\\n<li><a href=\\'http://edu.people.com.cn/n1/2022/0509/c1006-32417448.html\\' target=_blank>山东省专升本考试首次引入跨省远程线上考试</a></li>\\n</ul>\\n\\t\\t\\t</div>\\n\\t\\t</div>\\n\\t\\t<!--picg-->\\n\\t\\t<div class=\"picg1 cf\" id=\"rm_kj03\">\\n\\t\\t\\t<ul>\\n                <li><span class=\"scale_img\"><a href=\"http://edu.people.com.cn/n1/2022/0509/c1006-32417252.html\" target=_blank><img src=\"/NMediaFile/2022/0509/MAIN202205090913124731087022539.png\" width=\"384\" height=\"209\" alt=\"千里支教大苗山\"/></a></span><a href=\"http://edu.people.com.cn/n1/2022/0509/c1006-32417252.html\" target=_blank>千里支教大苗山</a></li>\\n<li><span class=\"scale_img\"><a href=\"http://society.people.com.cn/n1/2022/0509/c1008-32417317-8.html\" target=_blank><img src=\"/NMediaFile/2022/0509/MAIN202205090836281757000231480.jpg\" width=\"384\" height=\"209\" alt=\"治理一条河 提升一座城\"/></a></span><a href=\"http://society.people.com.cn/n1/2022/0509/c1008-32417317-8.html\" target=_blank>治理一条河 提升一座城</a></li>\\n<li><span class=\"scale_img\"><a href=\"http://society.people.com.cn/n1/2022/0509/c1008-32417312.html\" target=_blank><img src=\"/NMediaFile/2022/0509/MAIN202205090830351213896759583.jpg\" width=\"384\" height=\"209\" alt=\"可可西里藏羚羊开始年度大迁徙\"/></a></span><a href=\"http://society.people.com.cn/n1/2022/0509/c1008-32417312.html\" target=_blank>可可西里藏羚羊开始年度大迁徙</a></li>\\n\\n\\t\\t\\t</ul>\\n\\t\\t</div>\\n\\t</div>    \\n\\t<!--banner-->\\n\\t<div class=\"layout ggtl cf\"><!--AdForward Begin通栏04：:-->\\n<script type=\"text/javascript\" src=\"http://pgg.people.com.cn/s?z=people&c=4\" charset=\"gbk\"></script><!--AdForward End--></div>\\n\\t<!--国际 · 军事-->\\n\\t<div class=\"layout International_Military cf pdao3\" id=\"lm3\">\\n\\t\\t<div class=\"tit1 clearfix\"><h2><a href=\"http://world.people.com.cn/\" target=\"_blank\">国际</a> · <a href=\"http://military.people.com.cn/\" target=\"_blank\">军事</a></h2></div>\\n\\t\\t<!--重复版块-->\\n\\t\\t<div class=\"Repeat Repeat3 cf section-common-share-wrap\" id=\"rm_gj01\">\\n            <div class=\"col col-1 fl\">\\n                <div class=\"news2 cf\">\\n\\t\\t\\t\\t\\t<h3><a href=\\'http://world.people.com.cn/n1/2022/0509/c1002-32417472.html\\' target=_blank>中国驻美大使秦刚：中美关系稳，华人才能好</a></h3>\\n\\t\\t\\t\\t\\t<em class=\"gray\"></em>\\n\\t\\t\\t\\t</div>\\n\\t\\t\\t\\t<p class=\"gray\"><a href=\\'http://world.people.com.cn/n1/2022/0509/c1002-32417472.html\\' target=_blank>中国驻美国大使秦刚日前出席美国华人组织“百人会”在华盛顿美国华人博物馆举行的招待会活动。秦刚在致辞中表示，希望美国华裔身体力行作中美友好的促进者，积极推动中美各领域交流，增进了解、化解分歧，促进合作、消除对抗。中美关系稳，华人才能好。</a></p>\\n\\t\\t\\t\\t<div class=\"share1\">\\n\\t\\t\\t\\t\\t<span><i class=\"gray\"><a href=\\'http://world.people.com.cn/\\' target=_blank>国际</a></i><i class=\"gray\"><a href=\\'http://world.people.com.cn/GB/57507/index.html\\' target=_blank>独家稿库</a></i><i class=\"gray\"><a href=\\'http://world.people.com.cn/GB/157278/index.html\\' target=_blank>滚动新闻</a></i></span>\\n\\t\\t\\t\\t\\t<em>分享</em>\\n\\t\\t\\t\\t</div>\\n\\n            </div>\\n            <div class=\"col col-2 fr\">\\n\\t\\t\\t\\t<ul class=\"list6 cf\"><li><a href=\\'http://world.people.com.cn/n1/2022/0509/c1002-32417518.html\\' target=_blank>新西兰首现奥密克戎毒株BA.5亚型</a></li>\\n<li><a href=\\'http://world.people.com.cn/n1/2022/0509/c1002-32417447.html\\' target=_blank>菲律宾全国和地方选举投票正式开始</a></li>\\n<li><a href=\\'http://world.people.com.cn/n1/2022/0509/c1002-32417143.html\\' target=_blank>美单方面制裁严重破坏委内瑞拉民生</a></li>\\n<li><a href=\\'http://world.people.com.cn/n1/2022/0509/c1002-32417454.html\\' target=_blank>哥斯达黎加当选总统查韦斯宣誓就职</a></li>\\n<li><a href=\\'http://world.people.com.cn/n1/2022/0509/c1002-32417460.html\\' target=_blank>科特迪瓦国民议会议长苏马霍罗去世</a></li>\\n</ul>\\n\\t\\t\\t</div>\\n\\t\\t</div>\\n        <!--重复版块-->\\n\\t\\t<div class=\"Repeat Repeat3 cf section-common-share-wrap\" id=\"rm_gj02\">\\n            <div class=\"col col-1 fl\">\\n                <div class=\"news2 cf\">\\n\\t\\t\\t\\t\\t<h3><a href=\\'http://world.people.com.cn/n1/2022/0509/c1002-32417144.html\\' target=_blank>美联储激进加息产生多重负面效应</a></h3>\\n\\t\\t\\t\\t\\t<em class=\"gray\"></em>\\n\\t\\t\\t\\t</div>\\n\\t\\t\\t\\t<p class=\"gray\"><a href=\\'http://world.people.com.cn/n1/2022/0509/c1002-32417144.html\\' target=_blank>美国联邦储备委员会日前宣布加息50个基点，将联邦基金利率目标区间上调到0.75%至1%之间，自2000年以来加息幅度首次达到50个基点。美联储同时宣布，将从6月1日起缩减规模近9万亿美元的资产负债表，以配合加息举措，遏制通胀飙升。为遏制通胀形势持续恶化，美联储转向激进加息，这一政策失序不仅导致美国经济衰退风险上升，也造成多重负面效应，冲击全球金融市场并加剧新兴市场压力。</a></p>\\n\\t\\t\\t\\t<div class=\"share1\">\\n\\t\\t\\t\\t\\t<span><i class=\"gray\"><a href=\\'http://world.people.com.cn/\\' target=_blank>国际</a></i><i class=\"gray\"><a href=\\'http://world.people.com.cn/GB/1029/42355/index.html\\' target=_blank>美洲</a></i><i class=\"gray\"><a href=\\'http://world.people.com.cn/GB/157278/index.html\\' target=_blank>滚动新闻</a></i></span>\\n\\t\\t\\t\\t\\t<em>分享</em>\\n\\t\\t\\t\\t</div>\\n\\n            </div>\\n            <div class=\"col col-2 fr\">\\n\\t\\t\\t\\t<ul class=\"list6 cf\"><li><a href=\\'http://world.people.com.cn/n1/2022/0509/c1002-32417519.html\\' target=_blank>美国通胀，让中国“背锅”？荒诞！</a></li>\\n<li><a href=\\'http://world.people.com.cn/n1/2022/0509/c1002-32417451.html\\' target=_blank>加拿大总理特鲁多访问乌克兰</a></li>\\n<li><a href=\\'http://world.people.com.cn/n1/2022/0509/c1002-32417549.html\\' target=_blank>欧盟协调员将访问伊朗以推进伊核谈判</a></li>\\n<li><a href=\\'http://world.people.com.cn/n1/2022/0509/c1002-32417497.html\\' target=_blank>以色列安全部队抓捕两名巴勒斯坦人</a></li>\\n<li><a href=\\'http://world.people.com.cn/n1/2022/0509/c1002-32417545.html\\' target=_blank>巴西前总统卢拉正式宣布参加2022年总统选举</a></li>\\n</ul>\\n\\t\\t\\t</div>\\n\\t\\t</div>\\n\\t\\t<!--重复版块-->\\n\\t\\t<div class=\"Repeat Repeat3 cf section-common-share-wrap\" id=\"rm_gj03\">\\n            <div class=\"col col-1 fl\">\\n                <div class=\"news2 cf\">\\n\\t\\t\\t\\t\\t<h3><a href=\\'http://military.people.com.cn/n1/2022/0509/c1011-32417629.html\\' target=_blank>某信息通信基地创新组训模式 相隔千里同台竞技</a></h3>\\n\\t\\t\\t\\t\\t<em class=\"gray\"></em>\\n\\t\\t\\t\\t</div>\\n\\t\\t\\t\\t<p class=\"gray\"><a href=\\'http://military.people.com.cn/n1/2022/0509/c1011-32417629.html\\' target=_blank>初夏时节，某信息通信基地展开“全员考全专业赛”活动，驻地位于多个省市的各分队参赛代表，以远程视频方式完成了首场线上竞赛。创新组训模式，实现练兵与防疫两不误。在日常训练中，该基地立足现有条件改进组训模式，广泛开展网上教学、远程授课、模拟操作、案例自学，采取小建制分时段、小场地分练等方法，推动按纲施训落实，提高疫情防控期间技战术训练的质量效益。</a></p>\\n\\t\\t\\t\\t<div class=\"share1\">\\n\\t\\t\\t\\t\\t<span><i class=\"gray\"><a href=\\'http://military.people.com.cn/\\' target=_blank>军事</a></i><i class=\"gray\"><a href=\\'http://military.people.com.cn/GB/1076/index.html\\' target=_blank>国防建设</a></i><i class=\"gray\"><a href=\\'http://military.people.com.cn/GB/172467/index.html\\' target=_blank>滚动新闻</a></i></span>\\n\\t\\t\\t\\t\\t<em>分享</em>\\n\\t\\t\\t\\t</div>\\n\\n            </div>\\n            <div class=\"col col-2 fr\">\\n\\t\\t\\t\\t<ul class=\"list6 cf\"><li><a href=\\'http://military.people.com.cn/n1/2022/0509/c1011-32417618.html\\' target=_blank>北部战区海军某旅开展科技练兵</a></li>\\n<li><a href=\\'http://military.people.com.cn/n1/2022/0509/c1011-32417625.html\\' target=_blank>西部战区某保障队打造“零压力”公共疗愈空间</a></li>\\n<li><a href=\\'http://military.people.com.cn/n1/2022/0509/c1011-32417634.html\\' target=_blank>河南省信阳市借助红色资源开展城舰共建活动</a></li>\\n<li><a href=\\'http://military.people.com.cn/n1/2022/0509/c1011-32417638.html\\' target=_blank>印度启动无人战车研发计划</a></li>\\n<li><a href=\\'http://military.people.com.cn/n1/2022/0509/c1011-32417647.html\\' target=_blank>韩拟借新潜艇强固“军备链”</a></li>\\n</ul>\\n\\t\\t\\t</div>\\n\\t\\t</div>\\n\\t\\t<!--picg2-->\\n\\t\\t<div class=\"picg1 cf\" id=\"rm_gj04\">\\n\\t\\t\\t<ul>\\n\\t\\t\\t\\t<li><span class=\"scale_img\"><a href=\"http://world.people.com.cn/n1/2022/0509/c1002-32417452.html\" target=_blank><img src=\"/NMediaFile/2022/0509/MAIN202205090855353663929293176.jpg\" width=\"384\" height=\"209\" alt=\"德国柏林：纪念二战胜利77周年\"/></a></span><a href=\"http://world.people.com.cn/n1/2022/0509/c1002-32417452.html\" target=_blank>德国柏林：纪念二战胜利77周年</a></li>\\n<li><span class=\"scale_img\"><a href=\"http://world.people.com.cn/n1/2022/0509/c1002-32417445.html\" target=_blank><img src=\"/NMediaFile/2022/0509/MAIN202205090855317461809054052.jpg\" width=\"384\" height=\"209\" alt=\"美国内华达州米德湖区域旱情加重\"/></a></span><a href=\"http://world.people.com.cn/n1/2022/0509/c1002-32417445.html\" target=_blank>美国内华达州米德湖区域旱情加重</a></li>\\n\\n\\t\\t\\t\\t<li><span class=\"scale_img\"><a href=\"http://military.people.com.cn/n1/2022/0509/c1011-32417621.html\" target=_blank><img src=\"/NMediaFile/2022/0509/MAIN202205091029129062798620690.jpg\" width=\"384\" height=\"209\" alt=\"海军某护卫舰支队开展实战化训练\"/></a></span><a href=\"http://military.people.com.cn/n1/2022/0509/c1011-32417621.html\" target=_blank>海军某护卫舰支队开展实战化训练</a></li>\\n\\n\\t\\t\\t</ul>\\n\\t\\t</div>\\n\\t</div>\\n    <div class=\"layout ggtl cf\"><!--AdForward Begin通栏05：:-->\\n<script type=\"text/javascript\" src=\"http://pgg.people.com.cn/s?z=people&c=5\" charset=\"gbk\"></script><!--AdForward End--></div>\\n\\t<!--地方 · 访谈-->\\n<style type=\"text/css\">\\n.tgpic{margin-left:625px;vertical-align:middle;}\\n@media screen and (max-width: 1279px){\\n.tgpic{margin-left:440px;}\\n}\\n</style>\\n\\t<div class=\"layout Local_interview cf pdao4\" id=\"lm4\">\\n\\t\\t<div class=\"tit1 clearfix\"><h2><a href=\"http://unn.people.com.cn/\" target=\"_blank\">地方</a> · <a href=\"http://fangtan.people.com.cn/\" target=\"_blank\">访谈</a></h2><span class=\"tgpic\"><a href=\"http://www.people.com.cn/32306/432845/441766/index.html\" target=\"_blank\"><img src=\"/img/2020peopleindex/img/tjpic/qnlogon1.png\" /></a></span></div>\\n\\t\\t<!--重复版块-->\\n\\t\\t<div class=\"Repeat Repeat4 cf section-common-share-wrap\" id=\"rm_df01\">\\n            <div class=\"col col-1 fl\">\\n                <div class=\"news2 cf\">\\n\\t\\t\\t\\t\\t<h3><a href=\\'/n1/2022/0508/c32306-32416988.html\\' target=_blank>推动外贸保稳提质 国常会做了这些部署安排</a></h3>\\n\\t\\t\\t\\t\\t<em class=\"gray\"></em>\\n\\t\\t\\t\\t</div>\\n\\t\\t\\t\\t<p class=\"gray\"><a href=\\'/n1/2022/0508/c32306-32416988.html\\' target=_blank>5月5日召开的国务院常务会议提出，确定推动外贸保稳提质的措施，助力稳经济稳产业链供应链。商务部研究院国际市场研究所副所长白明表示，当前，国内外有多重因素影响着我国外贸的发展。本次国常会有针对性地部署安排了一些措施，就是要解决当前复杂背景下外贸工作中的堵点与难点。</a></p>\\n\\t\\t\\t\\t<div class=\"share1\">\\n\\t\\t\\t\\t\\t<span><i class=\"gray\"><a href=\\'/32306/index.html\\' target=_blank>强国新闻</a></i></span>\\n\\t\\t\\t\\t\\t<em>分享</em>\\n\\t\\t\\t\\t</div>\\n\\n            </div>\\n            <div class=\"col col-2 fr\">\\n\\t\\t\\t\\t<ul class=\"list6 cf\"><li><a href=\\'/n1/2022/0508/c32306-32416938.html\\' target=_blank>疫情之下，这些孩子们的用血之路依然通畅</a></li>\\n<li><a href=\\'/n1/2022/0507/c32306-32416454.html\\' target=_blank>海拔最高！为何要在8830米建气象站？</a></li>\\n<li><a href=\\'/n1/2022/0501/c32306-32412868.html\\' target=_blank>新职业教育法5月1日施行 多处细节值得关注</a></li>\\n<li><a href=\\'/n1/2022/0501/c32306-32412856.html\\' target=_blank>微视频｜抗疫一线的青年力量</a></li>\\n<li><a href=\\'/n1/2022/0428/c32306-32410704.html\\' target=_blank>这份规划让考古更好讲述中国故事</a></li>\\n</ul>\\n\\t\\t\\t</div>\\n\\t\\t</div>\\n        <!--picg4-->\\n\\t\\t<div class=\"picg4 cf\" id=\"rm_df02\">\\n\\t\\t\\t<ul><li><a href=\"http://www.people.com.cn/n1/2022/0508/c32306-32417068.html\" target=_blank><img src=\"/NMediaFile/2022/0509/MAIN202205090812125688681749323.jpg\" width=\"147\" height=\"220\"/><b>储朝晖</b>\\n<span>中国教育科学研究院研究员</span> \\n<em class=\"gray\">劳动课怎么上？专家：要避免流于形式</em></a></li>\\n<li><a href=\"http://fangtan.people.com.cn/n1/2022/0504/c441632-32413817.html\" target=_blank><img src=\"/NMediaFile/2022/0505/MAIN202205050915188721268712144.jpg\" width=\"147\" height=\"220\"/><b>陈云霁</b>\\n<span>中国科学院计算技术研究所副所长、研究员</span> \\n<em class=\"gray\">这位80后研发的中国“芯”，被称为“开创性进展”</em></a></li>\\n<li><a href=\"http://www.people.com.cn/n1/2022/0424/c32306-32407032.html\" target=_blank><img src=\"/NMediaFile/2022/0426/MAIN202204260839268817630852260.jpg\" width=\"147\" height=\"220\"/><b>贺中琴</b>\\n<span>嫦娥五号微波雷达主任设计师</span> \\n<em class=\"gray\">20年，她的青春与中国航天“完美对接”</em></a></li>\\n</ul>\\n\\t\\t</div>\\n\\t\\t<!--重复版块-->\\n\\t\\t<div class=\"Repeat Repeat4 cf section-common-share-wrap\" id=\"rm_df03\">\\n            <div class=\"col col-1 fl\">\\n                <div class=\"news2 cf\">\\n <h3><a href=\"http://cq.people.com.cn/n2/2022/0509/c367697-35258841.html\" target=\"_blank\">重庆出实招助高校毕业生就业创业</a></h3>                                                                                                                                                                                                            \\n <em class=\"gray\"></em>\\n</div>\\n<p class=\"gray\"><a href=\"http://cq.people.com.cn/n2/2022/0509/c367697-35258841.html\" target=\"_blank\">记者从重庆市教委获悉，重庆市持续在完善机制、拓宽渠道、强化帮扶、提升服务、赋能“双创”等5个方面下功夫、出实招，为高校毕业生就业创业“铺路搭桥”。“针对就业困难毕业生，我们以提升他们就业动力为目标，统筹全市专家库资源，强化宏志助航计划。”市教委相关负责人介绍，“去年，我市圆满完成教育部下达培训任务，参训学生满意度达到96%以上。</a></p>\\n<div class=\"share1\">\\n <span><i class=\"gray\"><a href=\"http://liuyan.people.com.cn/\" target=\"_blank\">领导留言板</a></i><i class=\"gray\"><a href=\"http://unn.people.com.cn/GB/393135/index.html\" target=\"_blank\">各地新闻</a></i><i class=\"gray\"></i></span>\\n <em>分享</em>\\n</div>\\n            </div>\\n            <div class=\"col col-2 fr\">\\n\\t\\t\\t\\t<ul class=\"list6 cf\"><li><a href=\"http://js.people.com.cn/n2/2022/0509/c360301-35258911.html\" target=\"_blank\">江苏：精准“滴灌”畅通实体经济“血脉”</a></li><li><a href=\"http://gz.people.com.cn/n2/2022/0509/c194827-35259093.html\" target=\"_blank\">破土而出——贵州加快种质资源库建设</a></li><li><a href=\"\\t\\nhttp://fj.people.com.cn/n2/2022/0509/c181466-35259056.html\\n\" target=\"_blank\">福建省法院推出17项举措助力乡村振兴</a></li><li><a href=\"\\t\\nhttp://zj.people.com.cn/n2/2022/0509/c186327-35259039.html\\n\" target=\"_blank\">2022年浙江杭州数字化改革稳步推进</a></li><li><a href=\"\\t\\nhttp://bj.people.com.cn/n2/2022/0509/c82840-35259086.html\\n\" target=\"_blank\">北京：绿色转型治理首都“大城市病”</a></li></ul>\\n\\t\\t\\t</div>\\n\\t\\t</div>\\n\\t\\t<!--picg3-->\\n\\t\\t<div class=\"picg3 cf\"  id=\"rm_df04\">\\n\\t\\t\\t<ul><li><span class=\"scale_img\"><a href=\"http://gz.people.com.cn/GB/195053/403496/\" target=_blank><img src=\"/NMediaFile/2021/1227/MAIN202112271007021386569005004.jpg\" width=\"290\" height=\"158\" alt=\"贵州党史学习教育系列慕课专题&#13;党史学习映初心 砥砺奋进正当时\"/></a></span><em><a href=\"http://gz.people.com.cn/GB/195053/403496/\" target=_blank>贵州党史学习教育系列慕课专题\\n党史学习映初心 砥砺奋进正当时</a></em></li>\\n<li><span class=\"scale_img\"><a href=\"http://leaders.people.com.cn/GB/70158/437866/index.html\" target=_blank><img src=\"/NMediaFile/2021/0804/MAIN202108040916253352833455785.png\" width=\"290\" height=\"158\" alt=\"学党史·办实事 对话地方领导系列访谈\"/></a></span><em><a href=\"http://leaders.people.com.cn/GB/70158/437866/index.html\" target=_blank>学党史·办实事 对话地方领导系列访谈</a></em></li>\\n</ul>\\n\\t\\t</div>\\n\\t</div>\\n    <div class=\"layout cf\"><!--AdForward Begin通栏06：:-->\\n<script type=\"text/javascript\" src=\"http://pgg.people.com.cn/s?z=people&c=6\" charset=\"gbk\"></script><!--AdForward End--></div>\\n\\t<!--文体 · 生活-->\\n\\t<div class=\"layout Local_interview cf pdao5\" id=\"lm5\">\\n\\t\\t<div class=\"tit1 clearfix\"><h2><a href=\"http://ent.people.com.cn/\" target=\"_blank\">文旅 · 体育</a></h2></div>\\n\\t\\t<!--重复版块-->\\n\\t\\t<div class=\"Repeat Repeat5 cf section-common-share-wrap\" id=\"rm_wt01\">\\n            <div class=\"col col-1 fl\">\\n                <div class=\"news2 cf\">\\n    <h3><a href=\\'http://ent.people.com.cn/n1/2022/0509/c1012-32417433.html\\' target=_blank>动物考古揭秘：“良渚人”爱吃什么肉？</a></h3>\\n    <em class=\"gray\"></em>\\n</div>\\n<p class=\"gray\"><a href=\\'http://ent.people.com.cn/n1/2022/0509/c1012-32417433.html\\' target=_blank>除了家猪，良渚古城里只出土过狗这一家畜的骨骼。而在野生动物里，鹿的骨骼是最多的，已经发现了麋鹿、水鹿、梅花鹿、獐和麂这5种鹿科动物的骨骼。“良渚人”除了吃鹿肉，还喜欢鹿角和鹿骨。鹿骨骨壁厚、整体平直、易于截取，稍加打磨就可以加工成骨锥、骨簪等骨制品。而在出土的鹿角中，有的是在春季拾取的自然脱落的鹿角，末端连着角环；有的是猎人杀死鹿以后，从头上割取的鹿角，上面还带有额骨的碎片。</a></p>\\n<div class=\"share1\">\\n    <span><i class=\"gray\"><a href=\"http://culture.people.com.cn/GB/172318/index.html\" target=\"_blank\">文化</a></i><i class=\"gray\"><a href=\"http://media.people.com.cn/GB/40606/index.html\" target=\"_blank\">传媒</a></i><i class=\"gray\"><a href=\"http://travel.people.com.cn/GB/41636/index.html\" target=\"_blank\">旅游</a></i><i class=\"gray\"><a href=\"http://sports.people.com.cn/GB/436800/index.html\" target=\"_blank\">体育</a></i></span>\\n    <em>分享</em>\\n</div>\\n\\n            </div>\\n            <div class=\"col col-2 fr\">\\n\\t\\t\\t\\t<ul class=\"list6 cf\"><li><a href=\\'http://ent.people.com.cn/n1/2022/0509/c1012-32417362.html\\' target=_blank>静悄悄的麦田里，长出一座“博物馆”</a></li>\\n<li><a href=\\'http://ent.people.com.cn/n1/2022/0509/c1012-32417386.html\\' target=_blank>浇灌民乐传承之花</a></li>\\n<li><a href=\\'http://ent.people.com.cn/n1/2022/0509/c1012-32417387.html\\' target=_blank>聚光中国杂技青春风采</a></li>\\n<li><a href=\\'http://ent.people.com.cn/n1/2022/0509/c1012-32417428.html\\' target=_blank>贵南高铁朝阳隧道贯通</a></li>\\n<li><a href=\\'http://ent.people.com.cn/n1/2022/0509/c1012-32417439.html\\' target=_blank>明代永平府城墙西门等修缮工程加紧施工</a></li>\\n</ul>\\n\\t\\t\\t</div>\\n\\t\\t</div>\\n\\t\\t<!--重复版块-->\\n\\t\\t<div class=\"Repeat Repeat5 cf section-common-share-wrap\" id=\"rm_wt02\">\\n            <div class=\"col col-1 fl\">\\n                <div class=\"news2 cf\">\\n    <h3><a href=\\'http://ent.people.com.cn/n1/2022/0509/c1012-32417375.html\\' target=_blank>中考体育考试之前 专家提醒考生避免高强度突击训练</a></h3>\\n    <em class=\"gray\"></em>\\n</div>\\n<p class=\"gray\"><a href=\\'http://ent.people.com.cn/n1/2022/0509/c1012-32417375.html\\' target=_blank>中考体育考试即将开始，专家提醒广大考生，不要进行高强度的突击训练，避免损伤关节，锻炼前要先热身，坚持循序渐进、量力而行，避免因方法不当造成运动损伤。湖南省人民医院骨关节与运动医学科副主任医师陈铁柱介绍，近期一些学生在考前突然增加训练强度，甚至搞“突击训练”，运动过度，导致关节受伤，还有的学生出现了髌骨脱位，进行了紧急手术。</a></p>\\n<div class=\"share1\">\\n    <span><i class=\"gray\"><a href=\"http://culture.people.com.cn/GB/172318/index.html\" target=\"_blank\">文化</a></i><i class=\"gray\"><a href=\"http://media.people.com.cn/GB/40606/index.html\" target=\"_blank\">传媒</a></i><i class=\"gray\"><a href=\"http://travel.people.com.cn/GB/41636/index.html\" target=\"_blank\">旅游</a></i><i class=\"gray\"><a href=\"http://sports.people.com.cn/GB/436800/index.html\" target=\"_blank\">体育</a></i></span>\\n    <em>分享</em>\\n</div>\\n\\n            </div>\\n            <div class=\"col col-2 fr\">\\n\\t\\t\\t\\t<ul class=\"list6 cf\"><li><a href=\\'http://ent.people.com.cn/n1/2022/0509/c1012-32417365.html\\' target=_blank>女超赛场没有担架？陕西长安竞技官方辟谣</a></li>\\n<li><a href=\\'http://ent.people.com.cn/n1/2022/0509/c1012-32417369.html\\' target=_blank>汤尤杯即将开赛 国羽目标冲击冠军</a></li>\\n<li><a href=\\'http://ent.people.com.cn/n1/2022/0509/c1012-32417372.html\\' target=_blank>南特22年来首夺法国杯冠军</a></li>\\n<li><a href=\\'http://ent.people.com.cn/n1/2022/0509/c1012-32417446.html\\' target=_blank>北京奥林匹克森林公园即日起闭园管理</a></li>\\n<li><a href=\\'http://ent.people.com.cn/n1/2022/0509/c1012-32417459.html\\' target=_blank>北京国安公布新赛季报名名单</a></li>\\n</ul>\\n\\t\\t\\t</div>\\n\\t\\t</div> \\n        <div class=\"picg1 cf\" id=\"rm_wt03\">\\n\\t\\t\\t<ul>\\n                <li><span class=\"scale_img\"><a href=\"http://ent.people.com.cn/n1/2022/0509/c1012-32417425.html\" target=_blank><img src=\"/NMediaFile/2022/0509/MAIN202205090930553463327178556.jpg\" width=\"384\" height=\"209\" alt=\"“高原水城”拉萨\"/></a></span><a href=\"http://ent.people.com.cn/n1/2022/0509/c1012-32417425.html\" target=_blank>“高原水城”拉萨</a></li>\\n<li><span class=\"scale_img\"><a href=\"http://ent.people.com.cn/GB/436846/441616/index.html\" target=_blank><img src=\"/NMediaFile/2021/1214/MAIN202112140906054646621785014.png\" width=\"384\" height=\"209\" alt=\"坚持“两创” 书写史诗\"/></a></span><a href=\"http://ent.people.com.cn/GB/436846/441616/index.html\" target=_blank>坚持“两创” 书写史诗</a></li>\\n<li><span class=\"scale_img\"><a href=\"http://ent.people.com.cn/GB/436846/441423/index.html\" target=_blank><img src=\"/NMediaFile/2021/1129/MAIN202111290914478542933856524.jpg\" width=\"384\" height=\"209\" alt=\"经典文艺\"/></a></span><a href=\"http://ent.people.com.cn/GB/436846/441423/index.html\" target=_blank>经典文艺</a></li>\\n\\n\\t\\t\\t</ul>\\n\\t\\t</div> \\n\\t</div>\\n    <!--健康 · 生活-->\\n\\t<div class=\"layout Local_interview cf pdao6\" id=\"lm6\">\\n\\t\\t<div class=\"tit1 clearfix\"><h2><a href=\"http://health.people.com.cn/\" target=\"_blank\">健康 · 生活</a></h2><em><a href=\"http://health.people.com.cn/GB/408835/428895/index.html\" target=\"_blank\">下载客户端</a></em></div>\\n\\t\\t<!--重复版块-->\\n\\t\\t<div class=\"Repeat Repeat5 cf section-common-share-wrap\" id=\"rm_jk01\">\\n            <div class=\"col col-1 fl\">\\n                <div class=\"news2 cf\">\\n    <h3><a href=\\'http://health.people.com.cn/n1/2022/0509/c14739-32417481.html\\' target=_blank>戴N95口罩、抗原检测……多地出台外卖员防疫新规</a></h3>\\n    <em class=\"gray\"></em>\\n</div>\\n<p class=\"gray\"><a href=\\'http://health.people.com.cn/n1/2022/0509/c14739-32417481.html\\' target=_blank>近日，北京市有关部门通报了一例外卖配送员感染新冠病毒的情况，至检测阳性为止，该外卖员接了500余单，涉及38家餐馆。不少人担心，疫情下，还能收快递、点外卖吗？北京市商务局网站6日发布的《新冠疫情流行期间外卖配送人员防控指引(2022年5月版)》要求，外卖配送人员在外出提供服务时必须佩戴N95(或KN95)口罩、一次性手套。</a></p>\\n<div class=\"share1\">\\n   <span><i class=\"gray\"><a href=\"http://health.people.com.cn/GB/415859/index.html\" target=\"_blank\">健康</a></i><i class=\"gray\"><a href=\"http://health.people.com.cn/GB/437422/index.html\" target=\"_blank\">生活宝典</a></i></span>\\n    <em>分享</em>\\n</div>\\n\\n            </div>\\n            <div class=\"col col-2 fr\">\\n\\t\\t\\t\\t<ul class=\"list6 cf\"><li><a href=\\'http://health.people.com.cn/n1/2022/0509/c14739-32417090.html\\' target=_blank>北京市重点区域排查管控再提速</a></li>\\n<li><a href=\\'http://health.people.com.cn/n1/2022/0509/c14739-32417092.html\\' target=_blank>走，给居民配药去</a></li>\\n<li><a href=\\'http://health.people.com.cn/n1/2022/0509/c14739-32417466.html\\' target=_blank>云南建关爱医务人员长效机制</a></li>\\n<li><a href=\\'http://health.people.com.cn/n1/2022/0509/c14739-32417498.html\\' target=_blank>北京：未发现因参加区域核酸筛查而感染的情况</a></li>\\n<li><a href=\\'http://health.people.com.cn/n1/2022/0509/c14739-32417525.html\\' target=_blank>新华微评·凝心聚力抗疫情：防控，每个人都是战士</a></li>\\n</ul>\\n\\t\\t\\t</div>\\n\\t\\t</div>\\n\\t</div>   \\n\\t<!--introduction-->\\n\\t<div class=\"layout rm_introduction cf\" id=\"rm_rmdb\">\\n\\t\\t<div class=\"col col-1 fl\">\\n\\t\\t\\t<div class=\"tit1 cf\"><h2><a href=\"http://www.people.com.cn/GB/50142/104580/index.html\" target=\"_blank\">人民日报</a></h2><img src=\"/img/2020peopleindex/img/more1.png\" alt=\"\"></div>\\n\\t\\t\\t<div class=\"synopsis PeopleDaily cf\">\\n\\t\\t\\t\\t<div><a href=\"http://finance.people.com.cn/GB/8215/435221/441514/index.html\" target=_blank><img src=\"/NMediaFile/2021/1203/MAIN202112031702197018826158813.jpg\" width=\"109\" height=\"156\"/></a>2021年11月30日，由人民日报社主办的2021中国品牌论坛在北京举行，政府主管部门代表、企业负责人、专家学者齐聚一堂，围绕“加强品牌建设 推动高质量发展”主题展开广泛研讨、深入交流，共话中国品牌发展未来。<em class=\"black\"><a href=\"http://finance.people.com.cn/GB/8215/435221/441514/index.html\" target=\"_blank\">[详情]</a></em>\\n\\n\\n\\n\\n</div>\\n\\t\\t\\t\\t<ul><li><a href=\"http://culture.people.com.cn/GB/22226/432889/\" target=\"_blank\">人民日报进乡村  云上聚焦脱贫攻坚</a></li><li><a href=\"http://unn.people.com.cn/difang/GB/387639/398486/\"target=\"_blank\">人民日报进地方 全面小康新画面</a></li></ul>\\n\\t\\t\\t</div>\\n\\t\\t</div>\\n\\t\\t<div class=\"col col-2 fr\">\\n\\t\\t\\t<div class=\"tit1 cf\"><h2><a href=\"http://www.people.com.cn/GB/50142/420117/index.html\" target=\"_blank\">人民网</a></h2><img src=\"/img/2020peopleindex/img/more1.png\" alt=\"\"></div>\\n\\t\\t\\t<div class=\"synopsis PeopleNetwork cf\">\\n\\t\\t\\t\\t<div>人民网是《人民日报》建设的大型网上信息交互平台，是人民日报社控股的传媒文化上市公司，是国际互联网上最大的综合性网络媒体之一。1997年1月1日，人民网正式上线。2006年7月1日，中共中央批准人民网承办的“中国共产党新闻网”上线，成为宣传和介绍中国共产党思想、理论、政策、信息的权威网站。<em class=\"black\"><a href=\"http://www.people.com.cn/GB/50142/420117/420317/index.html\" target=\"_blank\">[详情]</a></em></div>\\n\\t\\t\\t\\t<ul><li><a href=\"http://dangshi.people.com.cn/n1/2021/0929/c436975-32241997.html\" target=\"_blank\">全国党史知识竞赛总决赛举行</a>\\n\\n\\n\\n\\n</li><li><a href=\"http://capital.people.com.cn/n1/2021/0923/c405954-32234149.html\" target=\"_blank\">第三届人民网内容科技大赛颁奖仪式成功举办</a>\\n\\n\\n\\n\\n</li></ul>\\n\\t\\t\\t</div>\\n\\t\\t</div>\\n\\t</div>\\n\\t<!--rm_under-->\\n\\t<div class=\"layout rm_under cf\" id=\"rm_qixia\">\\n\\t\\t<div class=\"tit1 cf\"><h2>旗下</h2></div>\\n\\t\\t<div class=\"UnderCon clearfix\">\\n         <ul>\\n\\t\\t\\t<li><!--<a href=\"http://www.peopleonline.cn/\" target=\"_blank\"><img src=\"/img/2020peopleindex/img/11.jpg\" width=\"162\" height=\"50\" alt=\"\"></a>-->\\n            <a href=\"http://sports.people.com.cn/\" target=\"_blank\"><img src=\"/img/2020peopleindex/img/logoty.png\" width=\"192\" height=\"50\" alt=\"\"></a>\\n\\t\\t\\t<a href=\"http://v.people.cn/\" target=\"_blank\"><img src=\"/img/2020peopleindex/img/8.jpg\" width=\"153\" height=\"51\" alt=\"\"></a>\\n\\t\\t\\t<!--<a href=\"https://coo.people.cn/\" target=\"_blank\"><img src=\"/img/2020peopleindex/img/logozz.png\" width=\"141\" height=\"50\" alt=\"\"></a>-->\\n\\t\\t\\t<a href=\"https://www.huanqiu.com/\" target=\"_blank\"><img src=\"/img/2020peopleindex/img/10.jpg\" width=\"135\" height=\"48\" alt=\"\"></a>\\n            <!--<a href=\"http://video.people.cn/\" target=\"_blank\"><img src=\"/img/2020peopleindex/img/logosx.png\" width=\"145\" height=\"50\" alt=\"\"></a></li>-->\\n            <!--<li>--><a href=\"http://health.people.com.cn/\" target=\"_blank\"><img src=\"/img/2020peopleindex/img/logojk.png\" width=\"115\" height=\"60\" alt=\"\"></a>\\n\\t\\t\\t<!--<a href=\"http://peopletech.cn/\" target=\"_blank\"><img src=\"/img/2020peopleindex/img/7.jpg\" width=\"152\" height=\"50\" alt=\"\"></a>-->\\n\\t\\t\\t<!--<a href=\"https://visual.people.cn/editorial\" target=\"_blank\"><img src=\"/img/2020peopleindex/img/logosj.png\" width=\"176\" height=\"50\" alt=\"\"></a>-->\\n\\t\\t\\t<!--<a href=\"http://yunying.people.cn/\" target=\"_blank\"><img src=\"/img/2020peopleindex/img/logoyy.png\" width=\"149\" height=\"50\" alt=\"\"></a>-->\\n\\t\\t\\t<a href=\"http://www.haiwainet.cn/\" target=\"_blank\"><img src=\"/img/2020peopleindex/img/logohw.png\" width=\"221\" height=\"44\" alt=\"\"></a>\\n\\t\\t\\t<!--<a href=\"http://www.people78.cn/\" target=\"_blank\"><img src=\"/img/2020peopleindex/img/logoqp.png\" width=\"174\" height=\"49\" alt=\"\"></a>-->\\n            <a href=\"http://yjy.people.com.cn/\" target=\"_blank\"><img src=\"/img/2020peopleindex/img/logoyjy.png\" width=\"170\" height=\"39\" alt=\"\"></a></li>\\n         </ul>\\n\\t\\t</div>\\n\\t</div>\\n\\t<!--footer-->\\n\\t<div class=\"rm_footer cf\">\\n\\t\\t<!--office-->\\n\\t\\t<div class=\"layout office cf\"><div class=\"office_domestic fl\" id=\"rm_guonei\">\\n                <h3>国内分公司</h3>\\n                <div>\\n                <a href=\"http://bj.people.com.cn/\" target=\"_blank\">北京</a>\\n                <a href=\"http://tj.people.com.cn/ \" target=\"_blank\">天津</a>\\n                <a href=\"http://he.people.com.cn/\" target=\"_blank\">河北</a>\\n                <a href=\"http://sx.people.com.cn/\" target=\"_blank\">山西</a>\\n                <a href=\"http://nm.people.com.cn/\" target=\"_blank\">内蒙古</a>\\n                <a href=\"http://ln.people.com.cn/\" target=\"_blank\">辽宁</a>\\n                <a href=\"http://jl.people.com.cn/\" target=\"_blank\">吉林</a>\\n                <a href=\"http://hlj.people.com.cn/\" target=\"_blank\">黑龙江</a>\\n                <a href=\"http://sh.people.com.cn/\" target=\"_blank\">上海</a>\\n                <a href=\"http://js.people.com.cn\" target=\"_blank\">江苏</a>\\n                <a href=\"http://zj.people.com.cn/\" target=\"_blank\">浙江</a>\\n                <a href=\"http://ah.people.com.cn/\" target=\"_blank\">安徽</a>\\n                <a href=\"http://fj.people.com.cn/\" target=\"_blank\">福建</a>\\n                <a href=\"http://jx.people.com.cn/\" target=\"_blank\">江西</a>\\n                <a href=\"http://sd.people.com.cn/\" target=\"_blank\">山东</a>\\n                <a href=\"http://henan.people.com.cn/\" target=\"_blank\">河南</a>\\n                <a href=\"http://hb.people.com.cn/\" target=\"_blank\">湖北</a>\\n                <a href=\"http://hn.people.com.cn/\" target=\"_blank\">湖南</a>\\n                <a href=\"http://gd.people.com.cn/\" target=\"_blank\">广东</a>\\n                <a href=\"http://gx.people.com.cn/\" target=\"_blank\">广西</a>\\n                <a href=\"http://hi.people.com.cn/\" target=\"_blank\">海南</a>\\n                <a href=\"http://cq.people.com.cn/\" target=\"_blank\">重庆</a>\\n                <a href=\"http://sc.people.com.cn/\" target=\"_blank\">四川</a>\\n                <a href=\"http://gz.people.com.cn/\" target=\"_blank\">贵州</a>\\n                <a href=\"http://yn.people.com.cn/\" target=\"_blank\">云南</a>\\n                <a href=\"http://xz.people.com.cn/\" target=\"_blank\">西藏</a>\\n                <a href=\"http://sn.people.com.cn/\" target=\"_blank\">陕西</a>\\n                <a href=\"http://gs.people.com.cn/\" target=\"_blank\">甘肃</a>\\n                <a href=\"http://qh.people.com.cn/\" target=\"_blank\">青海</a>\\n                <a href=\"http://nx.people.com.cn/\" target=\"_blank\">宁夏</a>\\n                <a href=\"http://xj.people.com.cn/\" target=\"_blank\">新疆</a>\\n                <a href=\"http://sz.people.com.cn/\" target=\"_blank\">深圳</a>\\n                <a href=\"http://www.rmxiongan.com/\" target=\"_blank\">雄安</a><br>\\n                <a href=\"http://unn.people.com.cn/GB/422044/index.html\" class=\"qb01\" target=\"_blank\">地方频道人员名单</a>\\n                </div> \\n            </div>\\n            <div class=\"office_overseas fr\" id=\"rm_guowai\">\\n                <h3>国别频道</h3>\\n                <div>\\n                    <a href=\"http://japan.people.com.cn/\" target=\"_blank\">日本</a>\\n                    <a href=\"http://usa.people.com.cn/\" target=\"_blank\">美国</a>\\n                    <a href=\"http://uk.people.com.cn/\" target=\"_blank\">英国</a>\\n                    <a href=\"http://ru.people.com.cn/\" target=\"_blank\">俄罗斯</a>\\n                    <a href=\"http://korea.people.com.cn/\" target=\"_blank\">韩国</a>\\n                    <a href=\"http://australia.people.com.cn/\" target=\"_blank\">澳大利亚</a>\\n                    <a href=\"http://www.people.com.cn/GB/138812/index.html\" target=\"_blank\" class=\"rm_map\">网站地图</a>\\n                </div>\\n            </div></div>\\n\\t\\t<!--Links-->\\n\\t\\t<div class=\"layout Links cf\">\\n\\t\\t\\t<h3>友情链接</h3><p><a href=\"http://www.zgjx.cn/\" target=\"_blank\">记协</a><a href=\"http://www.xinhuanet.com/\" target=\"_blank\">新华网</a><a href=\"http://www.china.com.cn/\" target=\"_blank\">中国网</a><a href=\"http://www.cctv.com/\" target=\"_blank\">央视网</a><a href=\"http://www.chinadaily.com.cn/\" target=\"_blank\">中国日报网</a><a href=\"http://www.cri.cn/\" target=\"_blank\">国际在线</a><a href=\"http://www.youth.cn/\" target=\"_blank\">中国青年网</a><a href=\"http://www.ce.cn/\" target=\"_blank\">中国经济网</a><a href=\"http://www.taiwan.cn/\" target=\"_blank\">中国台湾网</a><a href=\"http://www.gov.cn/\" target=\"_blank\">中国政府网</a><a href=\"http://www.scio.gov.cn/\" target=\"_blank\">国新办</a><a href=\"http://www.cac.gov.cn/\" target=\"_blank\">中国网信网</a><a href=\"http://www.tibet.cn/\" target=\"_blank\">中国西藏网</a><a href=\"http://www.wenming.cn/\" target=\"_blank\">中国文明网</a><a href=\"http://www.cnr.cn/\" target=\"_blank\">央广网</a><a href=\"http://www.chinanews.com/\" target=\"_blank\">中国新闻网</a><a href=\"http://www.gmw.cn/\" target=\"_blank\">光明网</a><a href=\"http://www.chinamil.com.cn/\" target=\"_blank\">中国军网</a>\\n<a href=\"http://www.ccdi.gov.cn/\" target=\"_blank\">中央纪委国家监委</a><a href=\"http://www.idcpc.org.cn/\" target=\"_blank\">中联部</a><a href=\"http://www.scopsr.gov.cn/\" target=\"_blank\">中编办</a><a href=\"http://www.mod.gov.cn/\" target=\"_blank\">国防部</a><a href=\"http://www.counsellor.gov.cn/\" target=\"_blank\">国务院参事室</a><a href=\"http://www.cdpf.org.cn/\" target=\"_blank\">残联</a><a href=\"http://www.mj.org.cn/\" target=\"_blank\">中国民主促进会</a><a href=\"http://www.ccgp.gov.cn/\" target=\"_blank\">政府采购网</a><a href=\"http://www.cvf.org.cn/\" target=\"_blank\">中国志愿服务联合会</a><a href=\"http://www.qstheory.cn/\" target=\"_blank\">求是网</a><a href=\"https://www.beijing2022.cn/\" target=\"_blank\">北京冬奥组委官网</a><a href=\"http://www.legaldaily.com.cn/\" target=\"_blank\">法治网</a><a href=\"http://www.nncc626.com/\" target=\"_blank\">中国禁毒网</a><a href=\"http://www.wenweipo.com/\" target=\"_blank\">文汇网</a><a href=\"http://www.workercn.cn/\" target=\"_blank\">中工网</a><a href=\"http://www.banyuetan.org/\" target=\"_blank\">半月谈</a><a href=\"http://www.dangjian.cn/\" target=\"_blank\">党建网</a><a href=\"http://www.cyol.com/\" target=\"_blank\">中青在线</a><a href=\"http://www.rmwl.cn\" target=\"_blank\">人民文旅网</a><a href=\"http://www.cqnews.net/\" target=\"_blank\">华龙网</a><a href=\"http://www.iqilu.com/\" target=\"_blank\">齐鲁网</a><a href=\"http://www.k618.cn/\" target=\"_blank\">未来网</a><a href=\"http://www.hebei.com.cn/\" target=\"_blank\">长城网</a><a href=\"http://www.eastday.com/\" target=\"_blank\">东方网</a><a href=\"http://www.chinaxiaokang.com/\" target=\"_blank\">中国小康网</a><a href=\"http://www.chinawriter.com.cn/\" target=\"_blank\">中国作家网</a><a href=\"http://www.crt.com.cn/\" target=\"_blank\">红色旅游网</a><a href=\"http://www.qianlong.com/\" target=\"_blank\">千龙网</a><a href=\"http://www.enorth.com.cn/\" target=\"_blank\">北方网</a><a href=\"http://www.southcn.com/\" target=\"_blank\">南方网</a><a href=\"http://www.rednet.cn/\" target=\"_blank\">红网</a><a href=\"http://www.chinatibetnews.com/\" target=\"_blank\">西藏新闻网</a><a href=\"http://www.ts.cn/\" target=\"_blank\">天山网</a><a href=\"http://www.cnhubei.com/\" target=\"_blank\">荆楚网</a><a href=\"http://pudongnews.eastday.com/\" target=\"_blank\">浦东新闻网</a><a href=\"http://www.hgdaily.com.cn/\" target=\"_blank\">黄冈新闻网</a></p></div>\\n\\t\\t<!--information-->\\n        <div class=\"layout information cf\">\\n<p><a href=\"http://www.people.com.cn/GB/1018/22259/index.html\" target=\"_blank\">人民日报社概况</a>\\n    <span class=\"xian\">|</span>\\n    <a href=\"http://www.people.com.cn/GB/50142/420117/index.html\" target=\"_blank\">关于人民网</a>\\n    <span class=\"xian\">|</span>\\n    <a href=\"http://hr.peopledaily.com.cn/\" target=\"_blank\">报社招聘</a>\\n    <span class=\"xian\">|</span>\\n    <a href=\"http://job.people.com.cn/\" target=\"_blank\">招聘英才</a>\\n    <span class=\"xian\">|</span>\\n    <a href=\"http://www.people.com.cn/GB/208743/403202/index.html\" target=\"_blank\">广告服务</a>\\n    <span class=\"xian\">|</span>\\n    <a href=\"http://www.people.com.cn/GB/208743/403202/403212/index.html\" target=\"_blank\">合作加盟</a>\\n    <span class=\"xian\">|</span>\\n    <a href=\"http://gonggao.people.com.cn/\" target=\"_blank\">供稿服务</a>\\n    <span class=\"xian\">|</span>\\n    <a href=\"http://data.people.com.cn/\" target=\"_blank\">数据服务</a>\\n    <span class=\"xian\">|</span>\\n    <a href=\"http://www.people.com.cn/n/2013/1227/c373005-23961344.html\" target=\"_blank\">网站声明</a>\\n    <span class=\"xian\">|</span>\\n    <a href=\"http://www.people.com.cn/n1/2019/0308/c420117-30965009.html\" target=\"_blank\">网站律师</a>\\n    <span class=\"xian\">|</span>\\n    <a href=\"http://sso.people.com.cn/resource/html/userInforPro.html\" target=\"_blank\">信息保护</a>\\n    <span class=\"xian\">|</span>\\n    <a href=\"http://kf.people.com.cn/\" target=\"_blank\">联系我们</a>    \\n</p>\\n<p>人民日报违法和不良信息举报电话：010-65363263&nbsp;&nbsp;&nbsp;&nbsp;举报邮箱：<a href=\"mailto:jubao@people.cn\" target=\"_blank\">jubao@people.cn</a></p>\\n<p>人民网服务邮箱：<a href=\"mailto:kf@people.cn\" target=\"_blank\">kf@people.cn</a>&nbsp;&nbsp;&nbsp;&nbsp;违法和不良信息举报电话：010-65363636&nbsp;&nbsp;&nbsp;&nbsp;举报邮箱：<a href=\"mailto:rmwjubao@people.cn\" target=\"_blank\">rmwjubao@people.cn</a></p>\\n<p><a href=\"http://www.people.com.cn/img/2014xuke/2018hlwxw.html\" target=\"_blank\">互联网新闻信息服务许可证10120170001</a>&nbsp;&nbsp;|&nbsp;&nbsp;<a href=\"http://www.people.com.cn/img/2014xuke/2018zzdxxkz.html\" target=\"_blank\">增值电信业务经营许可证B1-20060139</a>&nbsp;&nbsp;|&nbsp;&nbsp;<a href=\"http://www.people.com.cn/img/2019peopleindex/html/gbds2019.html\" target=\"_blank\">广播电视节目制作经营许可证（广媒）字第172号</a></p>\\n<p><a href=\"http://www.people.com.cn/img/2011zzzs/2018xxwlcb.htm\" target=\"_blank\">信息网络传播视听节目许可证0104065</a>&nbsp;|&nbsp;<a href=\"http://www.people.com.cn/img/2014xuke/2018wlwh.html\" target=\"_blank\">网络文化经营许可证 京网文[2020]5494-1075号</a>&nbsp;|&nbsp;<a href=\"http://www.people.com.cn/img/2014xuke/2018wlcb.html\" target=\"_blank\">网络出版服务许可证（京）字121号</a>&nbsp;|&nbsp;<a href=\"http://www.people.com.cn/img/2014xuke/2018icp.html\" target=\"_blank\">京ICP证000006号</a>&nbsp;|&nbsp;<a href=\"http://www.beian.gov.cn/portal/registerSystemInfo?recordcode=11000002000008\" target=\"_blank\">京公网安备11000002000008号</a></p>\\n<p class=\"copyright\">\\n人 民 网 版 权 所 有 ，未 经 书 面 授 权 禁 止 使 用<br />\\nCopyright &copy; 1997-2022 by www.people.com.cn. all rights reserved\\n</p>\\n<p class=\"attestation\">\\n<a href=\"http://www.piyao.org.cn/\" target=\"_blank\"><img src=\"/img/2020peopleindex/img/copy_py2.png\" width=\"175\" alt=\"\"></a>\\n<a href=\"http://www.people.com.cn/img/2014xuke/2018icp.html\" target=\"_blank\"><img src=\"/img/2020peopleindex/img/copy_icon1.png\" alt=\"\"></a>\\n<a href=\"https://ss.knet.cn/verifyseal.dll?sn=e12050911010020686307708&ct=df&a=1&pa=980951\" target=\"_blank\"><img src=\"/img/2020peopleindex/img/copy_icon2.png\" alt=\"\"></a>\\n<a href=\"http://si.trustutn.org/info?sn=470170320027574551118&certType=1\" target=\"_blank\"><img src=\"/img/2020peopleindex/img/copy_icon3.png\" alt=\"\"></a>\\n<a href=\"http://www.itrust.org.cn/home/index/itrust_certifi/wm/2710933198.html\" target=\"_blank\"><img src=\"/img/2020peopleindex/img/copy_icon4.png\" alt=\"\"></a>\\n<a href=\"#\"><img src=\"/img/2020peopleindex/img/wzahg.png\" alt=\"\"></a>\\n</p>\\n</div>\\n\\t</div>\\n\\t<div class=\"nav_mask cf\"></div>\\n</div>\\n<style type=\"text/css\">\\n.topb{position:fixed; bottom:80px; right:20px;font-size:18px; font-family:\"Microsoft YaHei\";background:url(http://www.people.com.cn/img/2020peopleindex/img/topb.png) no-repeat top center; width:90px; height:50px; line-height:50px; padding-left:40px;cursor:pointer; display:none;z-index:111}\\n.topb:hover{color:#fff;background:url(http://www.people.com.cn/img/2020peopleindex/img/topba.png) no-repeat top center;}\\n</style><div class=\"topb\">返回顶部</div><script type=\"text/javascript\">\\n$(document).ready(function() {\\n\\t$(document).scroll(function(){\\n\\t\\tvar bkTop=$(this).scrollTop();\\n\\t\\tif(bkTop > 200){\\n\\t\\t\\t$(\".topb\").show()\\n\\t\\t}\\n\\t\\telse{\\n\\t\\t\\t$(\".topb\").hide()\\t\\n\\t\\t}\\t\\t\\t\\n\\t})\\t\\n\\t$(\".topb\").click(function(){\\n        $(\\'html , body\\').animate({scrollTop: 0},500);\\n    });\\t\\n});\\n</script>\\n<script src=\"http://www.people.com.cn/img/2020fenxiang/js/share_qr2020.js\" type=\"text/javascript\" charset=\"utf-8\"></script>\\n<script src=\"/img/LOCAL/2016/09/112887/js/jcarousellite.js\" type=\"text/javascript\"></script>\\n<script type=\"text/javascript\" src=\"http://unn.people.com.cn/GB/399635/index.html\" charset=\"gbk\"></script>\\n<script src=\"http://www.people.com.cn/img/2020peopleindex/js/main202201.js\" charset=\"utf-8\" type=\"text/javascript\"></script>\\n<script src=\"http://www.people.com.cn/img/2020peopleindex/js/rmwtyn2.js\" charset=\"utf-8\" type=\"text/javascript\"></script>\\n<script src=\"http://tv.people.com.cn/img/player/v.js\" type=\"text/javascript\"></script>\\n<script src=\"http://www.people.com.cn/img/2020peopleindex/js/slide20201216.js\" charset=\"utf-8\" type=\"text/javascript\"></script>\\n<script type=\"text/javascript\">\\nfunction playVideo (id) {\\n\\t// 找到最近的名为tvplayshow播放窗口\\n\\tvar event = event || window.event\\n\\tvar target = event.target || event.srcElement\\n\\tvar box = $(target).parents(\\'.picWrap1\\')[0]\\n\\tvar videoBox = box.querySelector(\\'.tvplayshow\\')\\n\\tvar sliderBox = box.querySelector(\\'.people-slide\\') || box\\n\\tvar mainSlide = slideBoxList[sliderBox.getAttribute(\\'boxindex\\')]\\n\\t// 显示\\n\\tvideoBox.style.display = \\'block\\'\\n\\t// 停止自动轮播\\n\\tif (mainSlide) mainSlide.stopAutoPlay()\\n\\tmainSlide.isBusy = true\\n\\tif (id.substr(0, 4) == \\'http\\') {\\n\\t\\tvideoBox.querySelector(\\'.video-play\\').innerHTML = \\'<video src=\"\\' + id +\\'\" autobuffer\"></video>\\'\\n\\t\\tsetTimeout(function(){\\n\\t\\t\\tvideoBox.querySelector(\\'video\\').play()\\n\\t\\t}, 0);\\n\\t} else {\\n\\t\\tshowPlayerBox({\\n\\t\\t\\tid: id,\\n\\t\\t\\twidth: box.offsetWidth,\\n\\t\\t\\theight: box.offsetHeight,\\n\\t\\t\\t// 播放视频的盒子\\n\\t\\t\\tbox: videoBox.querySelector(\\'.video-play\\')\\n\\t\\t});\\n\\t}\\t\\n}\\nfunction stopVideoPlay () {\\n\\t// 找到最近的名为tvplayshow播放窗口\\n\\tvar event = event || window.event\\n\\tvar target = event.target || event.srcElement\\n\\tvar box = $(target).parents(\\'.picWrap1\\')[0]\\n\\tvar videoBox = box.querySelector(\\'.tvplayshow\\')\\n\\tvar sliderBox = box.querySelector(\\'.people-slide\\') || box\\n\\tvar mainSlide = slideBoxList[sliderBox.getAttribute(\\'boxindex\\')]\\n\\t// 显示\\n\\tvideoBox.style.display = \\'none\\'\\n\\tvideoBox.querySelector(\\'.video-play\\').innerHTML = \\'\\'\\n\\tmainSlide.isBusy = false\\n\\t// 开启自动轮播\\n\\tif (mainSlide) mainSlide.startAutoPlay(3000)\\n}\\nvar mainSlide;\\n$(function () {\\n\\tif ($(\".picWrap1\")[0]){\\n\\t\\tmainSlide = new Slide($(\".picWrap1\")[0], \\'.swiper-wrapper\\', \\'.swiper-slide\\', {\\n\\t\\t\\t// 自动播放间隔\\n\\t\\t\\t autoPlay:4000,\\n\\t\\t\\t// 切换下一个轮播图的class或ID\\n\\t\\t\\tnextEl: \"#next1\",\\n\\t\\t\\t// 切换上一个轮播图的class或ID\\n\\t\\t\\tprevEl: \"#prev1\",\\n\\t\\t\\t// 数字分页器\\n\\t\\t\\tnumberPaginationEL: \".num1 i\",\\n\\t\\t})\\t\\n\\t\\tvar rtime;\\n\\t\\tvar timeout = false;\\n\\t\\tvar delta = 200;\\n\\t\\t$(window).resize(function() {\\n\\t\\t\\t\\trtime = new Date();\\n\\t\\t\\t\\tif (timeout === false) {\\n\\t\\t\\t\\t\\t\\ttimeout = true;\\n\\t\\t\\t\\t\\t\\tsetTimeout(resizeend, delta);\\n\\t\\t\\t\\t}\\n\\t\\t});\\n\\t}\\n\\tfunction resizeend() {\\n\\t\\tif (new Date() - rtime < delta) {\\n\\t\\t\\tsetTimeout(resizeend, delta);\\n\\t\\t} else {\\n\\t\\t\\ttimeout = false;\\n\\t\\t\\tmainSlide.resize()\\n\\t\\t}               \\n\\t}\\n})\\n</script>\\n<script src=\"http://tools.people.com.cn/css/2010tianrun/webdig_test.js\" language=\"javascript\" type=\"text/javascript\" async></script>\\n<script type=\"text/javascript\" src=\"http://log.people.cn/open/js/embedding-3.0.3-min.js\"></script>\\n<script src=\"http://www.people.com.cn/img/2020peopleindex/js/embed-0.1.js\" charset=\"utf-8\" type=\"text/javascript\"></script>\\n<script src=\"http://www.people.com.cn/img/2020peopleindex/js/ief.js\" charset=\"utf-8\" type=\"text/javascript\"></script>\\n<script type=\"text/javascript\" src=\"http://log.people.cn/open/js/embedding-pc-clickheat-3.0.3-min.js\"></script>\\n<!--nogg-->\\n<style type=\"text/css\">\\n.picWrap1{background:url(/img/2020peopleindex/img/tubiao/ggtbz.png) no-repeat left top;}\\n.ggtl{background:url(/img/2020peopleindex/img/tubiao/ggtb.png) no-repeat left 20px;}\\n.bav .col-1 .fl{background:url(/img/2020peopleindex/img/tubiao/ggtbz.png) no-repeat left top;min-width:30px;min-height:17px;}\\n.bav .col-1 .fr{background:url(/img/2020peopleindex/img/tubiao/ggtbz.png) no-repeat left top;min-width:30px;min-height:17px;}\\n@media screen and (max-width: 1279px){\\n.ggtl,.bav .col-1 .fl,.bav .col-1 .fr{ max-height:110px;background-size:cover;}\\n}\\n</style>\\n<script>\\n$(document).ready(function() {    \\n\\t$(\".ggtl\").each(function(index, element) {\\n\\t   if($(this).find(\\'img\\').length > 0){\\n\\t\\t   var index1=$(\".ggtl\").index(this);\\n\\t\\t   $(\".ggtl\").eq(index1).css(\"height\",\"135px\");\\n\\t\\t}\\n    });\\n});\\n</script>\\n<script defer async type=\"text/javascript\" src=\"http://tools.people.com.cn/wza/assist.js?sid=2716&pos=left&bar=0\"></script>\\n</body>\\n</html>'"
      ]
     },
     "execution_count": 43,
     "metadata": {},
     "output_type": "execute_result"
    }
   ],
   "source": [
    "res.text"
   ]
  },
  {
   "cell_type": "code",
   "execution_count": null,
   "id": "b57865be",
   "metadata": {},
   "outputs": [],
   "source": []
  }
 ],
 "metadata": {
  "kernelspec": {
   "display_name": "Python 3 (ipykernel)",
   "language": "python",
   "name": "python3"
  },
  "language_info": {
   "codemirror_mode": {
    "name": "ipython",
    "version": 3
   },
   "file_extension": ".py",
   "mimetype": "text/x-python",
   "name": "python",
   "nbconvert_exporter": "python",
   "pygments_lexer": "ipython3",
   "version": "3.10.2"
  }
 },
 "nbformat": 4,
 "nbformat_minor": 5
}
