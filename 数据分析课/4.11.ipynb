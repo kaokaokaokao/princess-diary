{
 "cells": [
  {
   "cell_type": "code",
   "execution_count": 2,
   "id": "193c57a8",
   "metadata": {},
   "outputs": [],
   "source": [
    "import pandas as pd\n",
    "import numpy as np"
   ]
  },
  {
   "cell_type": "code",
   "execution_count": 3,
   "id": "fa2a0b74",
   "metadata": {},
   "outputs": [
    {
     "data": {
      "text/plain": [
       "0     4\n",
       "1    11\n",
       "2    16\n",
       "3     5\n",
       "4    12\n",
       "5    12\n",
       "6    14\n",
       "7    11\n",
       "8     1\n",
       "9     8\n",
       "dtype: int64"
      ]
     },
     "execution_count": 3,
     "metadata": {},
     "output_type": "execute_result"
    }
   ],
   "source": [
    "pd.Series(np.random.randint(1,20,10))"
   ]
  },
  {
   "cell_type": "code",
   "execution_count": 4,
   "id": "e2a9aabb",
   "metadata": {},
   "outputs": [
    {
     "data": {
      "text/plain": [
       "A    17\n",
       "B    14\n",
       "C    13\n",
       "dtype: int64"
      ]
     },
     "execution_count": 4,
     "metadata": {},
     "output_type": "execute_result"
    }
   ],
   "source": [
    "pd.Series(np.random.randint(1,20,3),index=['A','B','C'])"
   ]
  },
  {
   "cell_type": "code",
   "execution_count": 44,
   "id": "acee493d",
   "metadata": {},
   "outputs": [],
   "source": [
    "s = pd.Series({'语文':40,'数学':98,'英语':100,'python':89})"
   ]
  },
  {
   "cell_type": "code",
   "execution_count": 45,
   "id": "939940e4",
   "metadata": {},
   "outputs": [
    {
     "data": {
      "text/plain": [
       "array([ 40,  98, 100,  89])"
      ]
     },
     "execution_count": 45,
     "metadata": {},
     "output_type": "execute_result"
    }
   ],
   "source": [
    "np.array(s)"
   ]
  },
  {
   "cell_type": "code",
   "execution_count": 46,
   "id": "11ea6880",
   "metadata": {},
   "outputs": [
    {
     "data": {
      "text/plain": [
       "array([ 40,  98, 100,  89])"
      ]
     },
     "execution_count": 46,
     "metadata": {},
     "output_type": "execute_result"
    }
   ],
   "source": [
    "s.values"
   ]
  },
  {
   "cell_type": "code",
   "execution_count": 48,
   "id": "6d3e1dfe",
   "metadata": {},
   "outputs": [
    {
     "data": {
      "text/plain": [
       "Index(['语文', '数学', '英语', 'python'], dtype='object')"
      ]
     },
     "execution_count": 48,
     "metadata": {},
     "output_type": "execute_result"
    }
   ],
   "source": [
    "s.index"
   ]
  },
  {
   "cell_type": "code",
   "execution_count": 49,
   "id": "bb5886e5",
   "metadata": {},
   "outputs": [
    {
     "data": {
      "text/plain": [
       "dtype('int64')"
      ]
     },
     "execution_count": 49,
     "metadata": {},
     "output_type": "execute_result"
    }
   ],
   "source": [
    "s.dtype"
   ]
  },
  {
   "cell_type": "code",
   "execution_count": 50,
   "id": "17a02b29",
   "metadata": {},
   "outputs": [
    {
     "data": {
      "text/plain": [
       "(4,)"
      ]
     },
     "execution_count": 50,
     "metadata": {},
     "output_type": "execute_result"
    }
   ],
   "source": [
    "s.shape"
   ]
  },
  {
   "cell_type": "code",
   "execution_count": 51,
   "id": "f42058e9",
   "metadata": {},
   "outputs": [
    {
     "data": {
      "text/plain": [
       "4"
      ]
     },
     "execution_count": 51,
     "metadata": {},
     "output_type": "execute_result"
    }
   ],
   "source": [
    "s.size"
   ]
  },
  {
   "cell_type": "code",
   "execution_count": 52,
   "id": "b443382c",
   "metadata": {},
   "outputs": [
    {
     "data": {
      "text/plain": [
       "1"
      ]
     },
     "execution_count": 52,
     "metadata": {},
     "output_type": "execute_result"
    }
   ],
   "source": [
    "s.ndim"
   ]
  },
  {
   "cell_type": "code",
   "execution_count": 53,
   "id": "eb891e48",
   "metadata": {},
   "outputs": [
    {
     "data": {
      "text/plain": [
       "40"
      ]
     },
     "execution_count": 53,
     "metadata": {},
     "output_type": "execute_result"
    }
   ],
   "source": [
    "s['语文']\n",
    "s[0]"
   ]
  },
  {
   "cell_type": "code",
   "execution_count": 54,
   "id": "925f961f",
   "metadata": {},
   "outputs": [
    {
     "data": {
      "text/plain": [
       "语文     40\n",
       "英语    100\n",
       "dtype: int64"
      ]
     },
     "execution_count": 54,
     "metadata": {},
     "output_type": "execute_result"
    }
   ],
   "source": [
    "s[[0,2]]"
   ]
  },
  {
   "cell_type": "code",
   "execution_count": 55,
   "id": "5f95a3b4",
   "metadata": {},
   "outputs": [
    {
     "data": {
      "text/plain": [
       "语文    40\n",
       "数学    98\n",
       "dtype: int64"
      ]
     },
     "execution_count": 55,
     "metadata": {},
     "output_type": "execute_result"
    }
   ],
   "source": [
    "s[0:2]"
   ]
  },
  {
   "cell_type": "code",
   "execution_count": 56,
   "id": "b384c0d5",
   "metadata": {},
   "outputs": [
    {
     "data": {
      "text/plain": [
       "英语    100\n",
       "数学     98\n",
       "dtype: int64"
      ]
     },
     "execution_count": 56,
     "metadata": {},
     "output_type": "execute_result"
    }
   ],
   "source": [
    "s.nlargest(2)"
   ]
  },
  {
   "cell_type": "code",
   "execution_count": 57,
   "id": "d1caf72f",
   "metadata": {},
   "outputs": [
    {
     "data": {
      "text/plain": [
       "'英语'"
      ]
     },
     "execution_count": 57,
     "metadata": {},
     "output_type": "execute_result"
    }
   ],
   "source": [
    "s.idxmax()# 最大值的索引"
   ]
  },
  {
   "cell_type": "code",
   "execution_count": 58,
   "id": "d1ff4a38",
   "metadata": {},
   "outputs": [
    {
     "data": {
      "text/plain": [
       "40     1\n",
       "98     1\n",
       "100    1\n",
       "89     1\n",
       "dtype: int64"
      ]
     },
     "execution_count": 58,
     "metadata": {},
     "output_type": "execute_result"
    }
   ],
   "source": [
    "s.value_counts()# 词频统计"
   ]
  },
  {
   "cell_type": "code",
   "execution_count": 59,
   "id": "1a15ed94",
   "metadata": {},
   "outputs": [
    {
     "data": {
      "text/plain": [
       "语文        38\n",
       "数学        96\n",
       "英语        98\n",
       "python    87\n",
       "dtype: int64"
      ]
     },
     "execution_count": 59,
     "metadata": {},
     "output_type": "execute_result"
    }
   ],
   "source": [
    "s -= 2 # 标量运算\n",
    "s"
   ]
  },
  {
   "cell_type": "code",
   "execution_count": 60,
   "id": "36ef67f6",
   "metadata": {},
   "outputs": [
    {
     "data": {
      "text/plain": [
       "语文        False\n",
       "数学         True\n",
       "英语         True\n",
       "python    False\n",
       "dtype: bool"
      ]
     },
     "execution_count": 60,
     "metadata": {},
     "output_type": "execute_result"
    }
   ],
   "source": [
    "# 条件筛选\n",
    "s > 90"
   ]
  },
  {
   "cell_type": "code",
   "execution_count": 61,
   "id": "ee8db2c1",
   "metadata": {},
   "outputs": [
    {
     "data": {
      "text/plain": [
       "数学    96\n",
       "英语    98\n",
       "dtype: int64"
      ]
     },
     "execution_count": 61,
     "metadata": {},
     "output_type": "execute_result"
    }
   ],
   "source": [
    "s[s>=s.median()]"
   ]
  },
  {
   "cell_type": "code",
   "execution_count": 62,
   "id": "3554df2c",
   "metadata": {},
   "outputs": [
    {
     "data": {
      "text/plain": [
       "语文        False\n",
       "数学        False\n",
       "英语         True\n",
       "python    False\n",
       "dtype: bool"
      ]
     },
     "execution_count": 62,
     "metadata": {},
     "output_type": "execute_result"
    }
   ],
   "source": [
    "s.isin([92,98])"
   ]
  },
  {
   "cell_type": "code",
   "execution_count": 63,
   "id": "51b54245",
   "metadata": {},
   "outputs": [
    {
     "data": {
      "text/plain": [
       "Index(['语文', '数学', '英语', 'python'], dtype='object')"
      ]
     },
     "execution_count": 63,
     "metadata": {},
     "output_type": "execute_result"
    }
   ],
   "source": [
    "s_index = s.index\n",
    "s_index"
   ]
  },
  {
   "cell_type": "code",
   "execution_count": 64,
   "id": "60e92809",
   "metadata": {},
   "outputs": [
    {
     "data": {
      "text/plain": [
       "Index(['数学'], dtype='object')"
      ]
     },
     "execution_count": 64,
     "metadata": {},
     "output_type": "execute_result"
    }
   ],
   "source": [
    "s_index[s_index.str.contains('学')]"
   ]
  },
  {
   "cell_type": "code",
   "execution_count": 69,
   "id": "33f3b0c1",
   "metadata": {},
   "outputs": [
    {
     "data": {
      "text/plain": [
       "Index(['python'], dtype='object')"
      ]
     },
     "execution_count": 69,
     "metadata": {},
     "output_type": "execute_result"
    }
   ],
   "source": [
    "s_index[s_index.str.match('[a-z]+')]"
   ]
  },
  {
   "cell_type": "code",
   "execution_count": 124,
   "id": "45028933",
   "metadata": {},
   "outputs": [],
   "source": [
    "with open('/Users/hukeer/Downloads/series素材/政府工作报告.txt') as f:\n",
    "    report_text = f.read()"
   ]
  },
  {
   "cell_type": "code",
   "execution_count": 125,
   "id": "c376e84c",
   "metadata": {},
   "outputs": [],
   "source": [
    "import jieba as jb\n",
    "import wordcloud as wc\n",
    "import matplotlib.pyplot as plt"
   ]
  },
  {
   "cell_type": "code",
   "execution_count": 126,
   "id": "348f2893",
   "metadata": {},
   "outputs": [],
   "source": [
    "report = jb.lcut(report_text)"
   ]
  },
  {
   "cell_type": "code",
   "execution_count": 139,
   "id": "b54d36c0",
   "metadata": {},
   "outputs": [
    {
     "data": {
      "text/plain": [
       "<wordcloud.wordcloud.WordCloud at 0x294fc5660>"
      ]
     },
     "execution_count": 139,
     "metadata": {},
     "output_type": "execute_result"
    }
   ],
   "source": [
    "s = pd.Series(report)\n",
    "frequency = s.value_counts()\n",
    "image1 = plt.imread('/Users/hukeer/Downloads/series素材/ditu.jpg')\n",
    "image2 = plt.imread('/Users/hukeer/Downloads/series素材/shijian.jpg')\n",
    "w = wc.WordCloud(background_color='white',\n",
    "                 font_path='/Users/hukeer/Library/Fonts/方正细黑一简体.ttf',\n",
    "                 width=1000,\n",
    "                 height=1000,\n",
    "                 color_func=lambda *args, **kwargs:'darkblue',\n",
    "                 mask=image2)\n",
    "w.generate_from_frequencies(frequency)\n",
    "w.to_file('/Users/hukeer/Downloads/series素材/report2.png')"
   ]
  },
  {
   "cell_type": "code",
   "execution_count": 128,
   "id": "8c211d12",
   "metadata": {},
   "outputs": [],
   "source": [
    "with open('/Users/hukeer/Downloads/series素材/stopwords.txt') as f1:\n",
    "    stop_words = f1.read()"
   ]
  },
  {
   "cell_type": "code",
   "execution_count": 145,
   "id": "8f60b812",
   "metadata": {},
   "outputs": [
    {
     "data": {
      "text/plain": [
       "<wordcloud.wordcloud.WordCloud at 0x295f0b670>"
      ]
     },
     "execution_count": 145,
     "metadata": {},
     "output_type": "execute_result"
    }
   ],
   "source": [
    "words = ''\n",
    "for kword in set(s):\n",
    "    if kword not in stop_words:\n",
    "        words += kword\n",
    "report2 = jb.lcut(words)\n",
    "s2 = pd.Series(report2)\n",
    "frequency2 = s2.value_counts()\n",
    "w1 = wc.WordCloud(background_color = 'white',\n",
    "                 font_path = '/Users/hukeer/Library/Fonts/方正细黑一简体.ttf',\n",
    "                 width = 1000,\n",
    "                 height = 1000,\n",
    "                 color_func = lambda *args, **kwargs:'lightgreen',\n",
    "                 mask = image2)\n",
    "w1.generate_from_frequencies(frequency2)\n",
    "w1.to_file('/Users/hukeer/Downloads/series素材/report2.png')"
   ]
  },
  {
   "cell_type": "code",
   "execution_count": null,
   "id": "e9a75ba3",
   "metadata": {},
   "outputs": [],
   "source": []
  },
  {
   "cell_type": "code",
   "execution_count": null,
   "id": "a2439389",
   "metadata": {},
   "outputs": [],
   "source": []
  }
 ],
 "metadata": {
  "kernelspec": {
   "display_name": "Python 3 (ipykernel)",
   "language": "python",
   "name": "python3"
  },
  "language_info": {
   "codemirror_mode": {
    "name": "ipython",
    "version": 3
   },
   "file_extension": ".py",
   "mimetype": "text/x-python",
   "name": "python",
   "nbconvert_exporter": "python",
   "pygments_lexer": "ipython3",
   "version": "3.10.2"
  }
 },
 "nbformat": 4,
 "nbformat_minor": 5
}
