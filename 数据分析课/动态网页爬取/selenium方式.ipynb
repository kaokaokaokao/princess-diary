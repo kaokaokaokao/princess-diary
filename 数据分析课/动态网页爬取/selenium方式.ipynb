{
 "cells": [
  {
   "cell_type": "code",
   "execution_count": 1,
   "id": "practical-athletics",
   "metadata": {},
   "outputs": [],
   "source": [
    "from selenium import webdriver"
   ]
  },
  {
   "cell_type": "code",
   "execution_count": 3,
   "id": "bored-boards",
   "metadata": {},
   "outputs": [],
   "source": [
    "from lxml import etree"
   ]
  },
  {
   "cell_type": "code",
   "execution_count": 5,
   "id": "preceding-edgar",
   "metadata": {
    "collapsed": true
   },
   "outputs": [
    {
     "data": {
      "text/plain": [
       "[' ',\n",
       " '看懂芯片原来这么简单 漫画版',\n",
       " ' ',\n",
       " 'HCIA-Datacom 网络技术实验指南',\n",
       " ' ',\n",
       " '中文版Photoshop 2022完全自学教程',\n",
       " ' ',\n",
       " 'Excel+Python 飞速搞定数据分析与处理',\n",
       " ' ',\n",
       " '微服务实战',\n",
       " ' ',\n",
       " '区块链技术及应用',\n",
       " ' ',\n",
       " 'CPU通识课',\n",
       " ' ',\n",
       " '动手学强化学习']"
      ]
     },
     "execution_count": 5,
     "metadata": {},
     "output_type": "execute_result"
    }
   ],
   "source": [
    "driver = webdriver.Chrome()\n",
    "driver.get('https://www.ptpress.com.cn/')\n",
    "html = driver.page_source\n",
    "dom = etree.HTML(driver.page_source)\n",
    "lst_x = []\n",
    "lst_x.extend(dom.xpath('//*[@id=\"newBook\"]/div[@class=\"main\"]/div[@class=\"list\"]/div[@class=\"item\"]//text()'))\n",
    "lst_x\n"
   ]
  },
  {
   "cell_type": "code",
   "execution_count": 8,
   "id": "embedded-artist",
   "metadata": {},
   "outputs": [
    {
     "data": {
      "text/plain": [
       "['看懂芯片原来这么简单 漫画版',\n",
       " 'HCIA-Datacom 网络技术实验指南',\n",
       " '中文版Photoshop 2022完全自学教程',\n",
       " 'Excel+Python 飞速搞定数据分析与处理',\n",
       " '微服务实战',\n",
       " '区块链技术及应用',\n",
       " 'CPU通识课',\n",
       " '动手学强化学习']"
      ]
     },
     "execution_count": 8,
     "metadata": {},
     "output_type": "execute_result"
    }
   ],
   "source": [
    "lst=[]\n",
    "[lst.append(i)  for i in lst_x if i!= ' ']\n",
    "lst    "
   ]
  },
  {
   "cell_type": "code",
   "execution_count": null,
   "id": "immune-magnet",
   "metadata": {},
   "outputs": [],
   "source": []
  }
 ],
 "metadata": {
  "kernelspec": {
   "display_name": "Python 3",
   "language": "python",
   "name": "python3"
  },
  "language_info": {
   "codemirror_mode": {
    "name": "ipython",
    "version": 3
   },
   "file_extension": ".py",
   "mimetype": "text/x-python",
   "name": "python",
   "nbconvert_exporter": "python",
   "pygments_lexer": "ipython3",
   "version": "3.8.7"
  }
 },
 "nbformat": 4,
 "nbformat_minor": 5
}
